{
 "cells": [
  {
   "cell_type": "markdown",
   "metadata": {},
   "source": [
    "# Spam\n",
    "A partir de la base de datos de spam con vectores de características de 2000 dimensiones contenidasen el archivo\n",
    "spam.csv:\n",
    "\n",
    "* Entrena diferentes clasificadores despam usando clasificadores bayesianos ingenuos con distintas distribuciones\n",
    "* Binariza los vectores de características y entrena los mismos clasificadores con esta representación\n",
    "* Evalúa los clasificadores entrenados usando tanto los mismos datos de entrenamiento como datos distintos\n",
    "* Reporta y explica el desempeño de los diferentes clasificadores\n",
    "\n",
    "El archivo spam.csv contiene 2001 atributos por cada renglón, de los cuales los primeros 2000 corresponden al vector de características de un correo y el  ́ultimo corresponde a la clase, esto es, 1 si es spam y 0 si no lo es. "
   ]
  },
  {
   "cell_type": "code",
   "execution_count": null,
   "metadata": {
    "collapsed": true
   },
   "outputs": [],
   "source": []
  }
 ],
 "metadata": {
  "kernelspec": {
   "display_name": "Python 2",
   "language": "python",
   "name": "python2"
  },
  "language_info": {
   "codemirror_mode": {
    "name": "ipython",
    "version": 2
   },
   "file_extension": ".py",
   "mimetype": "text/x-python",
   "name": "python",
   "nbconvert_exporter": "python",
   "pygments_lexer": "ipython2",
   "version": "2.7.12"
  }
 },
 "nbformat": 4,
 "nbformat_minor": 2
}
