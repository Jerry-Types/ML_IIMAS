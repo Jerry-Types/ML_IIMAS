{
 "cells": [
  {
   "cell_type": "markdown",
   "metadata": {},
   "source": [
    "# Cáncer de seno\n",
    "\n",
    "**Descripción:**\n",
    "\n",
    "Entrena distintos clasificadores de tumores de seno usando clasificadores bayesianos ingenuos con\n",
    "distintas distribuciones a partir de la base de datos de cáncer de seno de Wisconsin.Esta base de\n",
    "datos contiene 699 registros de tumores de seno, de los cuales 458 son benignos y 241 son malignos."
   ]
  },
  {
   "cell_type": "code",
   "execution_count": 14,
   "metadata": {
    "collapsed": false
   },
   "outputs": [],
   "source": [
    "%matplotlib notebook\n",
    "import matplotlib.pyplot as plt\n",
    "import numpy as np\n",
    "import pandas as pd\n",
    "from sklearn.naive_bayes import MultinomialNB,GaussianNB\n",
    "from pandas.tools.plotting import scatter_matrix\n",
    "from sklearn import preprocessing\n",
    "\n",
    "#Carga de los datos:\n",
    "data_set = pd.read_csv(\"breast_cancer_wisconsin.data\",delimiter=\",\",header=None) \n"
   ]
  },
  {
   "cell_type": "markdown",
   "metadata": {},
   "source": [
    "### Descripción de las variables \n",
    "\n",
    "* 0 - Codigo de la muestra (ID)\n",
    "* 1 - Grosor del tumor.\n",
    "* 2 - Uniformidad del tamaño de la célula.\n",
    "* 3 - Uniformidad de la forma de la célula.\n",
    "* 4 - Adhesión marginal.\n",
    "* 5 - Tamaño de célula epitelial.\n",
    "* 6 - Núcleos desnudos.\n",
    "* 7 - Cromatina blanda.\n",
    "* 8 - Nucléodos normales.\n",
    "* 9 - Mitosis de células.\n",
    "* 10- Clase (2:Benigno,4:Maligno)"
   ]
  },
  {
   "cell_type": "code",
   "execution_count": 15,
   "metadata": {
    "collapsed": false
   },
   "outputs": [
    {
     "name": "stdout",
     "output_type": "stream",
     "text": [
      "        0   1   2   3   4   5   6   7   8   9   10\n",
      "0  1000025   5   1   1   1   2   1   3   1   1   2\n",
      "1  1002945   5   4   4   5   7  10   3   2   1   2\n",
      "2  1015425   3   1   1   1   2   2   3   1   1   2\n",
      "3  1016277   6   8   8   1   3   4   3   7   1   2\n",
      "4  1017023   4   1   1   3   2   1   3   1   1   2\n",
      "5  1017122   8  10  10   8   7  10   9   7   1   4\n",
      "6  1018099   1   1   1   1   2  10   3   1   1   2\n",
      "7  1018561   2   1   2   1   2   1   3   1   1   2\n",
      "8  1033078   2   1   1   1   2   1   1   1   5   2\n",
      "9  1033078   4   2   1   1   2   1   2   1   1   2\n"
     ]
    }
   ],
   "source": [
    "# Mostramos los primeros 10 registros de nuestro conjunto \n",
    "# de datos\n",
    "\n",
    "print data_set.head(10)"
   ]
  },
  {
   "cell_type": "code",
   "execution_count": 16,
   "metadata": {
    "collapsed": false
   },
   "outputs": [
    {
     "name": "stdout",
     "output_type": "stream",
     "text": [
      "El tamaño original de nuestro conjunto de datos es:\n",
      "(699, 11)\n",
      "La cantidad de registros con valores missing son 16:\n",
      "(16, 11)\n",
      "Al final nos quedamos con un conjunto de datos:\n",
      "(683, 11)\n"
     ]
    }
   ],
   "source": [
    "print \"El tamaño original de nuestro conjunto de datos es:\"\n",
    "print data_set.shape\n",
    "\n",
    "#Primero lo que haremos sera remplazar el valor de '?' por el valor de NaN\n",
    "data_set_reemplazo = data_set.replace('?',np.nan)\n",
    "\n",
    "# Se eliminan los registros que tienen algun Valor NAn\n",
    "data_set_sin_nan = data_set_reemplazo.dropna()\n",
    "# Obtengo los registros que elimine para ver como son.\n",
    "only_na = data_set_reemplazo[~data_set_reemplazo.index.isin(data_set_sin_nan.index)]\n",
    "\n",
    "print \"La cantidad de registros con valores missing son 16:\"\n",
    "print only_na.shape\n",
    "\n",
    "print \"Al final nos quedamos con un conjunto de datos:\"\n",
    "print data_set_sin_nan.shape"
   ]
  },
  {
   "cell_type": "markdown",
   "metadata": {
    "collapsed": true
   },
   "source": [
    "Ahora las variable que no vamos a considerar para nuestro clasificador sera la variable \n",
    "que tiene el identificador. Todas las variables restantes las vamos a utilizar con el hecho de haber quitado \n",
    "los registros que contenian valores missing. "
   ]
  },
  {
   "cell_type": "code",
   "execution_count": 17,
   "metadata": {
    "collapsed": false
   },
   "outputs": [
    {
     "name": "stdout",
     "output_type": "stream",
     "text": [
      "El porcentaje de aciertos es el siguiente:\n",
      "90.4831625183%\n"
     ]
    }
   ],
   "source": [
    "X = data_set_sin_nan.ix[:,1:9].as_matrix()\n",
    "y = data_set_sin_nan.ix[:,10].as_matrix()\n",
    "\n",
    "clf = MultinomialNB(alpha=1.0,class_prior = None,fit_prior = True)\n",
    "clf.fit(X, y)\n",
    "\n",
    "predicciones = clf.predict(X)\n",
    "\n",
    "predicciones = predicciones.astype(int)\n",
    "\n",
    "aciertos=0.0\n",
    "total_datos= float(data_set_sin_nan.shape[0])\n",
    "#print total_datos\n",
    "\n",
    "for ind in range(len(predicciones)):\n",
    "    if int(predicciones[ind])==int(y[ind]):\n",
    "        aciertos+=1\n",
    "\n",
    "\n",
    "#El porcentaje de aciertos es el siguiente:\n",
    "print \"El porcentaje de aciertos es el siguiente:\"\n",
    "print str((aciertos/total_datos)*100)+\"%\"\n"
   ]
  },
  {
   "cell_type": "code",
   "execution_count": 18,
   "metadata": {
    "collapsed": false
   },
   "outputs": [
    {
     "name": "stdout",
     "output_type": "stream",
     "text": [
      "El porcentaje de aciertos es el siguiente:\n",
      "96.3396778917%\n"
     ]
    }
   ],
   "source": [
    "X = data_set_sin_nan.ix[:,1:9].as_matrix()\n",
    "y = data_set_sin_nan.ix[:,10].as_matrix()\n",
    "\n",
    "clf = GaussianNB()\n",
    "clf.fit(X, y)\n",
    "\n",
    "predicciones = clf.predict(X)\n",
    "\n",
    "predicciones = predicciones.astype(int)\n",
    "\n",
    "aciertos=0.0\n",
    "total_datos= float(data_set_sin_nan.shape[0])\n",
    "#print total_datos\n",
    "\n",
    "for ind in range(len(predicciones)):\n",
    "    if int(predicciones[ind])==int(y[ind]):\n",
    "        aciertos+=1\n",
    "\n",
    "\n",
    "#El porcentaje de aciertos es el siguiente:\n",
    "print \"El porcentaje de aciertos es el siguiente:\"\n",
    "print str((aciertos/total_datos)*100)+\"%\""
   ]
  },
  {
   "cell_type": "markdown",
   "metadata": {},
   "source": [
    "Hasta el momento hemos considerado al conjunto de datos quitando los registros que tienen valores faltantes los cuales los podemos visualziar a continuacion: \n"
   ]
  },
  {
   "cell_type": "code",
   "execution_count": 19,
   "metadata": {
    "collapsed": false
   },
   "outputs": [
    {
     "name": "stdout",
     "output_type": "stream",
     "text": [
      "          0   1   2   3   4   5    6   7   8   9   10\n",
      "23   1057013   8   4   5   1   2  NaN   7   3   1   4\n",
      "40   1096800   6   6   6   9   6  NaN   7   8   1   2\n",
      "139  1183246   1   1   1   1   1  NaN   2   1   1   2\n",
      "145  1184840   1   1   3   1   2  NaN   2   1   1   2\n",
      "158  1193683   1   1   2   1   3  NaN   1   1   1   2\n",
      "164  1197510   5   1   1   1   2  NaN   3   1   1   2\n",
      "235  1241232   3   1   4   1   2  NaN   3   1   1   2\n",
      "249   169356   3   1   1   1   2  NaN   3   1   1   2\n",
      "275   432809   3   1   3   1   2  NaN   2   1   1   2\n",
      "292   563649   8   8   8   1   2  NaN   6  10   1   4\n",
      "294   606140   1   1   1   1   2  NaN   2   1   1   2\n",
      "297    61634   5   4   3   1   2  NaN   2   3   1   2\n",
      "315   704168   4   6   5   6   7  NaN   4   9   1   2\n",
      "321   733639   3   1   1   1   2  NaN   3   1   1   2\n",
      "411  1238464   1   1   1   1   1  NaN   2   1   1   2\n",
      "617  1057067   1   1   1   1   1  NaN   1   1   1   2\n"
     ]
    }
   ],
   "source": [
    "print only_na"
   ]
  },
  {
   "cell_type": "markdown",
   "metadata": {},
   "source": [
    "Como podemos observar los valores missing solo se encuentran en la columna que representa la cantidad de núcleos desnudos, una primer aproximación que podriamos proponer es el utilizar el promedio para llenar los valores faltantes considerando que ahora la cantidad registros con valores faltantes representa un 2.2% el cual es medianamente bajo podriamos usar el promedio, pero en caso de que la cantidad de registros con valores faltante sea un porcentaje alto del total podriamos elegir la mediana ya que si en  nuetro conjunto de datos tenemos valores outlier en cada una de las variables donde existan valoes missing lo que podria pasar es que nuestro estimador en este caso el promedio tenga un sesgo muy grande por lo tanto se recomendaria usar la\n",
    "mediana."
   ]
  },
  {
   "cell_type": "code",
   "execution_count": 20,
   "metadata": {
    "collapsed": false
   },
   "outputs": [
    {
     "name": "stdout",
     "output_type": "stream",
     "text": [
      "El calculo del promedio esta dada por lo siguiente\n"
     ]
    }
   ],
   "source": [
    "print \"El calculo del promedio esta dada por lo siguiente\"\n",
    "promedio_nucleos_desnudos = np.asarray(data_set_sin_nan.iloc[:,6], dtype=np.float).mean()"
   ]
  },
  {
   "cell_type": "markdown",
   "metadata": {
    "collapsed": true
   },
   "source": [
    "Ahora lo que haremos sera reemplazar el promedio por los valores faltantes y veremos como se comporta nuestro \n",
    "clasificador. "
   ]
  },
  {
   "cell_type": "code",
   "execution_count": 21,
   "metadata": {
    "collapsed": false
   },
   "outputs": [
    {
     "name": "stdout",
     "output_type": "stream",
     "text": [
      "El porcentaje de aciertos es el siguiente:\n",
      "95.8512160229%\n"
     ]
    }
   ],
   "source": [
    "#\n",
    "data_set_reemplazo_promedio = data_set.replace('?',promedio_nucleos_desnudos)\n",
    "\n",
    "X = data_set_reemplazo_promedio.ix[:,1:9].as_matrix()\n",
    "y = data_set_reemplazo_promedio.ix[:,10].as_matrix()\n",
    "\n",
    "\n",
    "clf = GaussianNB()\n",
    "clf.fit(X, y)\n",
    "\n",
    "predicciones = clf.predict(X)\n",
    "\n",
    "predicciones = predicciones.astype(int)\n",
    "\n",
    "aciertos=0.0\n",
    "total_datos= float(data_set_reemplazo_promedio.shape[0])\n",
    "#print total_datos\n",
    "\n",
    "for ind in range(len(predicciones)):\n",
    "    if int(predicciones[ind])==int(y[ind]):\n",
    "        aciertos+=1\n",
    "\n",
    "\n",
    "#El porcentaje de aciertos es el siguiente:\n",
    "print \"El porcentaje de aciertos es el siguiente:\"\n",
    "print str((aciertos/total_datos)*100)+\"%\""
   ]
  },
  {
   "cell_type": "markdown",
   "metadata": {},
   "source": [
    "Como nos damos cuenta el rendimiento de nuestro clasificador baja, lo que vamos hacer ahora es usar la \n",
    "mediana para llenar los valores faltantes. "
   ]
  },
  {
   "cell_type": "code",
   "execution_count": 22,
   "metadata": {
    "collapsed": false
   },
   "outputs": [
    {
     "name": "stdout",
     "output_type": "stream",
     "text": [
      "El calculo del promedio esta dada por lo siguiente\n",
      "1.0\n"
     ]
    }
   ],
   "source": [
    "print \"El calculo del promedio esta dada por lo siguiente\"\n",
    "mediana_nucleos_desnudos = np.median(np.asarray(data_set_sin_nan.iloc[:,6], dtype=np.float))\n",
    "print mediana_nucleos_desnudos"
   ]
  },
  {
   "cell_type": "code",
   "execution_count": 23,
   "metadata": {
    "collapsed": false
   },
   "outputs": [
    {
     "name": "stdout",
     "output_type": "stream",
     "text": [
      "El porcentaje de aciertos es el siguiente:\n",
      "95.9942775393%\n"
     ]
    }
   ],
   "source": [
    "data_set_reemplazo_mediana = data_set.replace('?',int(mediana_nucleos_desnudos))\n",
    "\n",
    "X = data_set_reemplazo_mediana.ix[:,1:9].as_matrix()\n",
    "y = data_set_reemplazo_mediana.ix[:,10].as_matrix()\n",
    "\n",
    "\n",
    "clf = GaussianNB()\n",
    "clf.fit(X, y)\n",
    "\n",
    "predicciones = clf.predict(X)\n",
    "\n",
    "predicciones = predicciones.astype(int)\n",
    "\n",
    "aciertos=0.0\n",
    "total_datos= float(data_set_reemplazo_mediana.shape[0])\n",
    "#print total_datos\n",
    "\n",
    "for ind in range(len(predicciones)):\n",
    "    if int(predicciones[ind])==int(y[ind]):\n",
    "        aciertos+=1\n",
    "\n",
    "\n",
    "#El porcentaje de aciertos es el siguiente:\n",
    "print \"El porcentaje de aciertos es el siguiente:\"\n",
    "print str((aciertos/total_datos)*100)+\"%\""
   ]
  },
  {
   "cell_type": "markdown",
   "metadata": {
    "collapsed": true
   },
   "source": [
    "# Conclusiones: \n",
    "\n",
    "En este caso vemos que la distribución que mejor se adapta a nuestro conjunto de datos es las distribución normal \n",
    "ya que nuestro conjunto se adapta a este tipo de distribución por otra parte al intentar llenar \n",
    "los valores missing nos damos cuenta de que podemos generar ruido en nuestro clasificador si no \n",
    "conocemos bien la distribución de la variable ya que agregando la mediana como el promedio para llenar estos \n",
    "valores el rendimiento de nuestro clasificador bajo.\n"
   ]
  }
 ],
 "metadata": {
  "kernelspec": {
   "display_name": "Python 2",
   "language": "python",
   "name": "python2"
  },
  "language_info": {
   "codemirror_mode": {
    "name": "ipython",
    "version": 2
   },
   "file_extension": ".py",
   "mimetype": "text/x-python",
   "name": "python",
   "nbconvert_exporter": "python",
   "pygments_lexer": "ipython2",
   "version": "2.7.12"
  }
 },
 "nbformat": 4,
 "nbformat_minor": 2
}
