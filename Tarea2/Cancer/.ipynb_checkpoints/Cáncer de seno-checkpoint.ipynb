{
 "cells": [
  {
   "cell_type": "markdown",
   "metadata": {},
   "source": [
    "# Cáncer de seno\n",
    "\n",
    "**Descripción:**\n",
    "\n",
    "Entrena distintos clasificadores de tumores de seno usando clasificadores bayesianos ingenuos con\n",
    "distintas distribuciones a partir de la base de datos de cáncer de seno de Wisconsin.Esta base de\n",
    "datos contiene 699 registros de tumores de seno, de los cuales 458 son benignos y 241 son malignos."
   ]
  },
  {
   "cell_type": "code",
   "execution_count": 28,
   "metadata": {
    "collapsed": false
   },
   "outputs": [],
   "source": [
    "%matplotlib notebook\n",
    "import matplotlib.pyplot as plt\n",
    "import numpy as np\n",
    "import pandas as pd\n",
    "from sklearn.naive_bayes import MultinomialNB,GaussianNB\n",
    "from pandas.tools.plotting import scatter_matrix\n",
    "from sklearn import preprocessing\n",
    "\n",
    "#Carga de los datos:\n",
    "data_set = pd.read_csv(\"breast_cancer_wisconsin.data\",delimiter=\",\",header=None) \n"
   ]
  },
  {
   "cell_type": "markdown",
   "metadata": {},
   "source": [
    "### Descripción de las variables \n",
    "\n",
    "* 0 - Codigo de la muestra (ID)\n",
    "* 1 - Grosor del tumor.\n",
    "* 2 - Uniformidad del tamaño de la célula.\n",
    "* 3 - Uniformidad de la forma de la célula.\n",
    "* 4 - Adhesión marginal.\n",
    "* 5 - Tamaño de célula epitelial.\n",
    "* 6 - Núcleos desnudos.\n",
    "* 7 - Cromatina blanda.\n",
    "* 8 - Nucléodos normales.\n",
    "* 9 - Mitosis de células.\n",
    "* 10- Clase (2:Benigno,4:Maligno)\n"
   ]
  },
  {
   "cell_type": "code",
   "execution_count": 29,
   "metadata": {
    "collapsed": false
   },
   "outputs": [
    {
     "name": "stdout",
     "output_type": "stream",
     "text": [
      "        0   1   2   3   4   5   6   7   8   9   10\n",
      "0  1000025   5   1   1   1   2   1   3   1   1   2\n",
      "1  1002945   5   4   4   5   7  10   3   2   1   2\n",
      "2  1015425   3   1   1   1   2   2   3   1   1   2\n",
      "3  1016277   6   8   8   1   3   4   3   7   1   2\n",
      "4  1017023   4   1   1   3   2   1   3   1   1   2\n",
      "5  1017122   8  10  10   8   7  10   9   7   1   4\n",
      "6  1018099   1   1   1   1   2  10   3   1   1   2\n",
      "7  1018561   2   1   2   1   2   1   3   1   1   2\n",
      "8  1033078   2   1   1   1   2   1   1   1   5   2\n",
      "9  1033078   4   2   1   1   2   1   2   1   1   2\n"
     ]
    }
   ],
   "source": [
    "# Mostramos los primeros 10 registros de nuestro conjunto \n",
    "# de datos\n",
    "\n",
    "print data_set.head(10)"
   ]
  },
  {
   "cell_type": "code",
   "execution_count": 30,
   "metadata": {
    "collapsed": false
   },
   "outputs": [
    {
     "name": "stdout",
     "output_type": "stream",
     "text": [
      "El tamaño original de nuestro conjunto de datos es:\n",
      "(699, 11)\n",
      "La cantidad de registros con valores missing son 16:\n",
      "(16, 11)\n",
      "Al final nos quedamos con un conjunto de datos:\n",
      "(683, 11)\n"
     ]
    }
   ],
   "source": [
    "print \"El tamaño original de nuestro conjunto de datos es:\"\n",
    "print data_set.shape\n",
    "\n",
    "#Primero lo que haremos sera remplazar el valor de '?' por el valor de NaN\n",
    "data_set_reemplazo = data_set.replace('?',np.nan)\n",
    "\n",
    "# Se eliminan los registros que tienen algun Valor NAn\n",
    "data_set_sin_nan = data_set_reemplazo.dropna()\n",
    "# Obtengo los registros que elimine para ver como son.\n",
    "only_na = data_set_reemplazo[~data_set_reemplazo.index.isin(data_set_sin_nan.index)]\n",
    "\n",
    "print \"La cantidad de registros con valores missing son 16:\"\n",
    "print only_na.shape\n",
    "\n",
    "print \"Al final nos quedamos con un conjunto de datos:\"\n",
    "print data_set_sin_nan.shape"
   ]
  },
  {
   "cell_type": "markdown",
   "metadata": {
    "collapsed": true
   },
   "source": [
    "Ahora las variable que no vamos a considerar para nuestro clasificador sera la variable \n",
    "que tiene el identificador. Todas las variables restantes las vamos a utilizar con el hecho de haber quitado \n",
    "los registros que contenian valores missing. "
   ]
  },
  {
   "cell_type": "code",
   "execution_count": 34,
   "metadata": {
    "collapsed": false
   },
   "outputs": [
    {
     "name": "stdout",
     "output_type": "stream",
     "text": [
      "683.0\n",
      "El porcentaje de aciertos es el siguiente:\n",
      "90.4831625183%\n"
     ]
    }
   ],
   "source": [
    "X = data_set_sin_nan.ix[:,1:9].as_matrix()\n",
    "y = data_set_sin_nan.ix[:,10].as_matrix()\n",
    "\n",
    "clf = MultinomialNB(alpha=1.0,class_prior = None,fit_prior = True)\n",
    "clf.fit(X, y)\n",
    "\n",
    "predicciones = clf.predict(X)\n",
    "\n",
    "predicciones = predicciones.astype(int)\n",
    "\n",
    "aciertos=0.0\n",
    "total_datos= float(data_set_sin_nan.shape[0])\n",
    "print total_datos\n",
    "\n",
    "for ind in range(len(predicciones)):\n",
    "    if int(predicciones[ind])==int(y[ind]):\n",
    "        aciertos+=1\n",
    "\n",
    "\n",
    "#El porcentaje de aciertos es el siguiente:\n",
    "print \"El porcentaje de aciertos es el siguiente:\"\n",
    "print str((aciertos/total_datos)*100)+\"%\"\n"
   ]
  },
  {
   "cell_type": "code",
   "execution_count": 35,
   "metadata": {
    "collapsed": false
   },
   "outputs": [
    {
     "name": "stdout",
     "output_type": "stream",
     "text": [
      "El porcentaje de aciertos es el siguiente:\n",
      "96.3396778917%\n"
     ]
    }
   ],
   "source": [
    "X = data_set_sin_nan.ix[:,1:9].as_matrix()\n",
    "y = data_set_sin_nan.ix[:,10].as_matrix()\n",
    "\n",
    "clf = GaussianNB()\n",
    "clf.fit(X, y)\n",
    "\n",
    "predicciones = clf.predict(X)\n",
    "\n",
    "predicciones = predicciones.astype(int)\n",
    "\n",
    "aciertos=0.0\n",
    "total_datos= float(data_set_sin_nan.shape[0])\n",
    "#print total_datos\n",
    "\n",
    "for ind in range(len(predicciones)):\n",
    "    if int(predicciones[ind])==int(y[ind]):\n",
    "        aciertos+=1\n",
    "\n",
    "\n",
    "#El porcentaje de aciertos es el siguiente:\n",
    "print \"El porcentaje de aciertos es el siguiente:\"\n",
    "print str((aciertos/total_datos)*100)+\"%\""
   ]
  },
  {
   "cell_type": "code",
   "execution_count": 37,
   "metadata": {
    "collapsed": false
   },
   "outputs": [
    {
     "ename": "ValueError",
     "evalue": "Input contains NaN, infinity or a value too large for dtype('float64').",
     "output_type": "error",
     "traceback": [
      "\u001b[0;31m---------------------------------------------------------------------------\u001b[0m",
      "\u001b[0;31mValueError\u001b[0m                                Traceback (most recent call last)",
      "\u001b[0;32m<ipython-input-37-0b387906becb>\u001b[0m in \u001b[0;36m<module>\u001b[0;34m()\u001b[0m\n\u001b[1;32m      6\u001b[0m \u001b[0;34m\u001b[0m\u001b[0m\n\u001b[1;32m      7\u001b[0m \u001b[0mclf\u001b[0m \u001b[0;34m=\u001b[0m \u001b[0mGaussianNB\u001b[0m\u001b[0;34m(\u001b[0m\u001b[0;34m)\u001b[0m\u001b[0;34m\u001b[0m\u001b[0m\n\u001b[0;32m----> 8\u001b[0;31m \u001b[0mclf\u001b[0m\u001b[0;34m.\u001b[0m\u001b[0mfit\u001b[0m\u001b[0;34m(\u001b[0m\u001b[0mX\u001b[0m\u001b[0;34m,\u001b[0m \u001b[0my\u001b[0m\u001b[0;34m)\u001b[0m\u001b[0;34m\u001b[0m\u001b[0m\n\u001b[0m\u001b[1;32m      9\u001b[0m \u001b[0;34m\u001b[0m\u001b[0m\n\u001b[1;32m     10\u001b[0m \u001b[0mpredicciones\u001b[0m \u001b[0;34m=\u001b[0m \u001b[0mclf\u001b[0m\u001b[0;34m.\u001b[0m\u001b[0mpredict\u001b[0m\u001b[0;34m(\u001b[0m\u001b[0mX\u001b[0m\u001b[0;34m)\u001b[0m\u001b[0;34m\u001b[0m\u001b[0m\n",
      "\u001b[0;32m/usr/local/lib/python2.7/dist-packages/sklearn/naive_bayes.pyc\u001b[0m in \u001b[0;36mfit\u001b[0;34m(self, X, y, sample_weight)\u001b[0m\n\u001b[1;32m    180\u001b[0m             \u001b[0mReturns\u001b[0m \u001b[0mself\u001b[0m\u001b[0;34m.\u001b[0m\u001b[0;34m\u001b[0m\u001b[0m\n\u001b[1;32m    181\u001b[0m         \"\"\"\n\u001b[0;32m--> 182\u001b[0;31m         \u001b[0mX\u001b[0m\u001b[0;34m,\u001b[0m \u001b[0my\u001b[0m \u001b[0;34m=\u001b[0m \u001b[0mcheck_X_y\u001b[0m\u001b[0;34m(\u001b[0m\u001b[0mX\u001b[0m\u001b[0;34m,\u001b[0m \u001b[0my\u001b[0m\u001b[0;34m)\u001b[0m\u001b[0;34m\u001b[0m\u001b[0m\n\u001b[0m\u001b[1;32m    183\u001b[0m         return self._partial_fit(X, y, np.unique(y), _refit=True,\n\u001b[1;32m    184\u001b[0m                                  sample_weight=sample_weight)\n",
      "\u001b[0;32m/usr/local/lib/python2.7/dist-packages/sklearn/utils/validation.pyc\u001b[0m in \u001b[0;36mcheck_X_y\u001b[0;34m(X, y, accept_sparse, dtype, order, copy, force_all_finite, ensure_2d, allow_nd, multi_output, ensure_min_samples, ensure_min_features, y_numeric, warn_on_dtype, estimator)\u001b[0m\n\u001b[1;32m    519\u001b[0m     X = check_array(X, accept_sparse, dtype, order, copy, force_all_finite,\n\u001b[1;32m    520\u001b[0m                     \u001b[0mensure_2d\u001b[0m\u001b[0;34m,\u001b[0m \u001b[0mallow_nd\u001b[0m\u001b[0;34m,\u001b[0m \u001b[0mensure_min_samples\u001b[0m\u001b[0;34m,\u001b[0m\u001b[0;34m\u001b[0m\u001b[0m\n\u001b[0;32m--> 521\u001b[0;31m                     ensure_min_features, warn_on_dtype, estimator)\n\u001b[0m\u001b[1;32m    522\u001b[0m     \u001b[0;32mif\u001b[0m \u001b[0mmulti_output\u001b[0m\u001b[0;34m:\u001b[0m\u001b[0;34m\u001b[0m\u001b[0m\n\u001b[1;32m    523\u001b[0m         y = check_array(y, 'csr', force_all_finite=True, ensure_2d=False,\n",
      "\u001b[0;32m/usr/local/lib/python2.7/dist-packages/sklearn/utils/validation.pyc\u001b[0m in \u001b[0;36mcheck_array\u001b[0;34m(array, accept_sparse, dtype, order, copy, force_all_finite, ensure_2d, allow_nd, ensure_min_samples, ensure_min_features, warn_on_dtype, estimator)\u001b[0m\n\u001b[1;32m    405\u001b[0m                              % (array.ndim, estimator_name))\n\u001b[1;32m    406\u001b[0m         \u001b[0;32mif\u001b[0m \u001b[0mforce_all_finite\u001b[0m\u001b[0;34m:\u001b[0m\u001b[0;34m\u001b[0m\u001b[0m\n\u001b[0;32m--> 407\u001b[0;31m             \u001b[0m_assert_all_finite\u001b[0m\u001b[0;34m(\u001b[0m\u001b[0marray\u001b[0m\u001b[0;34m)\u001b[0m\u001b[0;34m\u001b[0m\u001b[0m\n\u001b[0m\u001b[1;32m    408\u001b[0m \u001b[0;34m\u001b[0m\u001b[0m\n\u001b[1;32m    409\u001b[0m     \u001b[0mshape_repr\u001b[0m \u001b[0;34m=\u001b[0m \u001b[0m_shape_repr\u001b[0m\u001b[0;34m(\u001b[0m\u001b[0marray\u001b[0m\u001b[0;34m.\u001b[0m\u001b[0mshape\u001b[0m\u001b[0;34m)\u001b[0m\u001b[0;34m\u001b[0m\u001b[0m\n",
      "\u001b[0;32m/usr/local/lib/python2.7/dist-packages/sklearn/utils/validation.pyc\u001b[0m in \u001b[0;36m_assert_all_finite\u001b[0;34m(X)\u001b[0m\n\u001b[1;32m     56\u001b[0m             and not np.isfinite(X).all()):\n\u001b[1;32m     57\u001b[0m         raise ValueError(\"Input contains NaN, infinity\"\n\u001b[0;32m---> 58\u001b[0;31m                          \" or a value too large for %r.\" % X.dtype)\n\u001b[0m\u001b[1;32m     59\u001b[0m \u001b[0;34m\u001b[0m\u001b[0m\n\u001b[1;32m     60\u001b[0m \u001b[0;34m\u001b[0m\u001b[0m\n",
      "\u001b[0;31mValueError\u001b[0m: Input contains NaN, infinity or a value too large for dtype('float64')."
     ]
    }
   ],
   "source": [
    "\n",
    "\n",
    "data_set_reemplazo = data_set.replace('?',np.nan)\n",
    "\n",
    "X = data_set_reemplazo.ix[:,1:9].as_matrix()\n",
    "y = data_set_reemplazo.ix[:,10].as_matrix()\n",
    "\n",
    "\n",
    "clf = GaussianNB()\n",
    "clf.fit(X, y)\n",
    "\n",
    "predicciones = clf.predict(X)\n",
    "\n",
    "predicciones = predicciones.astype(int)\n",
    "\n",
    "aciertos=0.0\n",
    "total_datos= float(data_set.shape[0])\n",
    "#print total_datos\n",
    "\n",
    "for ind in range(len(predicciones)):\n",
    "    if int(predicciones[ind])==int(y[ind]):\n",
    "        aciertos+=1\n",
    "\n",
    "\n",
    "#El porcentaje de aciertos es el siguiente:\n",
    "print \"El porcentaje de aciertos es el siguiente:\"\n",
    "print str((aciertos/total_datos)*100)+\"%\""
   ]
  },
  {
   "cell_type": "code",
   "execution_count": null,
   "metadata": {
    "collapsed": true
   },
   "outputs": [],
   "source": []
  }
 ],
 "metadata": {
  "kernelspec": {
   "display_name": "Python 2",
   "language": "python",
   "name": "python2"
  },
  "language_info": {
   "codemirror_mode": {
    "name": "ipython",
    "version": 2
   },
   "file_extension": ".py",
   "mimetype": "text/x-python",
   "name": "python",
   "nbconvert_exporter": "python",
   "pygments_lexer": "ipython2",
   "version": "2.7.12"
  }
 },
 "nbformat": 4,
 "nbformat_minor": 2
}
