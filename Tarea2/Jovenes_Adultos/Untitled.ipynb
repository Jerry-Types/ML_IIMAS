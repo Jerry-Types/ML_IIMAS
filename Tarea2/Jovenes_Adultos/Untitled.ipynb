{
 "cells": [
  {
   "cell_type": "markdown",
   "metadata": {},
   "source": [
    "# Jovenes/adultos: \n",
    "Una estación de radio busca clasificar a su audiencia en jovenes y adultos a partir de sus gustos musicales. \n",
    "\n",
    "Para esto la estación realizo una encuesta la cual consistía en indicar si les gustaba cierta agrupación (valor igual a 1) o no (valor igual a 0) y se obtuvieron los siguiente resultado: "
   ]
  },
  {
   "cell_type": "code",
   "execution_count": 47,
   "metadata": {
    "collapsed": false
   },
   "outputs": [
    {
     "name": "stdout",
     "output_type": "stream",
     "text": [
      "(0.040367795469836286, 'V')\n",
      "(0.0096153846153846159, 'J')\n",
      "(0.021529490917246014, 'V')\n",
      "(0.040367795469836279, 'V')\n",
      "(0.0, 'J')\n"
     ]
    }
   ],
   "source": [
    "import pandas as pd \n",
    "\n",
    "data_set = pd.read_csv(\"data_gustos.csv\",sep=',')\n",
    "total_audiencia=data_set.shape[0]\n",
    "\n",
    "\"\"\"\n",
    "Separamos el conjunto de datos primero para Jovenes cuyo valor en el tipo_audiencia es\n",
    "igual a cero.\n",
    "\"\"\"\n",
    "data_set_j=data_set[data_set['Tipo_Audiencia']==0]\n",
    "data_set_v=data_set[data_set['Tipo_Audiencia']==1]\n",
    "\n",
    "data_set_j = data_set_j.ix[:,0:6]\n",
    "data_set_v = data_set_v.ix[:,0:6]\n",
    "\n",
    "#Obtener las cabeceras para iterar sobre cadad una de las columnas. \n",
    "cabeceras=list(data_set_j.columns.values)\n",
    "\n",
    "q_i_j=[]\n",
    "q_i_v=[]\n",
    "#Se calcula el promedio para cada una de nuestras variables.\n",
    "for cabecera in cabeceras:\n",
    "    promedio_j = data_set_j[cabecera].mean() \n",
    "    promedio_v = data_set_v[cabecera].mean()\n",
    "    #print \"El promedio de :\",cabecera,\" es:\", promedio\n",
    "    q_i_j.append(promedio_j)\n",
    "    q_i_v.append(promedio_v)\n",
    "\n",
    "total_j=data_set_j.shape[0]\n",
    "total_v=data_set_v.shape[0]\n",
    "\n",
    "q_c_j = float(total_j)/float(total_audiencia)\n",
    "q_c_v = float(total_v)/float(total_audiencia)\n",
    "\n",
    "def clasificador_bayesiano(x_i):\n",
    "    b_q_j_l=[]\n",
    "    b_q_v_l=[]\n",
    "    for ind in range(len(x_i)):\n",
    "        b_q_j=(q_i_j[ind]**x_i[ind])*((1-q_i_j[ind])**(1-x_i[ind]))\n",
    "        b_q_v=(q_i_v[ind]**x_i[ind])*((1-q_i_v[ind])**(1-x_i[ind]))\n",
    "        b_q_j_l.append(b_q_j)\n",
    "        b_q_v_l.append(b_q_v)\n",
    "    pr_j=q_c_j*(reduce(lambda x,y: x * y,b_q_j_l,1))\n",
    "    pr_v=q_c_v*(reduce(lambda x,y: x * y,b_q_v_l,1))\n",
    "    if pr_j>= pr_v:\n",
    "        return pr_j,\"J\"\n",
    "    else:\n",
    "        return pr_v,\"V\"\n",
    "        \n",
    "def main():\n",
    "    x_1 = [1, 1, 0, 1, 1, 0]\n",
    "    x_2 = [1, 0, 1, 1, 1, 1]\n",
    "    x_3 = [1, 1, 0, 0, 0, 0]\n",
    "    x_4 = [1, 1, 1, 1, 1, 1]\n",
    "    x_5 = [0, 1, 1, 1, 1, 1]\n",
    "    print clasificador_bayesiano(x_1)\n",
    "    print clasificador_bayesiano(x_2)\n",
    "    print clasificador_bayesiano(x_3)\n",
    "    print clasificador_bayesiano(x_4)\n",
    "    print clasificador_bayesiano(x_5)\n",
    "\n",
    "main()\n",
    "    "
   ]
  },
  {
   "cell_type": "code",
   "execution_count": null,
   "metadata": {
    "collapsed": true
   },
   "outputs": [],
   "source": []
  }
 ],
 "metadata": {
  "kernelspec": {
   "display_name": "Python 2",
   "language": "python",
   "name": "python2"
  },
  "language_info": {
   "codemirror_mode": {
    "name": "ipython",
    "version": 2
   },
   "file_extension": ".py",
   "mimetype": "text/x-python",
   "name": "python",
   "nbconvert_exporter": "python",
   "pygments_lexer": "ipython2",
   "version": "2.7.12"
  }
 },
 "nbformat": 4,
 "nbformat_minor": 2
}
