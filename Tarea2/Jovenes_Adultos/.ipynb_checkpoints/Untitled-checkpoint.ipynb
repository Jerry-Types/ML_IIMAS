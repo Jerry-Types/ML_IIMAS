{
 "cells": [
  {
   "cell_type": "markdown",
   "metadata": {},
   "source": [
    "# Jovenes/adultos: \n",
    "Una estación de radio busca clasificar a su audiencia en jovenes y adultos a partir de sus gustos musicales. \n",
    "\n",
    "Para esto la estación realizo una encuesta la cual consistía en indicar si les gustaba cierta agrupación (valor igual a 1) o no (valor igual a 0) y se obtuvieron los siguiente resultado: "
   ]
  },
  {
   "cell_type": "code",
   "execution_count": 34,
   "metadata": {
    "collapsed": false
   },
   "outputs": [
    {
     "name": "stdout",
     "output_type": "stream",
     "text": [
      "El promedio de : Pink_Floyd  es: 1.0\n",
      "El promedio de : The_Beatles  es: 0.5\n",
      "El promedio de : R.E.M  es: 0.5\n",
      "El promedio de : Nirvana  es: 0.333333333333\n",
      "El promedio de : Queen  es: 0.5\n",
      "El promedio de : Oasis  es: 0.5\n",
      "-1.0\n",
      "-0.25\n",
      "0.5\n",
      "-0.111111111111\n",
      "-0.25\n",
      "0.5\n",
      "[array([1, 0, 0, 1, 1, 1]), array([1, 1, 0, 1, 1, 0]), array([1, 1, 1, 0, 0, 1]), array([1, 0, 1, 0, 0, 1]), array([1, 0, 0, 0, 1, 0]), array([1, 1, 1, 0, 0, 0])]\n"
     ]
    }
   ],
   "source": [
    "import pandas as pd \n",
    "\n",
    "data_set = pd.read_csv(\"data_gustos.csv\",sep=',')\n",
    "total_audiencia=data_set.shape[0]\n",
    "\n",
    "\"\"\"\n",
    "Separamos el conjunto de datos primero para Jovenes cuyo valor en el tipo_audiencia es\n",
    "igual a cero.\n",
    "\"\"\"\n",
    "data_set_j=data_set[data_set['Tipo_Audiencia']==0]\n",
    "data_set_j = data_set_j.ix[:,0:6]\n",
    "cabeceras=list(data_set_j.columns.values)\n",
    "\n",
    "q_i=[]\n",
    "#Se calcula el promedio para cada una de nuestras variables.\n",
    "for cabecera in cabeceras:\n",
    "    promedio = data_set_j[cabecera].mean() \n",
    "    print \"El promedio de :\",cabecera,\" es:\", promedio\n",
    "    q_i.append(promedio)\n",
    "\n",
    "total_j=data_set_j.shape[0]\n",
    "\n",
    "q_c = float(total_j)/float(total_audiencia)\n",
    "    \n",
    "x_1=[1, 1, 0, 1, 1, 0]\n",
    "\n",
    "for ind in range(len(x_1)):\n",
    "    b_q=(q_i[ind]**x_1[ind])*((1-q_i[ind])**1-x_1[ind])\n",
    "    print b_q\n",
    "        \n",
    "# En q_i tenemos\n",
    "\n",
    "print list(data_set_j.values)\n",
    "    "
   ]
  },
  {
   "cell_type": "code",
   "execution_count": null,
   "metadata": {
    "collapsed": true
   },
   "outputs": [],
   "source": []
  }
 ],
 "metadata": {
  "kernelspec": {
   "display_name": "Python 2",
   "language": "python",
   "name": "python2"
  },
  "language_info": {
   "codemirror_mode": {
    "name": "ipython",
    "version": 2
   },
   "file_extension": ".py",
   "mimetype": "text/x-python",
   "name": "python",
   "nbconvert_exporter": "python",
   "pygments_lexer": "ipython2",
   "version": "2.7.12"
  }
 },
 "nbformat": 4,
 "nbformat_minor": 2
}
