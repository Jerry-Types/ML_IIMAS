{
 "cells": [
  {
   "cell_type": "markdown",
   "metadata": {},
   "source": [
    "# Jovenes/Adultos: \n",
    "Una estación de radio busca clasificar a su audiencia en jovenes y adultos a partir de sus gustos musicales. \n",
    "\n",
    "Para esto la estación realizo una encuesta la cual consistía en indicar si les gustaba cierta agrupación (valor igual a 1) o no (valor igual a 0) y se obtuvieron los siguiente resultado: \n",
    "\n",
    "0 = Jovenes\n",
    "1 = Adultos "
   ]
  },
  {
   "cell_type": "code",
   "execution_count": 1,
   "metadata": {
    "collapsed": false
   },
   "outputs": [
    {
     "name": "stdout",
     "output_type": "stream",
     "text": [
      "    Pink_Floyd  The_Beatles  R.E.M  Nirvana  Queen  Oasis  Tipo_Audiencia\n",
      "0            1            0      0        1      1      1               0\n",
      "1            1            1      0        1      1      0               0\n",
      "2            1            1      1        0      0      1               0\n",
      "3            1            0      1        0      0      1               0\n",
      "4            1            0      0        0      1      0               0\n",
      "5            1            1      1        0      0      0               0\n",
      "6            1            1      0        0      1      1               1\n",
      "7            1            1      1        0      0      1               1\n",
      "8            1            1      1        1      1      0               1\n",
      "9            1            1      1        0      1      0               1\n",
      "10           1            1      1        0      1      1               1\n",
      "11           1            1      0        1      1      0               1\n",
      "12           1            1      0        1      0      0               1\n",
      "['Pink_Floyd', 'The_Beatles', 'R.E.M', 'Nirvana', 'Queen', 'Oasis', 'Tipo_Audiencia']\n"
     ]
    }
   ],
   "source": [
    "import pandas as pd \n",
    "\n",
    "data_set = pd.read_csv(\"data_gustos.csv\",sep=',')\n",
    "\n",
    "print (data_set)\n",
    "print (list(data_set.columns.values))\n"
   ]
  },
  {
   "cell_type": "code",
   "execution_count": 2,
   "metadata": {
    "collapsed": false
   },
   "outputs": [
    {
     "name": "stdout",
     "output_type": "stream",
     "text": [
      "========Jovenes========\n",
      "   Pink_Floyd  The_Beatles  R.E.M  Nirvana  Queen  Oasis\n",
      "0           1            0      0        1      1      1\n",
      "1           1            1      0        1      1      0\n",
      "2           1            1      1        0      0      1\n",
      "3           1            0      1        0      0      1\n",
      "4           1            0      0        0      1      0\n",
      "5           1            1      1        0      0      0\n",
      "========Adultos========\n",
      "    Pink_Floyd  The_Beatles  R.E.M  Nirvana  Queen  Oasis\n",
      "6            1            1      0        0      1      1\n",
      "7            1            1      1        0      0      1\n",
      "8            1            1      1        1      1      0\n",
      "9            1            1      1        0      1      0\n",
      "10           1            1      1        0      1      1\n",
      "11           1            1      0        1      1      0\n",
      "12           1            1      0        1      0      0\n"
     ]
    }
   ],
   "source": [
    "\"\"\"\n",
    "Separamos el conjunto de datos primero para Jovenes cuyo valor en el tipo_audiencia es\n",
    "igual a cero y los adultos es igual a 1\n",
    "\"\"\"\n",
    "data_set_j=data_set[data_set['Tipo_Audiencia']==0]\n",
    "data_set_a=data_set[data_set['Tipo_Audiencia']==1]\n",
    "\n",
    "data_set_j = data_set_j.ix[:,0:6]\n",
    "data_set_a = data_set_a.ix[:,0:6]\n",
    "\n",
    "print \"========Jovenes========\"\n",
    "print (data_set_j)\n",
    "print \"========Adultos========\"\n",
    "print (data_set_a)\n"
   ]
  },
  {
   "cell_type": "code",
   "execution_count": 3,
   "metadata": {
    "collapsed": false
   },
   "outputs": [
    {
     "name": "stdout",
     "output_type": "stream",
     "text": [
      "['Pink_Floyd', 'The_Beatles', 'R.E.M', 'Nirvana', 'Queen', 'Oasis']\n",
      "[1.0, 0.5, 0.5, 0.33333333333333331, 0.5, 0.5]\n",
      "[1.0, 1.0, 0.5714285714285714, 0.42857142857142855, 0.7142857142857143, 0.42857142857142855]\n",
      "Las cantidades por cada clase son las siguientes:\n",
      "6\n",
      "7\n",
      "13\n"
     ]
    }
   ],
   "source": [
    "#Se obtiene las cabeceras para despues iterar sobre el data_set\n",
    "cabeceras=list(data_set_j.columns.values)\n",
    "print cabeceras \n",
    "\n",
    "\n",
    "#Se calcula el promedio para cada una de nuestras variables con respecto a cada una de las clases.\n",
    "q_i_j=[]\n",
    "q_i_a=[]\n",
    "for cabecera in cabeceras:\n",
    "    promedio_j = data_set_j[cabecera].mean() \n",
    "    promedio_a = data_set_a[cabecera].mean()\n",
    "    q_i_j.append(promedio_j)\n",
    "    q_i_a.append(promedio_a)\n",
    "\n",
    "print q_i_j\n",
    "print q_i_a\n",
    "\n",
    "total_audiencia = total_audiencia=data_set.shape[0]\n",
    "total_j = data_set_j.shape[0]\n",
    "total_a = data_set_a.shape[0]\n",
    "\n",
    "print (\"Las cantidades por cada clase son las siguientes:\")\n",
    "print total_j\n",
    "print total_a\n",
    "print total_audiencia\n",
    "\n",
    "#Se calcula el parametro para la clase. \n",
    "q_c_j = float(total_j)/float(total_audiencia)\n",
    "q_c_a = float(total_a)/float(total_audiencia)"
   ]
  },
  {
   "cell_type": "code",
   "execution_count": 4,
   "metadata": {
    "collapsed": false
   },
   "outputs": [
    {
     "name": "stdout",
     "output_type": "stream",
     "text": [
      "[0.0, 0.5, 0.5, 0.33333333333333331, 0.5, 0.5] [0.0, 1.0, 0.5714285714285714, 0.42857142857142855, 0.7142857142857143, 0.42857142857142855]\n",
      "Las proabilidades son\n",
      "Pr_J_0:  0.0\n",
      "Pr_A_1:  0.0\n",
      "None\n"
     ]
    }
   ],
   "source": [
    "def clasificador_bayes(x_i):\n",
    "    b_q_j_l=[]\n",
    "    b_q_a_l=[]\n",
    "    for ind in range(len(x_i)):\n",
    "        b_q_j=(q_i_j[ind]**x_i[ind])*((1-q_i_j[ind])**(1-x_i[ind]))\n",
    "        b_q_a=(q_i_a[ind]**x_i[ind])*((1-q_i_a[ind])**(1-x_i[ind]))\n",
    "        b_q_j_l.append(b_q_j)\n",
    "        b_q_a_l.append(b_q_a)\n",
    "    print b_q_j_l,b_q_a_l\n",
    "    #print (reduce(lambda x,y: x * y,b_q_j_l,1))\n",
    "    #print (reduce(lambda x,y: x * y,b_q_a_l,1))\n",
    "    pr_j=q_c_j*(reduce(lambda x,y: x * y,b_q_j_l,1))\n",
    "    pr_a=q_c_a*(reduce(lambda x,y: x * y,b_q_a_l,1))\n",
    "    print \"Las proabilidades son\"\n",
    "    print \"Pr_J_0: \",pr_j\n",
    "    print \"Pr_A_1: \",pr_a\n",
    "    \"\"\"\n",
    "    if pr_j>= pr_v:\n",
    "        return pr_j,\"J\"\n",
    "    else:\n",
    "        return pr_v,\"V\"\n",
    "    \"\"\"\n",
    "    \n",
    "def main():\n",
    "    x_1 = [1, 1, 0, 1, 1, 0]#1-1\n",
    "    x_2 = [1, 0, 1, 1, 1, 1]#0-0\n",
    "    x_3 = [1, 1, 0, 0, 0, 0]#1-1\n",
    "    x_4 = [1, 1, 1, 1, 1, 1]#1-1\n",
    "    x_5 = [0, 1, 1, 1, 1, 1]#1 La primer entrada en este vector\n",
    "    print clasificador_bayes(x_5)\n",
    "    #print clasificador_bayesiano(x_2)\n",
    "    #print clasificador_bayesiano(x_3)\n",
    "    #print clasificador_bayesiano(x_4)\n",
    "    #print clasificador_bayesiano(x_5)\n",
    "\n",
    "main()\n",
    "    "
   ]
  },
  {
   "cell_type": "code",
   "execution_count": 5,
   "metadata": {
    "collapsed": false
   },
   "outputs": [
    {
     "name": "stdout",
     "output_type": "stream",
     "text": [
      "[0.020833333333333332]\n"
     ]
    }
   ],
   "source": [
    "a=[1.0*0.5*0.5*0.33333333333333331*0.5*0.5]\n",
    "print a"
   ]
  },
  {
   "cell_type": "markdown",
   "metadata": {
    "collapsed": true
   },
   "source": [
    "# Usando MAP tenemos lo siguiente:"
   ]
  },
  {
   "cell_type": "code",
   "execution_count": 13,
   "metadata": {
    "collapsed": false
   },
   "outputs": [
    {
     "name": "stdout",
     "output_type": "stream",
     "text": [
      "========Jovenes========\n",
      "   Pink_Floyd  The_Beatles  R.E.M  Nirvana  Queen  Oasis\n",
      "0           1            0      0        1      1      1\n",
      "1           1            1      0        1      1      0\n",
      "2           1            1      1        0      0      1\n",
      "3           1            0      1        0      0      1\n",
      "4           1            0      0        0      1      0\n",
      "5           1            1      1        0      0      0\n",
      "========Adultos========\n",
      "    Pink_Floyd  The_Beatles  R.E.M  Nirvana  Queen  Oasis\n",
      "6            1            1      0        0      1      1\n",
      "7            1            1      1        0      0      1\n",
      "8            1            1      1        1      1      0\n",
      "9            1            1      1        0      1      0\n",
      "10           1            1      1        0      1      1\n",
      "11           1            1      0        1      1      0\n",
      "12           1            1      0        1      0      0\n"
     ]
    }
   ],
   "source": [
    "\"\"\"\n",
    "Separamos el conjunto de datos primero para Jovenes cuyo valor en el tipo_audiencia es\n",
    "igual a cero y los adultos es igual a 1\n",
    "\"\"\"\n",
    "data_set_j=data_set[data_set['Tipo_Audiencia']==0]\n",
    "data_set_a=data_set[data_set['Tipo_Audiencia']==1]\n",
    "\n",
    "data_set_j = data_set_j.ix[:,0:6]\n",
    "data_set_a = data_set_a.ix[:,0:6]\n",
    "\n",
    "print \"========Jovenes========\"\n",
    "print (data_set_j)\n",
    "print \"========Adultos========\"\n",
    "print (data_set_a)\n"
   ]
  },
  {
   "cell_type": "code",
   "execution_count": 29,
   "metadata": {
    "collapsed": false
   },
   "outputs": [
    {
     "name": "stdout",
     "output_type": "stream",
     "text": [
      "['Pink_Floyd', 'The_Beatles', 'R.E.M', 'Nirvana', 'Queen', 'Oasis']\n",
      "[0.8571428571428571, 0.42857142857142855, 0.42857142857142855, 0.2857142857142857, 0.42857142857142855, 0.42857142857142855]\n",
      "[0.875, 0.875, 0.5, 0.375, 0.625, 0.375]\n",
      "Las proabilidades son\n",
      "Pr_J_0:  0.000590133119946\n",
      "Pr_A_1:  0.00240325927734\n",
      "None\n"
     ]
    }
   ],
   "source": [
    "#Se obtiene las cabeceras para despues iterar sobre el data_set\n",
    "cabeceras=list(data_set_j.columns.values)\n",
    "print cabeceras \n",
    "\n",
    "alpha = 1\n",
    "beta = 2\n",
    "#Se calcula el promedio para cada una de nuestras variables con respecto a cada una de las clases.\n",
    "q_i_j=[]\n",
    "q_i_a=[]\n",
    "\n",
    "\n",
    "total_audiencia = total_audiencia=data_set.shape[0]\n",
    "total_j = data_set_j.shape[0]\n",
    "total_a = data_set_a.shape[0]\n",
    "\n",
    "for cabecera in cabeceras:\n",
    "    sum_j = data_set_j[cabecera].sum()+(alpha-1) \n",
    "    sum_a = data_set_a[cabecera].sum()+(alpha-1)\n",
    "    q_i_j.append(float(sum_j)/float(total_j+beta+alpha-2))\n",
    "    q_i_a.append(float(sum_a)/float(total_a+beta+alpha-2))\n",
    "\n",
    "print q_i_j\n",
    "print q_i_a\n",
    "\n",
    "\n",
    "#Se calcula el parametro para la clase. \n",
    "q_c_j = float(total_j+alpha-1)/float(total_audiencia+beta+alpha-2)\n",
    "q_c_a = float(total_a+alpha-1)/float(total_audiencia+beta+alpha-2)\n",
    "\n",
    "\n",
    "def clasificador_bayes_map(x_i):\n",
    "    b_q_j_l=[]\n",
    "    b_q_a_l=[]\n",
    "    for ind in range(len(x_i)):\n",
    "        b_q_j=(q_i_j[ind]**x_i[ind])*((1-q_i_j[ind])**(1-x_i[ind]))\n",
    "        b_q_a=(q_i_a[ind]**x_i[ind])*((1-q_i_a[ind])**(1-x_i[ind]))\n",
    "        b_q_j_l.append(b_q_j)\n",
    "        b_q_a_l.append(b_q_a)\n",
    "    #print b_q_j_l,b_q_a_l\n",
    "    #print (reduce(lambda x,y: x * y,b_q_j_l,1))\n",
    "    #print (reduce(lambda x,y: x * y,b_q_a_l,1))\n",
    "    pr_j=q_c_j*(reduce(lambda x,y: x * y,b_q_j_l,1))\n",
    "    pr_a=q_c_a*(reduce(lambda x,y: x * y,b_q_a_l,1))\n",
    "    print \"Las proabilidades son\"\n",
    "    print \"Pr_J_0: \",pr_j\n",
    "    print \"Pr_A_1: \",pr_a\n",
    "    \n",
    "def main():\n",
    "    x_1 = [1, 1, 0, 1, 1, 0]#1-1 - 1\n",
    "    x_2 = [1, 0, 1, 1, 1, 1]#0-0 - 0\n",
    "    x_3 = [1, 1, 0, 0, 0, 0]#1-1 - 1\n",
    "    x_4 = [1, 1, 1, 1, 1, 1]#1-1  - 1\n",
    "    x_5 = [0, 1, 1, 1, 1, 1]#1- No se puede determinar - 1\n",
    "    print clasificador_bayes_map(x_5)\n",
    "    #print clasificador_bayesiano(x_2)\n",
    "    #print clasificador_bayesiano(x_3)\n",
    "    #print clasificador_bayesiano(x_4)\n",
    "    #print clasificador_bayesiano(x_5)\n",
    "\n",
    "main()\n"
   ]
  },
  {
   "cell_type": "code",
   "execution_count": null,
   "metadata": {
    "collapsed": true
   },
   "outputs": [],
   "source": []
  },
  {
   "cell_type": "code",
   "execution_count": null,
   "metadata": {
    "collapsed": true
   },
   "outputs": [],
   "source": []
  }
 ],
 "metadata": {
  "kernelspec": {
   "display_name": "Python 2",
   "language": "python",
   "name": "python2"
  },
  "language_info": {
   "codemirror_mode": {
    "name": "ipython",
    "version": 2
   },
   "file_extension": ".py",
   "mimetype": "text/x-python",
   "name": "python",
   "nbconvert_exporter": "python",
   "pygments_lexer": "ipython2",
   "version": "2.7.12"
  }
 },
 "nbformat": 4,
 "nbformat_minor": 2
}
