{
 "cells": [
  {
   "cell_type": "markdown",
   "metadata": {},
   "source": [
    "# Jovenes/Adultos: \n",
    "Una estación de radio busca clasificar a su audiencia en jovenes y adultos a partir de sus gustos musicales. \n",
    "\n",
    "Para esto la estación realizo una encuesta la cual consistía en indicar si les gustaba cierta agrupación (valor igual a 1) o no (valor igual a 0) y se obtuvieron los siguiente resultado: \n",
    "\n",
    "0 = Jovenes\n",
    "1 = Adultos "
   ]
  },
  {
   "cell_type": "markdown",
   "metadata": {},
   "source": [
    "# Usando EMV tenemos lo siguiente:"
   ]
  },
  {
   "cell_type": "code",
   "execution_count": 46,
   "metadata": {
    "collapsed": false
   },
   "outputs": [
    {
     "name": "stdout",
     "output_type": "stream",
     "text": [
      "    Pink_Floyd  The_Beatles  R.E.M  Nirvana  Queen  Oasis  Tipo_Audiencia\n",
      "0            1            0      0        1      1      1               0\n",
      "1            1            1      0        1      1      0               0\n",
      "2            1            1      1        0      0      1               0\n",
      "3            1            0      1        0      0      1               0\n",
      "4            1            0      0        0      1      0               0\n",
      "5            1            1      1        0      0      0               0\n",
      "6            1            1      0        0      1      1               1\n",
      "7            1            1      1        0      0      1               1\n",
      "8            1            1      1        1      1      0               1\n",
      "9            1            1      1        0      1      0               1\n",
      "10           1            1      1        0      1      1               1\n",
      "11           1            1      0        1      1      0               1\n",
      "12           1            1      0        1      0      0               1\n",
      "['Pink_Floyd', 'The_Beatles', 'R.E.M', 'Nirvana', 'Queen', 'Oasis', 'Tipo_Audiencia']\n"
     ]
    }
   ],
   "source": [
    "import pandas as pd \n",
    "\n",
    "data_set = pd.read_csv(\"data_gustos.csv\",sep=',')\n",
    "\n",
    "print (data_set)\n",
    "print (list(data_set.columns.values))\n"
   ]
  },
  {
   "cell_type": "code",
   "execution_count": 47,
   "metadata": {
    "collapsed": false
   },
   "outputs": [
    {
     "name": "stdout",
     "output_type": "stream",
     "text": [
      "========Jovenes========\n",
      "   Pink_Floyd  The_Beatles  R.E.M  Nirvana  Queen  Oasis\n",
      "0           1            0      0        1      1      1\n",
      "1           1            1      0        1      1      0\n",
      "2           1            1      1        0      0      1\n",
      "3           1            0      1        0      0      1\n",
      "4           1            0      0        0      1      0\n",
      "5           1            1      1        0      0      0\n",
      "========Adultos========\n",
      "    Pink_Floyd  The_Beatles  R.E.M  Nirvana  Queen  Oasis\n",
      "6            1            1      0        0      1      1\n",
      "7            1            1      1        0      0      1\n",
      "8            1            1      1        1      1      0\n",
      "9            1            1      1        0      1      0\n",
      "10           1            1      1        0      1      1\n",
      "11           1            1      0        1      1      0\n",
      "12           1            1      0        1      0      0\n"
     ]
    }
   ],
   "source": [
    "\"\"\"\n",
    "Separamos el conjunto de datos primero para Jovenes cuyo valor en el tipo_audiencia es\n",
    "igual a cero y los adultos es igual a 1\n",
    "\"\"\"\n",
    "data_set_j=data_set[data_set['Tipo_Audiencia']==0]\n",
    "data_set_a=data_set[data_set['Tipo_Audiencia']==1]\n",
    "\n",
    "data_set_j = data_set_j.ix[:,0:6]\n",
    "data_set_a = data_set_a.ix[:,0:6]\n",
    "\n",
    "print \"========Jovenes========\"\n",
    "print (data_set_j)\n",
    "print \"========Adultos========\"\n",
    "print (data_set_a)\n"
   ]
  },
  {
   "cell_type": "code",
   "execution_count": 48,
   "metadata": {
    "collapsed": false
   },
   "outputs": [
    {
     "name": "stdout",
     "output_type": "stream",
     "text": [
      "Las cantidades por cada clase son las siguientes:\n",
      "6\n",
      "7\n",
      "13\n"
     ]
    }
   ],
   "source": [
    "#Se obtiene las cabeceras para despues iterar sobre el data_set\n",
    "cabeceras=list(data_set_j.columns.values)\n",
    "#print cabeceras \n",
    "\n",
    "\n",
    "#Se calcula el promedio para cada una de nuestras variables con respecto a cada una de las clases.\n",
    "q_i_j=[]\n",
    "q_i_a=[]\n",
    "for cabecera in cabeceras:\n",
    "    promedio_j = data_set_j[cabecera].mean() \n",
    "    promedio_a = data_set_a[cabecera].mean()\n",
    "    q_i_j.append(promedio_j)\n",
    "    q_i_a.append(promedio_a)\n",
    "\n",
    "#print q_i_j\n",
    "#print q_i_a\n",
    "\n",
    "total_audiencia = total_audiencia=data_set.shape[0]\n",
    "total_j = data_set_j.shape[0]\n",
    "total_a = data_set_a.shape[0]\n",
    "\n",
    "print (\"Las cantidades por cada clase son las siguientes:\")\n",
    "print total_j\n",
    "print total_a\n",
    "print total_audiencia\n",
    "\n",
    "#Se calcula el parametro para la clase. \n",
    "q_c_j = float(total_j)/float(total_audiencia)\n",
    "q_c_a = float(total_a)/float(total_audiencia)"
   ]
  },
  {
   "cell_type": "code",
   "execution_count": 49,
   "metadata": {
    "collapsed": false
   },
   "outputs": [
    {
     "name": "stdout",
     "output_type": "stream",
     "text": [
      "Pr_J_0:  0.00961538461538\n",
      "Pr_A_1:  0.0403677954698\n",
      "0.0403677954698 A-1\n",
      "\n",
      "Pr_J_0:  0.00961538461538\n",
      "Pr_A_1:  0.0\n",
      "0.00961538461538 J-0\n",
      "\n",
      "Pr_J_0:  0.0192307692308\n",
      "Pr_A_1:  0.0215294909172\n",
      "0.0215294909172 A-1\n",
      "\n",
      "Pr_J_0:  0.00961538461538\n",
      "Pr_A_1:  0.0403677954698\n",
      "0.0403677954698 A-1\n",
      "\n",
      "Pr_J_0:  0.0\n",
      "Pr_A_1:  0.0\n",
      "Las probabilidades son iguales, no se puede determinar la clase\n",
      "\n"
     ]
    }
   ],
   "source": [
    "def clasificador_bayes(x_i):\n",
    "    b_q_j_l=[]\n",
    "    b_q_a_l=[]\n",
    "    for ind in range(len(x_i)):\n",
    "        b_q_j=(q_i_j[ind]**x_i[ind])*((1-q_i_j[ind])**(1-x_i[ind]))\n",
    "        b_q_a=(q_i_a[ind]**x_i[ind])*((1-q_i_a[ind])**(1-x_i[ind]))\n",
    "        b_q_j_l.append(b_q_j)\n",
    "        b_q_a_l.append(b_q_a)\n",
    "    #print b_q_j_l,b_q_a_l\n",
    "    #print (reduce(lambda x,y: x * y,b_q_j_l,1))\n",
    "    #print (reduce(lambda x,y: x * y,b_q_a_l,1))\n",
    "    pr_j=q_c_j*(reduce(lambda x,y: x * y,b_q_j_l,1))\n",
    "    pr_a=q_c_a*(reduce(lambda x,y: x * y,b_q_a_l,1))\n",
    "    #print \"Las proabilidades son\"\n",
    "    print \"Pr_J_0: \",pr_j\n",
    "    print \"Pr_A_1: \",pr_a\n",
    "    if pr_j>pr_a:\n",
    "        print pr_j,\"J-0\"\n",
    "    elif pr_j<pr_a:\n",
    "        print pr_a,\"A-1\"\n",
    "    else:\n",
    "        print \"Las probabilidades son iguales, no se puede determinar la clase\"\n",
    "    print \n",
    "    \n",
    "def main():\n",
    "    x_1 = [1, 1, 0, 1, 1, 0]#1-1\n",
    "    x_2 = [1, 0, 1, 1, 1, 1]#0-0\n",
    "    x_3 = [1, 1, 0, 0, 0, 0]#1-1\n",
    "    x_4 = [1, 1, 1, 1, 1, 1]#1-1\n",
    "    x_5 = [0, 1, 1, 1, 1, 1]#1 La primer entrada en este vector\n",
    "    clasificador_bayes(x_1)\n",
    "    clasificador_bayes(x_2)\n",
    "    clasificador_bayes(x_3)\n",
    "    clasificador_bayes(x_4)\n",
    "    clasificador_bayes(x_5)\n",
    "\n",
    "main()\n",
    "    "
   ]
  },
  {
   "cell_type": "markdown",
   "metadata": {},
   "source": [
    "Lo que podemos ver utilizando que utilizando EMV es que para el ultimo vector no se puede determinar la clase\n",
    "a la que pertenece y esto se debe a la primer entrada de nuestro vector a clasificar la cual es 0 pero \n",
    "en la variable correspondiente que tiene que ver con la banda de Pink_Floyd solo existen valores de 1 entonces cuando se quiere calcular la proabilidad condicional esta es cero para cualquiera de las dos clases. \n",
    "Este caso cae en lo comentado en clase con la Teoría del cisne negro por lo tanto nuestro clasificador no esta generalizando. Esto tambien se debe en gran medida a que el conjunto de datos que tenemos es muy pequeño. "
   ]
  },
  {
   "cell_type": "markdown",
   "metadata": {
    "collapsed": true
   },
   "source": [
    "# Usando MAP tenemos lo siguiente:\n",
    "\n",
    "Ahora vamos a implementar utilizando el estimador de  Máximo a Posteriori."
   ]
  },
  {
   "cell_type": "code",
   "execution_count": 50,
   "metadata": {
    "collapsed": false
   },
   "outputs": [
    {
     "name": "stdout",
     "output_type": "stream",
     "text": [
      "========Jovenes========\n",
      "   Pink_Floyd  The_Beatles  R.E.M  Nirvana  Queen  Oasis\n",
      "0           1            0      0        1      1      1\n",
      "1           1            1      0        1      1      0\n",
      "2           1            1      1        0      0      1\n",
      "3           1            0      1        0      0      1\n",
      "4           1            0      0        0      1      0\n",
      "5           1            1      1        0      0      0\n",
      "========Adultos========\n",
      "    Pink_Floyd  The_Beatles  R.E.M  Nirvana  Queen  Oasis\n",
      "6            1            1      0        0      1      1\n",
      "7            1            1      1        0      0      1\n",
      "8            1            1      1        1      1      0\n",
      "9            1            1      1        0      1      0\n",
      "10           1            1      1        0      1      1\n",
      "11           1            1      0        1      1      0\n",
      "12           1            1      0        1      0      0\n"
     ]
    }
   ],
   "source": [
    "\"\"\"\n",
    "Separamos el conjunto de datos primero para Jovenes cuyo valor en el tipo_audiencia es\n",
    "igual a cero y los adultos es igual a 1\n",
    "\"\"\"\n",
    "data_set_j=data_set[data_set['Tipo_Audiencia']==0]\n",
    "data_set_a=data_set[data_set['Tipo_Audiencia']==1]\n",
    "\n",
    "data_set_j = data_set_j.ix[:,0:6]\n",
    "data_set_a = data_set_a.ix[:,0:6]\n",
    "\n",
    "print \"========Jovenes========\"\n",
    "print (data_set_j)\n",
    "print \"========Adultos========\"\n",
    "print (data_set_a)\n"
   ]
  },
  {
   "cell_type": "code",
   "execution_count": 51,
   "metadata": {
    "collapsed": false
   },
   "outputs": [
    {
     "name": "stdout",
     "output_type": "stream",
     "text": [
      "Pr_J_0:  0.00629475327943\n",
      "Pr_A_1:  0.0280380249023\n",
      "0.0280380249023 A-1\n",
      "\n",
      "Pr_J_0:  0.00472106495957\n",
      "Pr_A_1:  0.00240325927734\n",
      "0.00472106495957 J-0\n",
      "\n",
      "Pr_J_0:  0.0209825109314\n",
      "Pr_A_1:  0.0280380249023\n",
      "0.0280380249023 A-1\n",
      "\n",
      "Pr_J_0:  0.00354079871968\n",
      "Pr_A_1:  0.0168228149414\n",
      "0.0168228149414 A-1\n",
      "\n",
      "Pr_J_0:  0.000590133119946\n",
      "Pr_A_1:  0.00240325927734\n",
      "0.00240325927734 A-1\n",
      "\n"
     ]
    }
   ],
   "source": [
    "#Se obtiene las cabeceras para despues iterar sobre el data_set\n",
    "cabeceras=list(data_set_j.columns.values)\n",
    "#print cabeceras \n",
    "\n",
    "alpha = 1\n",
    "beta = 2\n",
    "#Se calcula el promedio para cada una de nuestras variables con respecto a cada una de las clases.\n",
    "q_i_j=[]\n",
    "q_i_a=[]\n",
    "\n",
    "\n",
    "total_audiencia = total_audiencia=data_set.shape[0]\n",
    "total_j = data_set_j.shape[0]\n",
    "total_a = data_set_a.shape[0]\n",
    "\n",
    "for cabecera in cabeceras:\n",
    "    sum_j = data_set_j[cabecera].sum()+(alpha-1) \n",
    "    sum_a = data_set_a[cabecera].sum()+(alpha-1)\n",
    "    q_i_j.append(float(sum_j)/float(total_j+beta+alpha-2))\n",
    "    q_i_a.append(float(sum_a)/float(total_a+beta+alpha-2))\n",
    "\n",
    "#print q_i_j\n",
    "#print q_i_a\n",
    "\n",
    "\n",
    "#Se calcula el parametro para la clase. \n",
    "q_c_j = float(total_j+alpha-1)/float(total_audiencia+beta+alpha-2)\n",
    "q_c_a = float(total_a+alpha-1)/float(total_audiencia+beta+alpha-2)\n",
    "\n",
    "\n",
    "def clasificador_bayes_map(x_i):\n",
    "    b_q_j_l=[]\n",
    "    b_q_a_l=[]\n",
    "    for ind in range(len(x_i)):\n",
    "        b_q_j=(q_i_j[ind]**x_i[ind])*((1-q_i_j[ind])**(1-x_i[ind]))\n",
    "        b_q_a=(q_i_a[ind]**x_i[ind])*((1-q_i_a[ind])**(1-x_i[ind]))\n",
    "        b_q_j_l.append(b_q_j)\n",
    "        b_q_a_l.append(b_q_a)\n",
    "    #print b_q_j_l,b_q_a_l\n",
    "    #print (reduce(lambda x,y: x * y,b_q_j_l,1))\n",
    "    #print (reduce(lambda x,y: x * y,b_q_a_l,1))\n",
    "    pr_j=q_c_j*(reduce(lambda x,y: x * y,b_q_j_l,1))\n",
    "    pr_a=q_c_a*(reduce(lambda x,y: x * y,b_q_a_l,1))\n",
    "    print \"Pr_J_0: \",pr_j\n",
    "    print \"Pr_A_1: \",pr_a\n",
    "    if pr_j>pr_a:\n",
    "        print pr_j,\"J-0\"\n",
    "    elif pr_j<pr_a:\n",
    "        print pr_a,\"A-1\"\n",
    "    else:\n",
    "        print \"Las probabilidades son iguales, no se puede determinar la clase\"\n",
    "    print \n",
    "    \n",
    "def main():\n",
    "    x_1 = [1, 1, 0, 1, 1, 0]#1-1 - 1\n",
    "    x_2 = [1, 0, 1, 1, 1, 1]#0-0 - 0\n",
    "    x_3 = [1, 1, 0, 0, 0, 0]#1-1 - 1\n",
    "    x_4 = [1, 1, 1, 1, 1, 1]#1-1  - 1\n",
    "    x_5 = [0, 1, 1, 1, 1, 1]#1- No se puede determinar - 1\n",
    "    clasificador_bayes_map(x_1)\n",
    "    clasificador_bayes_map(x_2)\n",
    "    clasificador_bayes_map(x_3)\n",
    "    clasificador_bayes_map(x_4)\n",
    "    clasificador_bayes_map(x_5)\n",
    "\n",
    "main()\n"
   ]
  },
  {
   "cell_type": "markdown",
   "metadata": {},
   "source": [
    "Lo que nos podemos dar cuenta que utilizando MAP nuestro clasificador puede asignar a cada uno de los nuevos \n",
    "vectores su clase correspondiente con respeco a EMV. "
   ]
  },
  {
   "cell_type": "markdown",
   "metadata": {
    "collapsed": true
   },
   "source": [
    "# scikit-learn:\n",
    "Ahora lo que vamos a ver es el paquete de scikit-learn y utilizar el clasificador bayesiano que esta \n",
    "implementado en este paquete y compararlo contra nuestros clasificadores implementados. "
   ]
  },
  {
   "cell_type": "code",
   "execution_count": 55,
   "metadata": {
    "collapsed": false
   },
   "outputs": [
    {
     "name": "stdout",
     "output_type": "stream",
     "text": [
      "[1]\n",
      "[0]\n",
      "[1]\n",
      "[1]\n",
      "[1]\n",
      "13.0\n",
      "El porcentaje de aciertos es el siguiente:\n",
      "76.9230769231%\n"
     ]
    }
   ],
   "source": [
    "import pandas as pd \n",
    "\n",
    "data_set = pd.read_csv(\"data_gustos.csv\",sep=',')\n",
    "X = data_set.ix[:,0:6].as_matrix()\n",
    "\n",
    "Y= [0,0,0,0,0,0,1,1,1,1,1,1,1]\n",
    "\n",
    "from sklearn.naive_bayes import BernoulliNB\n",
    "clf = BernoulliNB()\n",
    "clf.fit(X, Y)\n",
    "\n",
    "print clf.predict([[1, 1, 0, 1, 1, 0]])\n",
    "print clf.predict([[1, 0, 1, 1, 1, 1]])\n",
    "print clf.predict([[1, 1, 0, 0, 0, 0]])\n",
    "print clf.predict([[1, 1, 1, 1, 1, 1]])\n",
    "print clf.predict([[0, 1, 1, 1, 1, 1]])\n",
    "\n",
    "predicciones = clf.predict(X)\n",
    "\n",
    "predicciones = predicciones.astype(int)\n",
    "\n",
    "aciertos=0.0\n",
    "total_datos= float(data_set.shape[0])\n",
    "print total_datos\n",
    "\n",
    "for ind in range(len(predicciones)):\n",
    "    if int(predicciones[ind])==int(Y[ind]):\n",
    "        aciertos+=1\n",
    "\n",
    "\n",
    "#El porcentaje de aciertos es el siguiente:\n",
    "print \"El porcentaje de aciertos es el siguiente:\"\n",
    "print str((aciertos/total_datos)*100)+\"%\"\n",
    "\n"
   ]
  },
  {
   "cell_type": "markdown",
   "metadata": {},
   "source": [
    "Ahora vamos a usar un clasificador donde el tipo de la distribución es normal para de igual forma poder comparar con nuestros clasificadores."
   ]
  },
  {
   "cell_type": "code",
   "execution_count": 56,
   "metadata": {
    "collapsed": false
   },
   "outputs": [
    {
     "name": "stdout",
     "output_type": "stream",
     "text": [
      "Las clasificaciones de los nuevos vectores son las siguientes:\n",
      "[1]\n",
      "[0]\n",
      "[1]\n",
      "[1]\n",
      "[1]\n",
      "13.0\n",
      "El porcentaje de aciertos es el siguiente:\n",
      "76.9230769231%\n"
     ]
    }
   ],
   "source": [
    "import pandas as pd \n",
    "\n",
    "data_set = pd.read_csv(\"data_gustos.csv\",sep=',')\n",
    "X = data_set.ix[:,0:6].as_matrix()\n",
    "\n",
    "Y= [0,0,0,0,0,0,1,1,1,1,1,1,1]\n",
    "\n",
    "from sklearn.naive_bayes import GaussianNB\n",
    "clf = GaussianNB()\n",
    "clf.fit(X, Y)\n",
    "\n",
    "print \"Las clasificaciones de los nuevos vectores son las siguientes:\"\n",
    "print clf.predict([[1, 1, 0, 1, 1, 0]])\n",
    "print clf.predict([[1, 0, 1, 1, 1, 1]])\n",
    "print clf.predict([[1, 1, 0, 0, 0, 0]])\n",
    "print clf.predict([[1, 1, 1, 1, 1, 1]])\n",
    "print clf.predict([[0, 1, 1, 1, 1, 1]])\n",
    "\n",
    "predicciones = clf.predict(X)\n",
    "\n",
    "predicciones = predicciones.astype(int)\n",
    "\n",
    "aciertos=0.0\n",
    "total_datos= float(data_set.shape[0])\n",
    "print total_datos\n",
    "\n",
    "for ind in range(len(predicciones)):\n",
    "    if int(predicciones[ind])==int(Y[ind]):\n",
    "        aciertos+=1\n",
    "\n",
    "\n",
    "#El porcentaje de aciertos es el siguiente:\n",
    "print \"El porcentaje de aciertos es el siguiente:\"\n",
    "print str((aciertos/total_datos)*100)+\"%\"\n"
   ]
  },
  {
   "cell_type": "markdown",
   "metadata": {},
   "source": [
    "Notamos que el porcentaje de aciertos de nuestro clasificadores usando scikit-learn es el mismo esto en gran\n",
    "medida se debe a que no tenemos una gran cantidad de datos."
   ]
  },
  {
   "cell_type": "markdown",
   "metadata": {},
   "source": [
    "# Conclusiones:\n",
    "\n",
    "Para nuestro conjunto de vectores a clasificar obtuvimos los siguientes resultados:\n",
    "* Mi_Clasificador_Bernoulli_EMV= [1,0,1,1,\"No se determino\"]\n",
    "* Mi_Clasificador_Bernoulli_MAP= [1,0,1,1,1]\n",
    "* scikit-learn_Bernoulli= [1,0,1,1,1]\n",
    "* scikit-learn_Gaussian= [1,0,1,1,1]\n",
    "\n",
    "En general podemos concluir que los resultados que obtenemos por parte de nuestras implementaciones es similar a los generdos por el paquete de scikit-learn. Pero con respecto al rendimiento de nuestro clasificador nos muy alto en gran medida por la poca cantidad de datos que tenemos es por lo que nuestro \n",
    "clasificador no puede generalizar. \n"
   ]
  },
  {
   "cell_type": "code",
   "execution_count": null,
   "metadata": {
    "collapsed": true
   },
   "outputs": [],
   "source": []
  }
 ],
 "metadata": {
  "kernelspec": {
   "display_name": "Python 2",
   "language": "python",
   "name": "python2"
  },
  "language_info": {
   "codemirror_mode": {
    "name": "ipython",
    "version": 2
   },
   "file_extension": ".py",
   "mimetype": "text/x-python",
   "name": "python",
   "nbconvert_exporter": "python",
   "pygments_lexer": "ipython2",
   "version": "2.7.12"
  }
 },
 "nbformat": 4,
 "nbformat_minor": 2
}
