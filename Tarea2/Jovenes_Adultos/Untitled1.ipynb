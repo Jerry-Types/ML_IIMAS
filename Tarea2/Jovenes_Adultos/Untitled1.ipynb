{
 "cells": [
  {
   "cell_type": "code",
   "execution_count": 1,
   "metadata": {
    "collapsed": true
   },
   "outputs": [],
   "source": [
    "import pandas as pd \n",
    "\n",
    "data_set = pd.read_csv(\"data_gustos.csv\",sep=',')"
   ]
  },
  {
   "cell_type": "code",
   "execution_count": 2,
   "metadata": {
    "collapsed": false
   },
   "outputs": [
    {
     "name": "stdout",
     "output_type": "stream",
     "text": [
      "    Pink_Floyd  The_Beatles  R.E.M  Nirvana  Queen  Oasis  Tipo_Audiencia\n",
      "0            1            0      0        1      1      1               0\n",
      "1            1            1      0        1      1      0               0\n",
      "2            1            1      1        0      0      1               0\n",
      "3            1            0      1        0      0      1               0\n",
      "4            1            0      0        0      1      0               0\n",
      "5            1            1      1        0      0      0               0\n",
      "6            1            1      0        0      1      1               1\n",
      "7            1            1      1        0      0      1               1\n",
      "8            1            1      1        1      1      0               1\n",
      "9            1            1      1        0      1      0               1\n",
      "10           1            1      1        0      1      1               1\n",
      "11           1            1      0        1      1      0               1\n",
      "12           1            1      0        1      0      0               1\n"
     ]
    }
   ],
   "source": [
    "print data_set"
   ]
  },
  {
   "cell_type": "code",
   "execution_count": 10,
   "metadata": {
    "collapsed": false
   },
   "outputs": [
    {
     "name": "stdout",
     "output_type": "stream",
     "text": [
      "[1]\n",
      "[0]\n",
      "[1]\n",
      "[1]\n",
      "[1]\n"
     ]
    }
   ],
   "source": []
  },
  {
   "cell_type": "code",
   "execution_count": null,
   "metadata": {
    "collapsed": true
   },
   "outputs": [],
   "source": []
  }
 ],
 "metadata": {
  "kernelspec": {
   "display_name": "Python 2",
   "language": "python",
   "name": "python2"
  },
  "language_info": {
   "codemirror_mode": {
    "name": "ipython",
    "version": 2
   },
   "file_extension": ".py",
   "mimetype": "text/x-python",
   "name": "python",
   "nbconvert_exporter": "python",
   "pygments_lexer": "ipython2",
   "version": "2.7.12"
  }
 },
 "nbformat": 4,
 "nbformat_minor": 2
}
