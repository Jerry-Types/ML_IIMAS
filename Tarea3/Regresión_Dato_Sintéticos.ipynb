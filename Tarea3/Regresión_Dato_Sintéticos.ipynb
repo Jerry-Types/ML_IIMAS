{
 "cells": [
  {
   "cell_type": "markdown",
   "metadata": {},
   "source": [
    "# Regresión con datos sintéticos"
   ]
  },
  {
   "cell_type": "markdown",
   "metadata": {},
   "source": [
    "Aplica regresión lineal a los datos sintéticos que se encuentran divididos en los archivos de entrenamiento **x_entrenamiento.csv** y **y_entrenamiento.csv** y los de prueba **x_prueba.csv**  y **y_rueba.csv**\n",
    "Estos datos fueron contaminados con ruido gaussiano con media igual a 0 y desviación estándar\n",
    "igual a 0.05. "
   ]
  },
  {
   "cell_type": "markdown",
   "metadata": {},
   "source": [
    "Realiza lo siguiente:"
   ]
  },
  {
   "cell_type": "code",
   "execution_count": 41,
   "metadata": {
    "collapsed": false
   },
   "outputs": [
    {
     "name": "stdout",
     "output_type": "stream",
     "text": [
      "03_regresion_clasificacion_lineal.pdf  housing.data.5\r\n",
      "Codigos_Regresion_Lineal\t       Predicción de juegos.ipynb\r\n",
      "housing.data\t\t\t       Predicción de precios de casas.ipynb\r\n",
      "housing.data.1\t\t\t       regl_data\r\n",
      "housing.data.2\t\t\t       regl_data.zip\r\n",
      "housing.data.3\t\t\t       Regresión_Dato_Sintéticos.ipynb\r\n",
      "housing.data.4\r\n"
     ]
    }
   ],
   "source": [
    "# Comando para visualizar los archivos que tengo en la carpeta de Tarea3\n",
    "!ls"
   ]
  },
  {
   "cell_type": "code",
   "execution_count": 42,
   "metadata": {
    "collapsed": true
   },
   "outputs": [],
   "source": [
    "%matplotlib inline\n",
    "import pandas as pd\n",
    "import seaborn as sns\n",
    "import numpy as np\n",
    "from IPython.display import display\n"
   ]
  },
  {
   "cell_type": "code",
   "execution_count": 43,
   "metadata": {
    "collapsed": false
   },
   "outputs": [
    {
     "name": "stdout",
     "output_type": "stream",
     "text": [
      "Dimensiones del x_train:\n"
     ]
    },
    {
     "data": {
      "text/plain": [
       "(200, 2)"
      ]
     },
     "metadata": {},
     "output_type": "display_data"
    },
    {
     "name": "stdout",
     "output_type": "stream",
     "text": [
      "Dimensiones del y_train:\n"
     ]
    },
    {
     "data": {
      "text/plain": [
       "(200, 1)"
      ]
     },
     "metadata": {},
     "output_type": "display_data"
    },
    {
     "name": "stdout",
     "output_type": "stream",
     "text": [
      "x_train\n"
     ]
    },
    {
     "data": {
      "text/html": [
       "<div>\n",
       "<table border=\"1\" class=\"dataframe\">\n",
       "  <thead>\n",
       "    <tr style=\"text-align: right;\">\n",
       "      <th></th>\n",
       "      <th>0</th>\n",
       "      <th>1</th>\n",
       "    </tr>\n",
       "  </thead>\n",
       "  <tbody>\n",
       "    <tr>\n",
       "      <th>0</th>\n",
       "      <td>-1.913570</td>\n",
       "      <td>2.032600</td>\n",
       "    </tr>\n",
       "    <tr>\n",
       "      <th>1</th>\n",
       "      <td>1.817693</td>\n",
       "      <td>2.787149</td>\n",
       "    </tr>\n",
       "    <tr>\n",
       "      <th>2</th>\n",
       "      <td>-1.287542</td>\n",
       "      <td>1.051852</td>\n",
       "    </tr>\n",
       "    <tr>\n",
       "      <th>3</th>\n",
       "      <td>1.091132</td>\n",
       "      <td>2.287752</td>\n",
       "    </tr>\n",
       "    <tr>\n",
       "      <th>4</th>\n",
       "      <td>-0.952672</td>\n",
       "      <td>2.885976</td>\n",
       "    </tr>\n",
       "  </tbody>\n",
       "</table>\n",
       "</div>"
      ],
      "text/plain": [
       "          0         1\n",
       "0 -1.913570  2.032600\n",
       "1  1.817693  2.787149\n",
       "2 -1.287542  1.051852\n",
       "3  1.091132  2.287752\n",
       "4 -0.952672  2.885976"
      ]
     },
     "metadata": {},
     "output_type": "display_data"
    },
    {
     "name": "stdout",
     "output_type": "stream",
     "text": [
      "y_train\n"
     ]
    },
    {
     "data": {
      "text/html": [
       "<div>\n",
       "<table border=\"1\" class=\"dataframe\">\n",
       "  <thead>\n",
       "    <tr style=\"text-align: right;\">\n",
       "      <th></th>\n",
       "      <th>0</th>\n",
       "    </tr>\n",
       "  </thead>\n",
       "  <tbody>\n",
       "    <tr>\n",
       "      <th>0</th>\n",
       "      <td>0.619935</td>\n",
       "    </tr>\n",
       "    <tr>\n",
       "      <th>1</th>\n",
       "      <td>-0.640359</td>\n",
       "    </tr>\n",
       "    <tr>\n",
       "      <th>2</th>\n",
       "      <td>1.874947</td>\n",
       "    </tr>\n",
       "    <tr>\n",
       "      <th>3</th>\n",
       "      <td>-0.365971</td>\n",
       "    </tr>\n",
       "    <tr>\n",
       "      <th>4</th>\n",
       "      <td>0.623855</td>\n",
       "    </tr>\n",
       "  </tbody>\n",
       "</table>\n",
       "</div>"
      ],
      "text/plain": [
       "          0\n",
       "0  0.619935\n",
       "1 -0.640359\n",
       "2  1.874947\n",
       "3 -0.365971\n",
       "4  0.623855"
      ]
     },
     "metadata": {},
     "output_type": "display_data"
    }
   ],
   "source": [
    "x_train = pd.read_csv(\"regl_data/x_train.csv\",header=None)\n",
    "y_train = pd.read_csv(\"regl_data/y_train.csv\",header=None)\n",
    "\n",
    "print \"Dimensiones del x_train:\"\n",
    "display(x_train.shape)\n",
    "\n",
    "print \"Dimensiones del y_train:\"\n",
    "display(y_train.shape)\n",
    "\n",
    "print \"x_train\"\n",
    "display(x_train.head())\n",
    "\n",
    "print \"y_train\"\n",
    "display (y_train.head())"
   ]
  },
  {
   "cell_type": "markdown",
   "metadata": {},
   "source": [
    "## Estadisticos del *data_set* de entrenamiento: \n"
   ]
  },
  {
   "cell_type": "code",
   "execution_count": 44,
   "metadata": {
    "collapsed": false
   },
   "outputs": [
    {
     "data": {
      "text/plain": [
       "'Estadisticos del data_set de entrenamiento'"
      ]
     },
     "metadata": {},
     "output_type": "display_data"
    },
    {
     "data": {
      "text/html": [
       "<div>\n",
       "<table border=\"1\" class=\"dataframe\">\n",
       "  <thead>\n",
       "    <tr style=\"text-align: right;\">\n",
       "      <th></th>\n",
       "      <th>0</th>\n",
       "      <th>1</th>\n",
       "    </tr>\n",
       "  </thead>\n",
       "  <tbody>\n",
       "    <tr>\n",
       "      <th>count</th>\n",
       "      <td>200.000000</td>\n",
       "      <td>200.000000</td>\n",
       "    </tr>\n",
       "    <tr>\n",
       "      <th>mean</th>\n",
       "      <td>-0.040296</td>\n",
       "      <td>1.918557</td>\n",
       "    </tr>\n",
       "    <tr>\n",
       "      <th>std</th>\n",
       "      <td>1.287247</td>\n",
       "      <td>0.721394</td>\n",
       "    </tr>\n",
       "    <tr>\n",
       "      <th>min</th>\n",
       "      <td>-1.928379</td>\n",
       "      <td>0.550237</td>\n",
       "    </tr>\n",
       "    <tr>\n",
       "      <th>25%</th>\n",
       "      <td>-1.296099</td>\n",
       "      <td>1.333912</td>\n",
       "    </tr>\n",
       "    <tr>\n",
       "      <th>50%</th>\n",
       "      <td>0.496013</td>\n",
       "      <td>1.932160</td>\n",
       "    </tr>\n",
       "    <tr>\n",
       "      <th>75%</th>\n",
       "      <td>1.154615</td>\n",
       "      <td>2.538318</td>\n",
       "    </tr>\n",
       "    <tr>\n",
       "      <th>max</th>\n",
       "      <td>1.912665</td>\n",
       "      <td>3.129935</td>\n",
       "    </tr>\n",
       "  </tbody>\n",
       "</table>\n",
       "</div>"
      ],
      "text/plain": [
       "                0           1\n",
       "count  200.000000  200.000000\n",
       "mean    -0.040296    1.918557\n",
       "std      1.287247    0.721394\n",
       "min     -1.928379    0.550237\n",
       "25%     -1.296099    1.333912\n",
       "50%      0.496013    1.932160\n",
       "75%      1.154615    2.538318\n",
       "max      1.912665    3.129935"
      ]
     },
     "metadata": {},
     "output_type": "display_data"
    },
    {
     "data": {
      "text/plain": [
       "'Estadisticos del data_set de entrenamiento'"
      ]
     },
     "metadata": {},
     "output_type": "display_data"
    },
    {
     "data": {
      "text/html": [
       "<div>\n",
       "<table border=\"1\" class=\"dataframe\">\n",
       "  <thead>\n",
       "    <tr style=\"text-align: right;\">\n",
       "      <th></th>\n",
       "      <th>0</th>\n",
       "    </tr>\n",
       "  </thead>\n",
       "  <tbody>\n",
       "    <tr>\n",
       "      <th>count</th>\n",
       "      <td>200.000000</td>\n",
       "    </tr>\n",
       "    <tr>\n",
       "      <th>mean</th>\n",
       "      <td>0.528573</td>\n",
       "    </tr>\n",
       "    <tr>\n",
       "      <th>std</th>\n",
       "      <td>1.047393</td>\n",
       "    </tr>\n",
       "    <tr>\n",
       "      <th>min</th>\n",
       "      <td>-1.913288</td>\n",
       "    </tr>\n",
       "    <tr>\n",
       "      <th>25%</th>\n",
       "      <td>-0.225868</td>\n",
       "    </tr>\n",
       "    <tr>\n",
       "      <th>50%</th>\n",
       "      <td>0.631330</td>\n",
       "    </tr>\n",
       "    <tr>\n",
       "      <th>75%</th>\n",
       "      <td>1.222403</td>\n",
       "    </tr>\n",
       "    <tr>\n",
       "      <th>max</th>\n",
       "      <td>2.661427</td>\n",
       "    </tr>\n",
       "  </tbody>\n",
       "</table>\n",
       "</div>"
      ],
      "text/plain": [
       "                0\n",
       "count  200.000000\n",
       "mean     0.528573\n",
       "std      1.047393\n",
       "min     -1.913288\n",
       "25%     -0.225868\n",
       "50%      0.631330\n",
       "75%      1.222403\n",
       "max      2.661427"
      ]
     },
     "metadata": {},
     "output_type": "display_data"
    }
   ],
   "source": [
    "display (\"Estadisticos del data_set de entrenamiento\")\n",
    "display (x_train.describe())\n",
    "\n",
    "display (\"Estadisticos del data_set de entrenamiento\")\n",
    "display (y_train.describe())"
   ]
  },
  {
   "cell_type": "markdown",
   "metadata": {},
   "source": [
    "Grafica los datos de entrenamiento y de prueba y comenta brevemente acerca de cómo están\n",
    "distribuidos."
   ]
  },
  {
   "cell_type": "code",
   "execution_count": 45,
   "metadata": {
    "collapsed": false
   },
   "outputs": [
    {
     "data": {
      "image/png": "[encoded data removed]",
      "text/plain": [
       "<matplotlib.figure.Figure at 0x7f435655c550>"
      ]
     },
     "metadata": {},
     "output_type": "display_data"
    }
   ],
   "source": [
    "\n",
    "sns.distplot(x_train[0], hist=True, rug=True);"
   ]
  },
  {
   "cell_type": "code",
   "execution_count": 46,
   "metadata": {
    "collapsed": false
   },
   "outputs": [
    {
     "data": {
      "image/png": "[encoded data removed]",
      "text/plain": [
       "<matplotlib.figure.Figure at 0x7f43563ef990>"
      ]
     },
     "metadata": {},
     "output_type": "display_data"
    }
   ],
   "source": [
    "sns.distplot(x_train[1], hist=True, rug=True);"
   ]
  },
  {
   "cell_type": "code",
   "execution_count": 47,
   "metadata": {
    "collapsed": false
   },
   "outputs": [
    {
     "data": {
      "image/png": "[encoded data removed]",
      "text/plain": [
       "<matplotlib.figure.Figure at 0x7f43563efe50>"
      ]
     },
     "metadata": {},
     "output_type": "display_data"
    }
   ],
   "source": [
    "sns.distplot(y_train[0], hist=True, rug=True);"
   ]
  },
  {
   "cell_type": "code",
   "execution_count": 48,
   "metadata": {
    "collapsed": false
   },
   "outputs": [
    {
     "data": {
      "image/png": "[encoded data removed]",
      "text/plain": [
       "<matplotlib.figure.Figure at 0x7f434ef082d0>"
      ]
     },
     "metadata": {},
     "output_type": "display_data"
    }
   ],
   "source": [
    "import numpy as np\n",
    "from mpl_toolkits.mplot3d import Axes3D\n",
    "import matplotlib.pyplot as plt\n",
    "\n",
    "\n",
    "fig = plt.figure()\n",
    "ax = fig.add_subplot(111, projection='3d')\n",
    "n = 200\n",
    "xs = x_train[0]\n",
    "ys = x_train[0]\n",
    "zs = y_train[0]\n",
    "ax.scatter(xs, ys, zs, c='b', marker='^')\n",
    "\n",
    "ax.set_xlabel('X[0]_Train')\n",
    "ax.set_ylabel('X[1]_Train')\n",
    "ax.set_zlabel('Y[0]_Train')\n",
    "\n",
    "plt.show()"
   ]
  },
  {
   "cell_type": "markdown",
   "metadata": {
    "collapsed": true
   },
   "source": [
    "# Visualizacion y carga de los datos de prueba:"
   ]
  },
  {
   "cell_type": "code",
   "execution_count": 49,
   "metadata": {
    "collapsed": false
   },
   "outputs": [
    {
     "name": "stdout",
     "output_type": "stream",
     "text": [
      "Dimensiones del x_test:\n"
     ]
    },
    {
     "data": {
      "text/plain": [
       "(200, 2)"
      ]
     },
     "metadata": {},
     "output_type": "display_data"
    },
    {
     "name": "stdout",
     "output_type": "stream",
     "text": [
      "Dimensiones del y_test:\n"
     ]
    },
    {
     "data": {
      "text/plain": [
       "(200, 1)"
      ]
     },
     "metadata": {},
     "output_type": "display_data"
    },
    {
     "name": "stdout",
     "output_type": "stream",
     "text": [
      "x_test \n"
     ]
    },
    {
     "data": {
      "text/html": [
       "<div>\n",
       "<table border=\"1\" class=\"dataframe\">\n",
       "  <thead>\n",
       "    <tr style=\"text-align: right;\">\n",
       "      <th></th>\n",
       "      <th>0</th>\n",
       "      <th>1</th>\n",
       "    </tr>\n",
       "  </thead>\n",
       "  <tbody>\n",
       "    <tr>\n",
       "      <th>0</th>\n",
       "      <td>0.522360</td>\n",
       "      <td>2.641996</td>\n",
       "    </tr>\n",
       "    <tr>\n",
       "      <th>1</th>\n",
       "      <td>-1.556105</td>\n",
       "      <td>1.001378</td>\n",
       "    </tr>\n",
       "    <tr>\n",
       "      <th>2</th>\n",
       "      <td>1.578210</td>\n",
       "      <td>0.965343</td>\n",
       "    </tr>\n",
       "    <tr>\n",
       "      <th>3</th>\n",
       "      <td>-1.796698</td>\n",
       "      <td>1.007622</td>\n",
       "    </tr>\n",
       "    <tr>\n",
       "      <th>4</th>\n",
       "      <td>-1.778407</td>\n",
       "      <td>2.337267</td>\n",
       "    </tr>\n",
       "  </tbody>\n",
       "</table>\n",
       "</div>"
      ],
      "text/plain": [
       "          0         1\n",
       "0  0.522360  2.641996\n",
       "1 -1.556105  1.001378\n",
       "2  1.578210  0.965343\n",
       "3 -1.796698  1.007622\n",
       "4 -1.778407  2.337267"
      ]
     },
     "metadata": {},
     "output_type": "display_data"
    },
    {
     "name": "stdout",
     "output_type": "stream",
     "text": [
      "y_test:\n"
     ]
    },
    {
     "data": {
      "text/html": [
       "<div>\n",
       "<table border=\"1\" class=\"dataframe\">\n",
       "  <thead>\n",
       "    <tr style=\"text-align: right;\">\n",
       "      <th></th>\n",
       "      <th>0</th>\n",
       "    </tr>\n",
       "  </thead>\n",
       "  <tbody>\n",
       "    <tr>\n",
       "      <th>0</th>\n",
       "      <td>0.489523</td>\n",
       "    </tr>\n",
       "    <tr>\n",
       "      <th>1</th>\n",
       "      <td>1.051965</td>\n",
       "    </tr>\n",
       "    <tr>\n",
       "      <th>2</th>\n",
       "      <td>-1.055267</td>\n",
       "    </tr>\n",
       "    <tr>\n",
       "      <th>3</th>\n",
       "      <td>0.492597</td>\n",
       "    </tr>\n",
       "    <tr>\n",
       "      <th>4</th>\n",
       "      <td>0.660550</td>\n",
       "    </tr>\n",
       "  </tbody>\n",
       "</table>\n",
       "</div>"
      ],
      "text/plain": [
       "          0\n",
       "0  0.489523\n",
       "1  1.051965\n",
       "2 -1.055267\n",
       "3  0.492597\n",
       "4  0.660550"
      ]
     },
     "metadata": {},
     "output_type": "display_data"
    }
   ],
   "source": [
    "x_test = pd.read_csv(\"regl_data/x_test.csv\",header=None)\n",
    "y_test = pd.read_csv(\"regl_data/y_test.csv\",header=None)\n",
    "\n",
    "print \"Dimensiones del x_test:\"\n",
    "display(x_test.shape)\n",
    "\n",
    "print \"Dimensiones del y_test:\"\n",
    "display(y_test.shape)\n",
    "\n",
    "\n",
    "print \"x_test \"\n",
    "display(x_test.head())\n",
    "print \"y_test:\"\n",
    "display(y_test.head())"
   ]
  },
  {
   "cell_type": "code",
   "execution_count": 50,
   "metadata": {
    "collapsed": false
   },
   "outputs": [
    {
     "data": {
      "text/plain": [
       "<matplotlib.axes._subplots.AxesSubplot at 0x7f434f3e5f90>"
      ]
     },
     "execution_count": 50,
     "metadata": {},
     "output_type": "execute_result"
    },
    {
     "data": {
      "image/png": "[encoded data removed]",
      "text/plain": [
       "<matplotlib.figure.Figure at 0x7f434ef1d750>"
      ]
     },
     "metadata": {},
     "output_type": "display_data"
    }
   ],
   "source": [
    "sns.distplot(x_test[0], hist=True, rug=True)"
   ]
  },
  {
   "cell_type": "code",
   "execution_count": 51,
   "metadata": {
    "collapsed": false
   },
   "outputs": [
    {
     "data": {
      "text/plain": [
       "<matplotlib.axes._subplots.AxesSubplot at 0x7f434ef1d5d0>"
      ]
     },
     "execution_count": 51,
     "metadata": {},
     "output_type": "execute_result"
    },
    {
     "data": {
      "image/png": "[encoded data removed]",
      "text/plain": [
       "<matplotlib.figure.Figure at 0x7f434faf8450>"
      ]
     },
     "metadata": {},
     "output_type": "display_data"
    }
   ],
   "source": [
    "sns.distplot(x_test[1], hist=True, rug=True)"
   ]
  },
  {
   "cell_type": "code",
   "execution_count": 52,
   "metadata": {
    "collapsed": false
   },
   "outputs": [
    {
     "data": {
      "text/plain": [
       "<matplotlib.axes._subplots.AxesSubplot at 0x7f434f57ae10>"
      ]
     },
     "execution_count": 52,
     "metadata": {},
     "output_type": "execute_result"
    },
    {
     "data": {
      "image/png": "[encoded data removed]",
      "text/plain": [
       "<matplotlib.figure.Figure at 0x7f434f57a310>"
      ]
     },
     "metadata": {},
     "output_type": "display_data"
    }
   ],
   "source": [
    "sns.distplot(y_test[0], hist=True, rug=True)"
   ]
  },
  {
   "cell_type": "code",
   "execution_count": 53,
   "metadata": {
    "collapsed": false
   },
   "outputs": [
    {
     "data": {
      "image/png": "[encoded data removed]",
      "text/plain": [
       "<matplotlib.figure.Figure at 0x7f4356430390>"
      ]
     },
     "metadata": {},
     "output_type": "display_data"
    }
   ],
   "source": [
    "import numpy as np\n",
    "from mpl_toolkits.mplot3d import Axes3D\n",
    "import matplotlib.pyplot as plt\n",
    "\n",
    "\n",
    "fig = plt.figure()\n",
    "ax = fig.add_subplot(111, projection='3d')\n",
    "n = 200\n",
    "xs = x_test[0]\n",
    "ys = x_test[0]\n",
    "zs = y_test[0]\n",
    "ax.scatter(xs, ys, zs, c='b', marker='^')\n",
    "\n",
    "ax.set_xlabel('X[0]_Test')\n",
    "ax.set_ylabel('X[1]_Test')\n",
    "ax.set_zlabel('Y[0]_Test')\n",
    "\n",
    "plt.show()"
   ]
  },
  {
   "cell_type": "markdown",
   "metadata": {},
   "source": [
    "# b. Modelo utilizando implentación propia:\n",
    "\n",
    "Se implementara el modelo de una regresión lineal de la forma $f(x)=\\Theta_{0} + \\Theta_{1}*x_{1}+ \\Theta_{2}*x_{2}$"
   ]
  },
  {
   "cell_type": "code",
   "execution_count": 54,
   "metadata": {
    "collapsed": true
   },
   "outputs": [],
   "source": [
    "def polynomial_expansion(X, degree):\n",
    "    phi_X = X\n",
    "    for i in range(degree - 1):\n",
    "        powerX = np.power(X, i + 2)\n",
    "        phi_X = np.column_stack((phi_X, powerX))\n",
    "    return phi_X"
   ]
  },
  {
   "cell_type": "code",
   "execution_count": 55,
   "metadata": {
    "collapsed": true
   },
   "outputs": [],
   "source": [
    "def MyLinearRegression(X_train,y_train):\n",
    "    # Para encontrar pesos por mínimos cuadrados, theta_ml = (XT X)-1 XT y\n",
    "    # (XT X)\n",
    "    XTX = np.dot(X_train.T, X_train)\n",
    "    # (XT X)-1\n",
    "    XTX_inv = np.linalg.inv(XTX)\n",
    "    # XT y\n",
    "    XTy = np.dot(X_train.T, y_train)\n",
    "    #theta_ml = (XT X)-1 XT y\n",
    "    theta_ml = np.dot(XTX_inv, XTy)\n",
    "    return theta_ml"
   ]
  },
  {
   "cell_type": "code",
   "execution_count": 79,
   "metadata": {
    "collapsed": false
   },
   "outputs": [
    {
     "name": "stdout",
     "output_type": "stream",
     "text": [
      "Los párametros encontrados usando el estimador de máxima verosimilitud son: \n",
      "(1.0833295824645832, -0.5461849484233422, -0.30062493084821673)\n"
     ]
    }
   ],
   "source": [
    "# Definir procedimiento.\n",
    "x_train_2 = x_train.as_matrix()\n",
    "x_train_2 = np.insert(x_train_2, 0,1 ,axis=1)\n",
    "\n",
    "x_test_2 = x_test.as_matrix()\n",
    "x_test_2 = np.insert(x_test_2, 0,1 ,axis=1)\n",
    "\n",
    "# Se obienen los párametros de Theta.\n",
    "theta_ml = MyLinearRegression(x_train_2,y_train)\n",
    "theta_ml =theta_ml.reshape(3,)\n",
    "\n",
    "# Se obitne el valor para y^ \n",
    "y_train_hat= (np.sum(x_train_2*theta_ml,axis=1))\n",
    "y_test_hat = (np.sum(x_test_2*theta_ml,axis=1))\n",
    "\n",
    "\n",
    "print (\"Los párametros encontrados usando el estimador de máxima verosimilitud son: \")\n",
    "print  (theta_ml[0],theta_ml[1],theta_ml[2])"
   ]
  },
  {
   "cell_type": "markdown",
   "metadata": {},
   "source": [
    "# Error cuadrático medio para los datos de entrenamiento y de prueba."
   ]
  },
  {
   "cell_type": "code",
   "execution_count": 101,
   "metadata": {
    "collapsed": false
   },
   "outputs": [
    {
     "name": "stdout",
     "output_type": "stream",
     "text": [
      "===El error promedio para los datos de entrenamiento es el siguiente===\n",
      "0.196549903299\n",
      "\n",
      "\n",
      "===El error promedio para los datos de validación es el siguiente===\n",
      "0.299576909709\n"
     ]
    }
   ],
   "source": [
    "y_train_hat = y_train_hat.reshape(200,1)\n",
    "y_test_hat = y_test_hat.reshape(200,1) \n",
    "\n",
    "# Se inspecciona la suma de los cuadrados del error (SSE)\n",
    "# entre las salidas del modelo y las deseadas\n",
    "sse_train = (np.square(y_train - y_train_hat).sum())\n",
    "sse_test = (np.square(y_test- y_test_hat).sum())\n",
    "\n",
    "# Se calcula error promedio MSE = SSE / N de entrenamiento y validación\n",
    "mse_train = sse_train / x_train_2.size\n",
    "mse_test= sse_test / x_test_2.size\n",
    "\n",
    "print (\"===El error promedio para los datos de entrenamiento es el siguiente===\")\n",
    "print mse_train[0]\n",
    "\n",
    "print (\"\\n\")\n",
    "\n",
    "print (\"===El error promedio para los datos de validación es el siguiente===\")\n",
    "print mse_test[0]"
   ]
  },
  {
   "cell_type": "markdown",
   "metadata": {},
   "source": [
    "# Modelo utilizando scikit-learn:"
   ]
  },
  {
   "cell_type": "code",
   "execution_count": 111,
   "metadata": {
    "collapsed": false
   },
   "outputs": [
    {
     "name": "stdout",
     "output_type": "stream",
     "text": [
      "Los párametros encontrados usando el estimador de máxima verosimilitud son: \n",
      "(1.083329582464579, -0.54618494842334275, -0.30062493084821446)\n"
     ]
    }
   ],
   "source": [
    "import numpy as np\n",
    "from sklearn import datasets, linear_model\n",
    "\n",
    "# Creamos un objeto de la clase LinearRegression\n",
    "regr = linear_model.LinearRegression(fit_intercept=False)\n",
    "# Entreando el modelo usando el data_set de entrenamiento.\n",
    "regr.fit(x_train_2, y_train)\n",
    "\n",
    "print (\"Los párametros encontrados usando el estimador de máxima verosimilitud son: \")\n",
    "print  (regr.coef_[0][0],regr.coef_[0][1],regr.coef_[0][2])\n"
   ]
  },
  {
   "cell_type": "markdown",
   "metadata": {},
   "source": [
    "# Error cuadrático medio para los datos de entrenamiento y de prueba.         (scikit-learn)"
   ]
  },
  {
   "cell_type": "code",
   "execution_count": 110,
   "metadata": {
    "collapsed": false
   },
   "outputs": [
    {
     "name": "stdout",
     "output_type": "stream",
     "text": [
      "===El error promedio para los datos de entrenamiento es el siguiente===\n",
      "0.196549903299\n",
      "\n",
      "\n",
      "===El error promedio para los datos de validación es el siguiente===\n",
      "0.299576909709\n"
     ]
    }
   ],
   "source": [
    "y_train_hat_sk = regr.predict(x_train_2)\n",
    "y_test_hat_sk = regr.predict(x_test_2)\n",
    "\n",
    "\n",
    "sse_train_sk = (np.square(y_train - y_train_hat_sk).sum())/x_train_2.size\n",
    "sse_test_sk = (np.square(y_test- y_test_hat_sk).sum())/x_test_2.size\n",
    "\n",
    "print (\"===El error promedio para los datos de entrenamiento es el siguiente===\")\n",
    "print sse_train_sk[0]\n",
    "\n",
    "print (\"\\n\")\n",
    "\n",
    "print (\"===El error promedio para los datos de validación es el siguiente===\")\n",
    "print sse_test_sk[0]"
   ]
  },
  {
   "cell_type": "markdown",
   "metadata": {
    "collapsed": true
   },
   "source": [
    "# c.- Utilizando expansión de base polinomial y norma $l_{2}$."
   ]
  },
  {
   "cell_type": "code",
   "execution_count": 113,
   "metadata": {
    "collapsed": false
   },
   "outputs": [],
   "source": [
    "def reggresion_L2(X_train,y_train,grade=1):\n",
    "    phi_X_train = polynomial_expansion(X_train,grade)\n",
    "    \n",
    "    #Tecnicamente debemos de obtener una matriz de ceros ya que el grado al que vamos a expandir es 1\n",
    "    #print (phi_X_train-X_train)\n",
    "    \n",
    "    # crea matriz de diseño (agrega 1 a las entradas para la ordenada al origen)\n",
    "    #phi_X_train = X_train.copy()\n",
    "    phi_X_train = np.insert(phi_X_train,0,1.0,axis=1)\n",
    "    #print \"Here\",phi_X_train.shape\n",
    "    lambda_const = 0.01\n",
    "    regularizer = lambda_const * np.identity(phi_X_train.shape[1])\n",
    "    theta_map = np.dot(np.linalg.inv(regularizer + np.dot(np.transpose(phi_X_train), phi_X_train)),\n",
    "                   np.dot(np.transpose(phi_X_train), y_train))\n",
    "    \n",
    "    return phi_X_train,theta_map"
   ]
  },
  {
   "cell_type": "code",
   "execution_count": 133,
   "metadata": {
    "collapsed": false
   },
   "outputs": [],
   "source": [
    "x_train_3 = x_train.as_matrix()\n",
    "x_train_3,theta_map = reggresion_L2(x_train_3,y_train,grade=1)\n",
    "\n",
    "x_test_3 = x_test.as_matrix()\n",
    "x_test_3 = np.insert(x_test_3, 0,1 ,axis=1)\n",
    "\n",
    "\n",
    "y_train_hat_l2 = (np.sum(x_train_3*theta_map.T,axis=1))\n",
    "y_test_hat_l2  = (np.sum(x_test_3*theta_map.T,axis=1))\n",
    "\n"
   ]
  },
  {
   "cell_type": "code",
   "execution_count": 125,
   "metadata": {
    "collapsed": false
   },
   "outputs": [
    {
     "name": "stdout",
     "output_type": "stream",
     "text": [
      "===El error promedio para los datos de entrenamiento usando norma l2 es el siguiente===\n",
      "0.196549913906\n",
      "\n",
      "\n",
      "===El error promedio para los datos de validación usando norma l2 es el siguiente===\n",
      "0.299611619818\n"
     ]
    }
   ],
   "source": [
    "# Se inspecciona la suma de los cuadrados del error (SSE)\n",
    "# entre las salidas del modelo y las deseadas\n",
    "sse_train_l2 = (np.square(y_train - y_train_hat_l2).sum())\n",
    "sse_test_l2 = (np.square(y_test- y_test_hat_l2).sum())\n",
    "\n",
    "\n",
    "# Se calcula error promedio MSE = SSE / N de entrenamiento y validación\n",
    "mse_train_l2 = sse_train_l2 / x_train_2.size\n",
    "mse_test_l2 = sse_test_l2 / x_test_2.size\n",
    "\n",
    "\n",
    "print (\"===El error promedio para los datos de entrenamiento usando norma l2 es el siguiente===\")\n",
    "print mse_train_l2[0]\n",
    "\n",
    "print (\"\\n\")\n",
    "\n",
    "print (\"===El error promedio para los datos de validación usando norma l2 es el siguiente===\")\n",
    "print mse_test_l2[0]"
   ]
  },
  {
   "cell_type": "markdown",
   "metadata": {},
   "source": [
    " # Aplicando norma $l_{2}$ utilizando la libreria de scikit-learn:"
   ]
  },
  {
   "cell_type": "code",
   "execution_count": 48,
   "metadata": {
    "collapsed": false
   },
   "outputs": [
    {
     "data": {
      "text/plain": [
       "array([[ 1.08282322, -0.54615367, -0.30038856]])"
      ]
     },
     "execution_count": 48,
     "metadata": {},
     "output_type": "execute_result"
    }
   ],
   "source": [
    "from sklearn.linear_model import Ridge\n",
    "import numpy as np \n",
    "\n",
    "X_train = x_train.as_matrix()\n",
    "phi_X_train = np.insert(X_train,0,1.0,axis=1)\n",
    "clf=Ridge(alpha=0.01,fit_intercept=False)\n",
    "clf.fit(phi_X_train,y_train) \n",
    "\n",
    "clf.coef_"
   ]
  }
 ],
 "metadata": {
  "kernelspec": {
   "display_name": "Python 2",
   "language": "python",
   "name": "python2"
  },
  "language_info": {
   "codemirror_mode": {
    "name": "ipython",
    "version": 2
   },
   "file_extension": ".py",
   "mimetype": "text/x-python",
   "name": "python",
   "nbconvert_exporter": "python",
   "pygments_lexer": "ipython2",
   "version": "2.7.12"
  }
 },
 "nbformat": 4,
 "nbformat_minor": 2
}
