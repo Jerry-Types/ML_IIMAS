{
 "cells": [
  {
   "cell_type": "markdown",
   "metadata": {},
   "source": [
    "# Regresión con datos sintéticos"
   ]
  },
  {
   "cell_type": "markdown",
   "metadata": {},
   "source": [
    "Aplica regresión lineal a los datos sintéticos que se encuentran divididos en los archivos de entrenamiento **x_entrenamiento.csv** y **y_entrenamiento.csv** y los de prueba **x_prueba.csv**  y **y_rueba.csv**\n",
    "Estos datos fueron contaminados con ruido gaussiano con media igual a 0 y desviación estándar\n",
    "igual a 0.05. "
   ]
  },
  {
   "cell_type": "markdown",
   "metadata": {},
   "source": [
    "Realiza lo siguiente:"
   ]
  },
  {
   "cell_type": "code",
   "execution_count": 365,
   "metadata": {
    "collapsed": false
   },
   "outputs": [
    {
     "name": "stdout",
     "output_type": "stream",
     "text": [
      "03_regresion_clasificacion_lineal.pdf  housing.data.5\r\n",
      "Codigos_Regresion_Lineal\t       Predicción de juegos.ipynb\r\n",
      "housing.data\t\t\t       Predicción de precios de casas.ipynb\r\n",
      "housing.data.1\t\t\t       regl_data\r\n",
      "housing.data.2\t\t\t       regl_data.zip\r\n",
      "housing.data.3\t\t\t       Regresión_Dato_Sintéticos.ipynb\r\n",
      "housing.data.4\r\n"
     ]
    }
   ],
   "source": [
    "# Comando para visualizar los archivos que tengo en la carpeta de Tarea3\n",
    "!ls"
   ]
  },
  {
   "cell_type": "code",
   "execution_count": 366,
   "metadata": {
    "collapsed": true
   },
   "outputs": [],
   "source": [
    "%matplotlib inline\n",
    "import pandas as pd\n",
    "import seaborn as sns\n",
    "import numpy as np\n",
    "from IPython.display import display\n"
   ]
  },
  {
   "cell_type": "code",
   "execution_count": 367,
   "metadata": {
    "collapsed": false
   },
   "outputs": [
    {
     "name": "stdout",
     "output_type": "stream",
     "text": [
      "Dimensiones del x_train:\n"
     ]
    },
    {
     "data": {
      "text/plain": [
       "(200, 2)"
      ]
     },
     "metadata": {},
     "output_type": "display_data"
    },
    {
     "name": "stdout",
     "output_type": "stream",
     "text": [
      "Dimensiones del y_train:\n"
     ]
    },
    {
     "data": {
      "text/plain": [
       "(200, 1)"
      ]
     },
     "metadata": {},
     "output_type": "display_data"
    },
    {
     "name": "stdout",
     "output_type": "stream",
     "text": [
      "x_train\n"
     ]
    },
    {
     "data": {
      "text/html": [
       "<div>\n",
       "<table border=\"1\" class=\"dataframe\">\n",
       "  <thead>\n",
       "    <tr style=\"text-align: right;\">\n",
       "      <th></th>\n",
       "      <th>0</th>\n",
       "      <th>1</th>\n",
       "    </tr>\n",
       "  </thead>\n",
       "  <tbody>\n",
       "    <tr>\n",
       "      <th>0</th>\n",
       "      <td>-1.913570</td>\n",
       "      <td>2.032600</td>\n",
       "    </tr>\n",
       "    <tr>\n",
       "      <th>1</th>\n",
       "      <td>1.817693</td>\n",
       "      <td>2.787149</td>\n",
       "    </tr>\n",
       "    <tr>\n",
       "      <th>2</th>\n",
       "      <td>-1.287542</td>\n",
       "      <td>1.051852</td>\n",
       "    </tr>\n",
       "    <tr>\n",
       "      <th>3</th>\n",
       "      <td>1.091132</td>\n",
       "      <td>2.287752</td>\n",
       "    </tr>\n",
       "    <tr>\n",
       "      <th>4</th>\n",
       "      <td>-0.952672</td>\n",
       "      <td>2.885976</td>\n",
       "    </tr>\n",
       "  </tbody>\n",
       "</table>\n",
       "</div>"
      ],
      "text/plain": [
       "          0         1\n",
       "0 -1.913570  2.032600\n",
       "1  1.817693  2.787149\n",
       "2 -1.287542  1.051852\n",
       "3  1.091132  2.287752\n",
       "4 -0.952672  2.885976"
      ]
     },
     "metadata": {},
     "output_type": "display_data"
    },
    {
     "name": "stdout",
     "output_type": "stream",
     "text": [
      "y_train\n"
     ]
    },
    {
     "data": {
      "text/html": [
       "<div>\n",
       "<table border=\"1\" class=\"dataframe\">\n",
       "  <thead>\n",
       "    <tr style=\"text-align: right;\">\n",
       "      <th></th>\n",
       "      <th>0</th>\n",
       "    </tr>\n",
       "  </thead>\n",
       "  <tbody>\n",
       "    <tr>\n",
       "      <th>0</th>\n",
       "      <td>0.619935</td>\n",
       "    </tr>\n",
       "    <tr>\n",
       "      <th>1</th>\n",
       "      <td>-0.640359</td>\n",
       "    </tr>\n",
       "    <tr>\n",
       "      <th>2</th>\n",
       "      <td>1.874947</td>\n",
       "    </tr>\n",
       "    <tr>\n",
       "      <th>3</th>\n",
       "      <td>-0.365971</td>\n",
       "    </tr>\n",
       "    <tr>\n",
       "      <th>4</th>\n",
       "      <td>0.623855</td>\n",
       "    </tr>\n",
       "  </tbody>\n",
       "</table>\n",
       "</div>"
      ],
      "text/plain": [
       "          0\n",
       "0  0.619935\n",
       "1 -0.640359\n",
       "2  1.874947\n",
       "3 -0.365971\n",
       "4  0.623855"
      ]
     },
     "metadata": {},
     "output_type": "display_data"
    }
   ],
   "source": [
    "x_train = pd.read_csv(\"regl_data/x_train.csv\",header=None)\n",
    "y_train = pd.read_csv(\"regl_data/y_train.csv\",header=None)\n",
    "\n",
    "print \"Dimensiones del x_train:\"\n",
    "display(x_train.shape)\n",
    "\n",
    "print \"Dimensiones del y_train:\"\n",
    "display(y_train.shape)\n",
    "\n",
    "print \"x_train\"\n",
    "display(x_train.head())\n",
    "\n",
    "print \"y_train\"\n",
    "display (y_train.head())"
   ]
  },
  {
   "cell_type": "markdown",
   "metadata": {},
   "source": [
    "## Estadisticos del *data_set* de entrenamiento: \n"
   ]
  },
  {
   "cell_type": "code",
   "execution_count": 368,
   "metadata": {
    "collapsed": false
   },
   "outputs": [
    {
     "data": {
      "text/plain": [
       "'Estadisticos del data_set de entrenamiento'"
      ]
     },
     "metadata": {},
     "output_type": "display_data"
    },
    {
     "data": {
      "text/html": [
       "<div>\n",
       "<table border=\"1\" class=\"dataframe\">\n",
       "  <thead>\n",
       "    <tr style=\"text-align: right;\">\n",
       "      <th></th>\n",
       "      <th>0</th>\n",
       "      <th>1</th>\n",
       "    </tr>\n",
       "  </thead>\n",
       "  <tbody>\n",
       "    <tr>\n",
       "      <th>count</th>\n",
       "      <td>200.000000</td>\n",
       "      <td>200.000000</td>\n",
       "    </tr>\n",
       "    <tr>\n",
       "      <th>mean</th>\n",
       "      <td>-0.040296</td>\n",
       "      <td>1.918557</td>\n",
       "    </tr>\n",
       "    <tr>\n",
       "      <th>std</th>\n",
       "      <td>1.287247</td>\n",
       "      <td>0.721394</td>\n",
       "    </tr>\n",
       "    <tr>\n",
       "      <th>min</th>\n",
       "      <td>-1.928379</td>\n",
       "      <td>0.550237</td>\n",
       "    </tr>\n",
       "    <tr>\n",
       "      <th>25%</th>\n",
       "      <td>-1.296099</td>\n",
       "      <td>1.333912</td>\n",
       "    </tr>\n",
       "    <tr>\n",
       "      <th>50%</th>\n",
       "      <td>0.496013</td>\n",
       "      <td>1.932160</td>\n",
       "    </tr>\n",
       "    <tr>\n",
       "      <th>75%</th>\n",
       "      <td>1.154615</td>\n",
       "      <td>2.538318</td>\n",
       "    </tr>\n",
       "    <tr>\n",
       "      <th>max</th>\n",
       "      <td>1.912665</td>\n",
       "      <td>3.129935</td>\n",
       "    </tr>\n",
       "  </tbody>\n",
       "</table>\n",
       "</div>"
      ],
      "text/plain": [
       "                0           1\n",
       "count  200.000000  200.000000\n",
       "mean    -0.040296    1.918557\n",
       "std      1.287247    0.721394\n",
       "min     -1.928379    0.550237\n",
       "25%     -1.296099    1.333912\n",
       "50%      0.496013    1.932160\n",
       "75%      1.154615    2.538318\n",
       "max      1.912665    3.129935"
      ]
     },
     "metadata": {},
     "output_type": "display_data"
    },
    {
     "data": {
      "text/plain": [
       "'Estadisticos del data_set de entrenamiento'"
      ]
     },
     "metadata": {},
     "output_type": "display_data"
    },
    {
     "data": {
      "text/html": [
       "<div>\n",
       "<table border=\"1\" class=\"dataframe\">\n",
       "  <thead>\n",
       "    <tr style=\"text-align: right;\">\n",
       "      <th></th>\n",
       "      <th>0</th>\n",
       "    </tr>\n",
       "  </thead>\n",
       "  <tbody>\n",
       "    <tr>\n",
       "      <th>count</th>\n",
       "      <td>200.000000</td>\n",
       "    </tr>\n",
       "    <tr>\n",
       "      <th>mean</th>\n",
       "      <td>0.528573</td>\n",
       "    </tr>\n",
       "    <tr>\n",
       "      <th>std</th>\n",
       "      <td>1.047393</td>\n",
       "    </tr>\n",
       "    <tr>\n",
       "      <th>min</th>\n",
       "      <td>-1.913288</td>\n",
       "    </tr>\n",
       "    <tr>\n",
       "      <th>25%</th>\n",
       "      <td>-0.225868</td>\n",
       "    </tr>\n",
       "    <tr>\n",
       "      <th>50%</th>\n",
       "      <td>0.631330</td>\n",
       "    </tr>\n",
       "    <tr>\n",
       "      <th>75%</th>\n",
       "      <td>1.222403</td>\n",
       "    </tr>\n",
       "    <tr>\n",
       "      <th>max</th>\n",
       "      <td>2.661427</td>\n",
       "    </tr>\n",
       "  </tbody>\n",
       "</table>\n",
       "</div>"
      ],
      "text/plain": [
       "                0\n",
       "count  200.000000\n",
       "mean     0.528573\n",
       "std      1.047393\n",
       "min     -1.913288\n",
       "25%     -0.225868\n",
       "50%      0.631330\n",
       "75%      1.222403\n",
       "max      2.661427"
      ]
     },
     "metadata": {},
     "output_type": "display_data"
    }
   ],
   "source": [
    "display (\"Estadisticos del data_set de entrenamiento\")\n",
    "display (x_train.describe())\n",
    "\n",
    "display (\"Estadisticos del data_set de entrenamiento\")\n",
    "display (y_train.describe())"
   ]
  },
  {
   "cell_type": "markdown",
   "metadata": {},
   "source": [
    "Grafica los datos de entrenamiento y de prueba y comenta brevemente acerca de cómo están\n",
    "distribuidos."
   ]
  },
  {
   "cell_type": "code",
   "execution_count": 369,
   "metadata": {
    "collapsed": false
   },
   "outputs": [
    {
     "data": {
      "image/png": "[encoded data removed]",
      "text/plain": [
       "<matplotlib.figure.Figure at 0x7fbbb013cc10>"
      ]
     },
     "metadata": {},
     "output_type": "display_data"
    }
   ],
   "source": [
    "\n",
    "sns.distplot(x_train[0], hist=True, rug=True);"
   ]
  },
  {
   "cell_type": "code",
   "execution_count": 370,
   "metadata": {
    "collapsed": false
   },
   "outputs": [
    {
     "data": {
      "image/png": "[encoded data removed]",
      "text/plain": [
       "<matplotlib.figure.Figure at 0x7fbbabee7150>"
      ]
     },
     "metadata": {},
     "output_type": "display_data"
    }
   ],
   "source": [
    "sns.distplot(x_train[1], hist=True, rug=True);"
   ]
  },
  {
   "cell_type": "code",
   "execution_count": 371,
   "metadata": {
    "collapsed": false
   },
   "outputs": [
    {
     "data": {
      "image/png": "[encoded data removed]",
      "text/plain": [
       "<matplotlib.figure.Figure at 0x7fbbab9f01d0>"
      ]
     },
     "metadata": {},
     "output_type": "display_data"
    }
   ],
   "source": [
    "sns.distplot(y_train[0], hist=True, rug=True);"
   ]
  },
  {
   "cell_type": "code",
   "execution_count": 372,
   "metadata": {
    "collapsed": false
   },
   "outputs": [
    {
     "data": {
      "image/png": "[encoded data removed]",
      "text/plain": [
       "<matplotlib.figure.Figure at 0x7fbbba92ad50>"
      ]
     },
     "metadata": {},
     "output_type": "display_data"
    }
   ],
   "source": [
    "import numpy as np\n",
    "from mpl_toolkits.mplot3d import Axes3D\n",
    "import matplotlib.pyplot as plt\n",
    "\n",
    "\n",
    "fig = plt.figure()\n",
    "ax = fig.add_subplot(111, projection='3d')\n",
    "n = 200\n",
    "xs = x_train[0]\n",
    "ys = x_train[0]\n",
    "zs = y_train[0]\n",
    "ax.scatter(xs, ys, zs, c='b', marker='^')\n",
    "\n",
    "ax.set_xlabel('X[0]_Train')\n",
    "ax.set_ylabel('X[1]_Train')\n",
    "ax.set_zlabel('Y[0]_Train')\n",
    "\n",
    "plt.show()"
   ]
  },
  {
   "cell_type": "markdown",
   "metadata": {
    "collapsed": true
   },
   "source": [
    "# Visualizacion y carga de los datos de prueba:"
   ]
  },
  {
   "cell_type": "code",
   "execution_count": 373,
   "metadata": {
    "collapsed": false
   },
   "outputs": [
    {
     "name": "stdout",
     "output_type": "stream",
     "text": [
      "Dimensiones del x_test:\n"
     ]
    },
    {
     "data": {
      "text/plain": [
       "(200, 2)"
      ]
     },
     "metadata": {},
     "output_type": "display_data"
    },
    {
     "name": "stdout",
     "output_type": "stream",
     "text": [
      "Dimensiones del y_test:\n"
     ]
    },
    {
     "data": {
      "text/plain": [
       "(200, 1)"
      ]
     },
     "metadata": {},
     "output_type": "display_data"
    },
    {
     "name": "stdout",
     "output_type": "stream",
     "text": [
      "x_test \n"
     ]
    },
    {
     "data": {
      "text/html": [
       "<div>\n",
       "<table border=\"1\" class=\"dataframe\">\n",
       "  <thead>\n",
       "    <tr style=\"text-align: right;\">\n",
       "      <th></th>\n",
       "      <th>0</th>\n",
       "      <th>1</th>\n",
       "    </tr>\n",
       "  </thead>\n",
       "  <tbody>\n",
       "    <tr>\n",
       "      <th>0</th>\n",
       "      <td>0.522360</td>\n",
       "      <td>2.641996</td>\n",
       "    </tr>\n",
       "    <tr>\n",
       "      <th>1</th>\n",
       "      <td>-1.556105</td>\n",
       "      <td>1.001378</td>\n",
       "    </tr>\n",
       "    <tr>\n",
       "      <th>2</th>\n",
       "      <td>1.578210</td>\n",
       "      <td>0.965343</td>\n",
       "    </tr>\n",
       "    <tr>\n",
       "      <th>3</th>\n",
       "      <td>-1.796698</td>\n",
       "      <td>1.007622</td>\n",
       "    </tr>\n",
       "    <tr>\n",
       "      <th>4</th>\n",
       "      <td>-1.778407</td>\n",
       "      <td>2.337267</td>\n",
       "    </tr>\n",
       "  </tbody>\n",
       "</table>\n",
       "</div>"
      ],
      "text/plain": [
       "          0         1\n",
       "0  0.522360  2.641996\n",
       "1 -1.556105  1.001378\n",
       "2  1.578210  0.965343\n",
       "3 -1.796698  1.007622\n",
       "4 -1.778407  2.337267"
      ]
     },
     "metadata": {},
     "output_type": "display_data"
    },
    {
     "name": "stdout",
     "output_type": "stream",
     "text": [
      "y_test:\n"
     ]
    },
    {
     "data": {
      "text/html": [
       "<div>\n",
       "<table border=\"1\" class=\"dataframe\">\n",
       "  <thead>\n",
       "    <tr style=\"text-align: right;\">\n",
       "      <th></th>\n",
       "      <th>0</th>\n",
       "    </tr>\n",
       "  </thead>\n",
       "  <tbody>\n",
       "    <tr>\n",
       "      <th>0</th>\n",
       "      <td>0.489523</td>\n",
       "    </tr>\n",
       "    <tr>\n",
       "      <th>1</th>\n",
       "      <td>1.051965</td>\n",
       "    </tr>\n",
       "    <tr>\n",
       "      <th>2</th>\n",
       "      <td>-1.055267</td>\n",
       "    </tr>\n",
       "    <tr>\n",
       "      <th>3</th>\n",
       "      <td>0.492597</td>\n",
       "    </tr>\n",
       "    <tr>\n",
       "      <th>4</th>\n",
       "      <td>0.660550</td>\n",
       "    </tr>\n",
       "  </tbody>\n",
       "</table>\n",
       "</div>"
      ],
      "text/plain": [
       "          0\n",
       "0  0.489523\n",
       "1  1.051965\n",
       "2 -1.055267\n",
       "3  0.492597\n",
       "4  0.660550"
      ]
     },
     "metadata": {},
     "output_type": "display_data"
    }
   ],
   "source": [
    "x_test = pd.read_csv(\"regl_data/x_test.csv\",header=None)\n",
    "y_test = pd.read_csv(\"regl_data/y_test.csv\",header=None)\n",
    "\n",
    "print \"Dimensiones del x_test:\"\n",
    "display(x_test.shape)\n",
    "\n",
    "print \"Dimensiones del y_test:\"\n",
    "display(y_test.shape)\n",
    "\n",
    "\n",
    "print \"x_test \"\n",
    "display(x_test.head())\n",
    "print \"y_test:\"\n",
    "display(y_test.head())"
   ]
  },
  {
   "cell_type": "code",
   "execution_count": 374,
   "metadata": {
    "collapsed": false
   },
   "outputs": [
    {
     "data": {
      "text/plain": [
       "<matplotlib.axes._subplots.AxesSubplot at 0x7fbbab8973d0>"
      ]
     },
     "execution_count": 374,
     "metadata": {},
     "output_type": "execute_result"
    },
    {
     "data": {
      "image/png": "[encoded data removed]",
      "text/plain": [
       "<matplotlib.figure.Figure at 0x7fbbb05cc310>"
      ]
     },
     "metadata": {},
     "output_type": "display_data"
    }
   ],
   "source": [
    "sns.distplot(x_test[0], hist=True, rug=True)"
   ]
  },
  {
   "cell_type": "code",
   "execution_count": 375,
   "metadata": {
    "collapsed": false
   },
   "outputs": [
    {
     "data": {
      "text/plain": [
       "<matplotlib.axes._subplots.AxesSubplot at 0x7fbbb05a6ad0>"
      ]
     },
     "execution_count": 375,
     "metadata": {},
     "output_type": "execute_result"
    },
    {
     "data": {
      "image/png": "[encoded data removed]",
      "text/plain": [
       "<matplotlib.figure.Figure at 0x7fbbabc00c50>"
      ]
     },
     "metadata": {},
     "output_type": "display_data"
    }
   ],
   "source": [
    "sns.distplot(x_test[1], hist=True, rug=True)"
   ]
  },
  {
   "cell_type": "code",
   "execution_count": 376,
   "metadata": {
    "collapsed": false
   },
   "outputs": [
    {
     "data": {
      "text/plain": [
       "<matplotlib.axes._subplots.AxesSubplot at 0x7fbbab8c14d0>"
      ]
     },
     "execution_count": 376,
     "metadata": {},
     "output_type": "execute_result"
    },
    {
     "data": {
      "image/png": "[encoded data removed]",
      "text/plain": [
       "<matplotlib.figure.Figure at 0x7fbbab8f4a50>"
      ]
     },
     "metadata": {},
     "output_type": "display_data"
    }
   ],
   "source": [
    "sns.distplot(y_test[0], hist=True, rug=True)"
   ]
  },
  {
   "cell_type": "code",
   "execution_count": 377,
   "metadata": {
    "collapsed": false
   },
   "outputs": [
    {
     "data": {
      "image/png": "[encoded data removed]",
      "text/plain": [
       "<matplotlib.figure.Figure at 0x7fbbab9e7490>"
      ]
     },
     "metadata": {},
     "output_type": "display_data"
    }
   ],
   "source": [
    "import numpy as np\n",
    "from mpl_toolkits.mplot3d import Axes3D\n",
    "import matplotlib.pyplot as plt\n",
    "\n",
    "\n",
    "fig = plt.figure()\n",
    "ax = fig.add_subplot(111, projection='3d')\n",
    "n = 200\n",
    "xs = x_test[0]\n",
    "ys = x_test[0]\n",
    "zs = y_test[0]\n",
    "ax.scatter(xs, ys, zs, c='b', marker='^')\n",
    "\n",
    "ax.set_xlabel('X[0]_Test')\n",
    "ax.set_ylabel('X[1]_Test')\n",
    "ax.set_zlabel('Y[0]_Test')\n",
    "\n",
    "plt.show()"
   ]
  },
  {
   "cell_type": "markdown",
   "metadata": {},
   "source": [
    "# b. Modelo utilizando implentación propia:\n",
    "\n",
    "Se implementara el modelo de una regresión lineal de la forma $f(x)=\\Theta_{0} + \\Theta_{1}*x_{1}+ \\Theta_{2}*x_{2}$"
   ]
  },
  {
   "cell_type": "code",
   "execution_count": 378,
   "metadata": {
    "collapsed": true
   },
   "outputs": [],
   "source": [
    "def polynomial_expansion(X, degree):\n",
    "    phi_X = X\n",
    "    for i in range(degree - 1):\n",
    "        powerX = np.power(X, i + 2)\n",
    "        phi_X = np.column_stack((phi_X, powerX))\n",
    "    return phi_X"
   ]
  },
  {
   "cell_type": "code",
   "execution_count": 379,
   "metadata": {
    "collapsed": true
   },
   "outputs": [],
   "source": [
    "def MyLinearRegression(X_train,y_train):\n",
    "    # Para encontrar pesos por mínimos cuadrados, theta_ml = (XT X)-1 XT y\n",
    "    # (XT X)\n",
    "    XTX = np.dot(X_train.T, X_train)\n",
    "    # (XT X)-1\n",
    "    XTX_inv = np.linalg.inv(XTX)\n",
    "    # XT y\n",
    "    XTy = np.dot(X_train.T, y_train)\n",
    "    #theta_ml = (XT X)-1 XT y\n",
    "    theta_ml = np.dot(XTX_inv, XTy)\n",
    "    return theta_ml"
   ]
  },
  {
   "cell_type": "code",
   "execution_count": 380,
   "metadata": {
    "collapsed": false
   },
   "outputs": [
    {
     "name": "stdout",
     "output_type": "stream",
     "text": [
      "Los párametros encontrados usando el estimador de máxima verosimilitud son: \n",
      "(1.0833295824645832, -0.5461849484233422, -0.30062493084821673)\n"
     ]
    }
   ],
   "source": [
    "# Definir procedimiento.\n",
    "x_train_2 = x_train.as_matrix()\n",
    "x_train_2 = np.insert(x_train_2, 0,1 ,axis=1)\n",
    "\n",
    "x_test_2 = x_test.as_matrix()\n",
    "x_test_2 = np.insert(x_test_2, 0,1 ,axis=1)\n",
    "\n",
    "# Se obienen los párametros de Theta.\n",
    "theta_ml = MyLinearRegression(x_train_2,y_train)\n",
    "theta_ml =theta_ml.reshape(3,)\n",
    "\n",
    "# Se obitne el valor para y^ \n",
    "y_train_hat= (np.sum(x_train_2*theta_ml,axis=1))\n",
    "y_test_hat = (np.sum(x_test_2*theta_ml,axis=1))\n",
    "\n",
    "\n",
    "print (\"Los párametros encontrados usando el estimador de máxima verosimilitud son: \")\n",
    "print  (theta_ml[0],theta_ml[1],theta_ml[2])"
   ]
  },
  {
   "cell_type": "markdown",
   "metadata": {},
   "source": [
    "# Error cuadrático medio para los datos de entrenamiento y de prueba."
   ]
  },
  {
   "cell_type": "code",
   "execution_count": 381,
   "metadata": {
    "collapsed": false
   },
   "outputs": [
    {
     "name": "stdout",
     "output_type": "stream",
     "text": [
      "===El error promedio para los datos de entrenamiento es el siguiente===\n",
      "0.589649709897\n",
      "\n",
      "\n",
      "===El error promedio para los datos de validación es el siguiente===\n",
      "0.898730729128\n"
     ]
    }
   ],
   "source": [
    "y_train_hat = y_train_hat.reshape(200,1)\n",
    "y_test_hat = y_test_hat.reshape(200,1) \n",
    "\n",
    "# Se inspecciona la suma de los cuadrados del error (SSE)\n",
    "# entre las salidas del modelo y las deseadas\n",
    "sse_train = (np.square(y_train - y_train_hat).sum())\n",
    "sse_test = (np.square(y_test- y_test_hat).sum())\n",
    "\n",
    "# Se calcula error promedio MSE = SSE / N de entrenamiento y validación\n",
    "mse_train = sse_train / x_train_2.shape[0]\n",
    "mse_test= sse_test / x_test_2.shape[0]\n",
    "\n",
    "print (\"===El error promedio para los datos de entrenamiento es el siguiente===\")\n",
    "print mse_train[0]\n",
    "\n",
    "print (\"\\n\")\n",
    "\n",
    "print (\"===El error promedio para los datos de validación es el siguiente===\")\n",
    "print mse_test[0]"
   ]
  },
  {
   "cell_type": "markdown",
   "metadata": {},
   "source": [
    "# Modelo utilizando scikit-learn:"
   ]
  },
  {
   "cell_type": "code",
   "execution_count": 382,
   "metadata": {
    "collapsed": false
   },
   "outputs": [
    {
     "name": "stdout",
     "output_type": "stream",
     "text": [
      "Los párametros encontrados usando el estimador de máxima verosimilitud son: \n",
      "(1.083329582464579, -0.54618494842334275, -0.30062493084821446)\n"
     ]
    }
   ],
   "source": [
    "import numpy as np\n",
    "from sklearn import datasets, linear_model\n",
    "\n",
    "# Creamos un objeto de la clase LinearRegression\n",
    "regr = linear_model.LinearRegression(fit_intercept=False)\n",
    "# Entreando el modelo usando el data_set de entrenamiento.\n",
    "regr.fit(x_train_2, y_train)\n",
    "\n",
    "print (\"Los párametros encontrados usando el estimador de máxima verosimilitud son: \")\n",
    "print  (regr.coef_[0][0],regr.coef_[0][1],regr.coef_[0][2])\n"
   ]
  },
  {
   "cell_type": "markdown",
   "metadata": {},
   "source": [
    "# Error cuadrático medio para los datos de entrenamiento y de prueba.         (scikit-learn)"
   ]
  },
  {
   "cell_type": "code",
   "execution_count": 383,
   "metadata": {
    "collapsed": false
   },
   "outputs": [
    {
     "name": "stdout",
     "output_type": "stream",
     "text": [
      "===El error promedio para los datos de entrenamiento es el siguiente===\n",
      "0.589649709897\n",
      "\n",
      "\n",
      "===El error promedio para los datos de validación es el siguiente===\n",
      "0.898730729128\n"
     ]
    }
   ],
   "source": [
    "y_train_hat_sk = regr.predict(x_train_2)\n",
    "y_test_hat_sk = regr.predict(x_test_2)\n",
    "\n",
    "\n",
    "sse_train_sk = (np.square(y_train - y_train_hat_sk).sum())/x_train_2.shape[0]\n",
    "sse_test_sk = (np.square(y_test- y_test_hat_sk).sum())/x_test_2.shape[0]\n",
    "\n",
    "print (\"===El error promedio para los datos de entrenamiento es el siguiente===\")\n",
    "print sse_train_sk[0]\n",
    "\n",
    "print (\"\\n\")\n",
    "\n",
    "print (\"===El error promedio para los datos de validación es el siguiente===\")\n",
    "print sse_test_sk[0]"
   ]
  },
  {
   "cell_type": "markdown",
   "metadata": {
    "collapsed": true
   },
   "source": [
    "# c.- Utilizando expansión de base polinomial y norma $l_{2}$."
   ]
  },
  {
   "cell_type": "code",
   "execution_count": 384,
   "metadata": {
    "collapsed": true
   },
   "outputs": [],
   "source": [
    "def polynomial_expansion_2(X, degree):\n",
    "    phi_X = X\n",
    "    for i in range(degree - 1):\n",
    "        powerX = np.power(X, i + 2)\n",
    "        phi_X = np.column_stack((phi_X, powerX))\n",
    "    return phi_X"
   ]
  },
  {
   "cell_type": "code",
   "execution_count": 385,
   "metadata": {
    "collapsed": true
   },
   "outputs": [],
   "source": [
    "def reggresion_L2(X_train,degree=1,lambda_const=0.01):\n",
    "    ones_train = np.ones(X_train.shape[0])\n",
    "    phi_X_train = np.column_stack((ones_train, X_train))\n",
    "    phi_X_train = polynomial_expansion_2(phi_X_train,degree)\n",
    "    regularizer = lambda_const * np.identity(phi_X_train.shape[1])\n",
    "    theta_map = np.dot(np.linalg.inv(regularizer + np.dot(np.transpose(phi_X_train), phi_X_train)),\n",
    "                   np.dot(np.transpose(phi_X_train), y_train))\n",
    "    return theta_map,phi_X_train\n"
   ]
  },
  {
   "cell_type": "code",
   "execution_count": 386,
   "metadata": {
    "collapsed": false
   },
   "outputs": [
    {
     "name": "stdout",
     "output_type": "stream",
     "text": [
      "Los párametros encontrados usando el estimador de máxima verosimilitud son: \n",
      "[[ 1.08282322]\n",
      " [-0.54615367]\n",
      " [-0.30038856]]\n"
     ]
    }
   ],
   "source": [
    "m_degree = 1\n",
    "x_train_3_par = x_train.as_matrix()\n",
    "theta_map, x_train_3= reggresion_L2(x_train_3_par,degree=m_degree)\n",
    "\n",
    "print (\"Los párametros encontrados usando el estimador de máxima verosimilitud son: \")\n",
    "print  (theta_map)"
   ]
  },
  {
   "cell_type": "code",
   "execution_count": 387,
   "metadata": {
    "collapsed": false
   },
   "outputs": [
    {
     "name": "stdout",
     "output_type": "stream",
     "text": [
      "===El error promedio para los datos de entrenamiento usando norma l2 es el siguiente===\n",
      "0.589649741717\n",
      "\n",
      "\n",
      "===El error promedio para los datos de validación usando norma l2 es el siguiente===\n",
      "0.898834859455\n"
     ]
    }
   ],
   "source": [
    "y_train_hat_l2 = (np.sum(x_train_3*theta_map.T,axis=1))\n",
    "\n",
    "y_train_hat_l2 = y_train_hat_l2.reshape(200,1)\n",
    "sse_train = np.square(y_train - y_train_hat_l2).sum()\n",
    "\n",
    "\n",
    "x_test_3 = x_test.as_matrix()\n",
    "ones_train_test = np.ones(x_test_3.shape[0]) \n",
    "x_test_3 = polynomial_expansion(x_test_3,degree=m_degree)\n",
    "x_test_3 = np.column_stack((ones_train_test, x_test_3))\n",
    "\n",
    "y_test_hat_l2  = np.dot(x_test_3, theta_map)\n",
    "\n",
    "y_test_hat_l2 = y_test_hat_l2.reshape(200,1)\n",
    "sse_valid = np.square(y_test - y_test_hat_l2).sum()\n",
    "\n",
    "# Se calcula error promedio MSE = SSE / N de entrenamiento y validación\n",
    "mse_train_l2 = sse_train / x_train_3.shape[0]\n",
    "mse_test_l2 = sse_valid / x_test_3.shape[0]\n",
    "\n",
    "print (\"===El error promedio para los datos de entrenamiento usando norma l2 es el siguiente===\")\n",
    "print mse_train_l2[0]\n",
    "\n",
    "print (\"\\n\")\n",
    "\n",
    "print (\"===El error promedio para los datos de validación usando norma l2 es el siguiente===\")\n",
    "print mse_test_l2[0]\n"
   ]
  },
  {
   "cell_type": "markdown",
   "metadata": {},
   "source": [
    " # Aplicando norma $l_{2}$ utilizando la libreria de scikit-learn:"
   ]
  },
  {
   "cell_type": "code",
   "execution_count": 388,
   "metadata": {
    "collapsed": false
   },
   "outputs": [
    {
     "name": "stdout",
     "output_type": "stream",
     "text": [
      "Los párametros encontrados usando norma l2 son los siguientes\n",
      "[[ 1.08282322 -0.54615367 -0.30038856]]\n"
     ]
    }
   ],
   "source": [
    "from sklearn.linear_model import Ridge\n",
    "import numpy as np \n",
    "\n",
    "X_train = x_train.as_matrix()\n",
    "X_test = x_test.as_matrix()\n",
    "\n",
    "phi_X_train = np.insert(X_train,0,1.0,axis=1)\n",
    "phi_X_test= np.insert(X_test,0,1.0,axis=1)\n",
    "\n",
    "clf=Ridge(alpha=0.01,fit_intercept=False)\n",
    "clf.fit(phi_X_train,y_train) \n",
    "\n",
    "print (\"Los párametros encontrados usando norma l2 son los siguientes\") \n",
    "print clf.coef_"
   ]
  },
  {
   "cell_type": "code",
   "execution_count": 389,
   "metadata": {
    "collapsed": false
   },
   "outputs": [
    {
     "name": "stdout",
     "output_type": "stream",
     "text": [
      "===El error promedio para los datos de entrenamiento es el siguiente===\n",
      "0.589649741717\n",
      "\n",
      "\n",
      "===El error promedio para los datos de validación es el siguiente===\n",
      "0.898834859455\n"
     ]
    }
   ],
   "source": [
    "y_train_hat_l2_sk = clf.predict(phi_X_train)\n",
    "y_test_hat_l2_sk = clf.predict(phi_X_test)\n",
    "\n",
    "sse_train_l2_sk = (np.square(y_train - y_train_hat_l2_sk).sum())/phi_X_train.shape[0]\n",
    "sse_test_l2_sk = (np.square(y_test- y_test_hat_l2_sk).sum())/phi_X_test.shape[0]\n",
    "\n",
    "print (\"===El error promedio para los datos de entrenamiento es el siguiente===\")\n",
    "print sse_train_l2_sk[0]\n",
    "\n",
    "print (\"\\n\")\n",
    "\n",
    "print (\"===El error promedio para los datos de validación es el siguiente===\")\n",
    "print sse_test_l2_sk[0]"
   ]
  },
  {
   "cell_type": "markdown",
   "metadata": {},
   "source": [
    " # Implementando diferentes grados del polinomio al igual que diferentes valores de lambda para los datos de entrenamiento. \n",
    " \n",
    " "
   ]
  },
  {
   "cell_type": "code",
   "execution_count": 390,
   "metadata": {
    "collapsed": true
   },
   "outputs": [],
   "source": [
    "def polynomial_expansion_2(X, degree):\n",
    "    phi_X = X\n",
    "    for i in range(degree - 1):\n",
    "        powerX = np.power(X, i + 2)\n",
    "        phi_X = np.column_stack((phi_X, powerX))\n",
    "    return phi_X"
   ]
  },
  {
   "cell_type": "code",
   "execution_count": 391,
   "metadata": {
    "collapsed": true
   },
   "outputs": [],
   "source": [
    "def reggresion_L2(X_train,degree=1,lambda_const=0.01):\n",
    "    ones_train = np.ones(X_train.shape[0])\n",
    "    phi_X_train = np.column_stack((ones_train, X_train))\n",
    "    phi_X_train = polynomial_expansion_2(phi_X_train,degree)\n",
    "    regularizer = lambda_const * np.identity(phi_X_train.shape[1])\n",
    "    theta_map = np.dot(np.linalg.inv(regularizer + np.dot(np.transpose(phi_X_train), phi_X_train)),\n",
    "                   np.dot(np.transpose(phi_X_train), y_train))\n",
    "    return theta_map,phi_X_train"
   ]
  },
  {
   "cell_type": "code",
   "execution_count": 392,
   "metadata": {
    "collapsed": false
   },
   "outputs": [
    {
     "name": "stdout",
     "output_type": "stream",
     "text": [
      "(200, 3)\n",
      "================================================================\n",
      "Los parametros obtenidos usando norma l2 con lamba =0.01000 \n",
      "Utilizando expansión del polinomio de grado=1\n",
      "[[ 1.08282322]\n",
      " [-0.54615367]\n",
      " [-0.30038856]]\n",
      "El error promedio es : 0.58965\n",
      "\n",
      "\n",
      "================================================================\n",
      "(200, 6)\n",
      "================================================================\n",
      "Los parametros obtenidos usando norma l2 con lamba =0.01000 \n",
      "Utilizando expansión del polinomio de grado=2\n",
      "[[ 1.04857349]\n",
      " [-0.61599255]\n",
      " [-0.23303858]\n",
      " [ 1.04857349]\n",
      " [-0.61640318]\n",
      " [-0.03074179]]\n",
      "El error promedio es : 0.18034\n",
      "\n",
      "\n",
      "================================================================\n",
      "(200, 9)\n",
      "================================================================\n",
      "Los parametros obtenidos usando norma l2 con lamba =0.01000 \n",
      "Utilizando expansión del polinomio de grado=3\n",
      "[[ 0.67033232]\n",
      " [-0.76796321]\n",
      " [-0.01120842]\n",
      " [ 0.67033232]\n",
      " [-0.61684911]\n",
      " [-0.16650632]\n",
      " [ 0.67033232]\n",
      " [ 0.06555437]\n",
      " [ 0.02413643]]\n",
      "El error promedio es : 0.17371\n",
      "\n",
      "\n",
      "================================================================\n",
      "(200, 12)\n",
      "================================================================\n",
      "Los parametros obtenidos usando norma l2 con lamba =0.01000 \n",
      "Utilizando expansión del polinomio de grado=4\n",
      "[[ 0.44783679]\n",
      " [-0.76870995]\n",
      " [ 0.63046668]\n",
      " [ 0.44783679]\n",
      " [-0.62655186]\n",
      " [-0.78283268]\n",
      " [ 0.44783679]\n",
      " [ 0.06567656]\n",
      " [ 0.26490305]\n",
      " [ 0.44783679]\n",
      " [ 0.00261823]\n",
      " [-0.03281303]]\n",
      "El error promedio es : 0.17358\n",
      "\n",
      "\n",
      "================================================================\n",
      "(200, 15)\n",
      "================================================================\n",
      "Los parametros obtenidos usando norma l2 con lamba =0.01000 \n",
      "Utilizando expansión del polinomio de grado=5\n",
      "[[ 0.37753799]\n",
      " [-0.75759384]\n",
      " [-0.48526595]\n",
      " [ 0.37753817]\n",
      " [-0.64325353]\n",
      " [ 1.6637231 ]\n",
      " [ 0.37753808]\n",
      " [ 0.05335352]\n",
      " [-1.75008331]\n",
      " [ 0.37753808]\n",
      " [ 0.00719755]\n",
      " [ 0.67088554]\n",
      " [ 0.37753808]\n",
      " [ 0.00263281]\n",
      " [-0.08788962]]\n",
      "El error promedio es : 0.17205\n",
      "\n",
      "\n",
      "================================================================\n",
      "(200, 3)\n",
      "================================================================\n",
      "Los parametros obtenidos usando norma l2 con lamba =0.00010 \n",
      "Utilizando expansión del polinomio de grado=1\n",
      "[[ 1.08332452]\n",
      " [-0.54618464]\n",
      " [-0.30062257]]\n",
      "El error promedio es : 0.58965\n",
      "\n",
      "\n",
      "================================================================\n",
      "(200, 6)\n",
      "================================================================\n",
      "Los parametros obtenidos usando norma l2 con lamba =0.00010 \n",
      "Utilizando expansión del polinomio de grado=2\n",
      "[[ 1.05035298]\n",
      " [-0.61608151]\n",
      " [-0.23680403]\n",
      " [ 1.05035299]\n",
      " [-0.61653467]\n",
      " [-0.02980565]]\n",
      "El error promedio es : 0.18034\n",
      "\n",
      "\n",
      "================================================================\n",
      "(200, 9)\n",
      "================================================================\n",
      "Los parametros obtenidos usando norma l2 con lamba =0.00010 \n",
      "Utilizando expansión del polinomio de grado=3\n",
      "[[ 0.67296281]\n",
      " [-0.76823383]\n",
      " [-0.02508119]\n",
      " [ 0.67296282]\n",
      " [-0.61695276]\n",
      " [-0.15900517]\n",
      " [ 0.67296282]\n",
      " [ 0.06563698]\n",
      " [ 0.02288137]]\n",
      "El error promedio es : 0.17371\n",
      "\n",
      "\n",
      "================================================================\n",
      "(200, 12)\n",
      "================================================================\n",
      "Los parametros obtenidos usando norma l2 con lamba =0.00010 \n",
      "Utilizando expansión del polinomio de grado=4\n",
      "[[ 0.3741304 ]\n",
      " [-0.76904245]\n",
      " [ 1.43211311]\n",
      " [ 0.37413056]\n",
      " [-0.63295947]\n",
      " [-1.51226706]\n",
      " [ 0.37413048]\n",
      " [ 0.06567235]\n",
      " [ 0.53687831]\n",
      " [ 0.37413048]\n",
      " [ 0.00436469]\n",
      " [-0.06845211]]\n",
      "El error promedio es : 0.17353\n",
      "\n",
      "\n",
      "================================================================\n",
      "(200, 15)\n",
      "================================================================\n",
      "Los parametros obtenidos usando norma l2 con lamba =0.00010 \n",
      "Utilizando expansión del polinomio de grado=5\n",
      "[[  1.57812446e+00]\n",
      " [ -7.69107486e-01]\n",
      " [ -2.11438670e+01]\n",
      " [  1.57794253e+00]\n",
      " [ -6.21439305e-01]\n",
      " [  2.78437471e+01]\n",
      " [  1.57803344e+00]\n",
      " [  7.16884025e-02]\n",
      " [ -1.72087389e+01]\n",
      " [  1.57803347e+00]\n",
      " [  2.99910449e-04]\n",
      " [  4.96863203e+00]\n",
      " [  1.57803338e+00]\n",
      " [ -2.15703949e-03]\n",
      " [ -5.42097562e-01]]\n",
      "El error promedio es : 0.16703\n",
      "\n",
      "\n",
      "================================================================\n"
     ]
    },
    {
     "data": {
      "image/png": "[encoded data removed]",
      "text/plain": [
       "<matplotlib.figure.Figure at 0x7fbbab2ee090>"
      ]
     },
     "metadata": {},
     "output_type": "display_data"
    }
   ],
   "source": [
    "%matplotlib inline\n",
    "import numpy as np\n",
    "import matplotlib.pyplot as plt\n",
    "\n",
    "fig = plt.figure()\n",
    "ax = plt.subplot(111)\n",
    "\n",
    "lambdas = [0.01,0.0001]\n",
    "for lamb in lambdas:\n",
    "    Iteracion=[]\n",
    "    MSE = []\n",
    "    for m_degree in range(1,6):\n",
    "        #print m_degree\n",
    "        X_train = x_train.as_matrix()    \n",
    "        theta_map, X_train= reggresion_L2(X_train,degree=m_degree,lambda_const=lamb)\n",
    "        print X_train.shape\n",
    "        print (\"================================================================\")\n",
    "        print (\"Los parametros obtenidos usando norma l2 con lamba =%.5f \" %lamb)\n",
    "        print (\"Utilizando expansión del polinomio de grado=%i\" %m_degree)\n",
    "        print (theta_map)\n",
    "        y_train_hat_l2 = (np.sum(X_train*theta_map.T,axis=1))\n",
    "        y_train_hat_l2 = y_train_hat_l2.reshape(200,1)\n",
    "        sse_train = np.square(y_train - y_train_hat_l2).sum()\n",
    "        mse_train_l2 = sse_train / X_train.shape[0]\n",
    "        print (\"El error promedio es : %.5f\" %mse_train_l2)\n",
    "        print (\"\\n\")\n",
    "        print (\"================================================================\")\n",
    "        Iteracion.append(m_degree)\n",
    "        MSE.append(mse_train_l2[0]) \n",
    "    #print Iteracion\n",
    "    #print MSE\n",
    "    plt.plot(Iteracion, MSE,label='Norma l2 con lamb = %.5f' %lamb)\n",
    "ax.legend()\n",
    "plt.show()\n"
   ]
  },
  {
   "cell_type": "markdown",
   "metadata": {},
   "source": [
    " # Implementando diferentes grados del polinomio al igual que diferentes valores de lambda para los datos de prueba. "
   ]
  },
  {
   "cell_type": "code",
   "execution_count": 393,
   "metadata": {
    "collapsed": false
   },
   "outputs": [
    {
     "name": "stdout",
     "output_type": "stream",
     "text": [
      "(200, 3)\n",
      "================================================================\n",
      "Los parametros obtenidos usando norma l2 con lamba =0.01000 \n",
      "Utilizando expansión del polinomio de grado=1\n",
      "[[ 1.08282322]\n",
      " [-0.54615367]\n",
      " [-0.30038856]]\n",
      "El error promedio es : 0.89883\n",
      "\n",
      "\n",
      "================================================================\n",
      "(200, 6)\n",
      "================================================================\n",
      "Los parametros obtenidos usando norma l2 con lamba =0.01000 \n",
      "Utilizando expansión del polinomio de grado=2\n",
      "[[ 1.04857349]\n",
      " [-0.61599255]\n",
      " [-0.23303858]\n",
      " [ 1.04857349]\n",
      " [-0.61640318]\n",
      " [-0.03074179]]\n",
      "El error promedio es : 0.27335\n",
      "\n",
      "\n",
      "================================================================\n",
      "(200, 9)\n",
      "================================================================\n",
      "Los parametros obtenidos usando norma l2 con lamba =0.01000 \n",
      "Utilizando expansión del polinomio de grado=3\n",
      "[[ 0.67033232]\n",
      " [-0.76796321]\n",
      " [-0.01120842]\n",
      " [ 0.67033232]\n",
      " [-0.61684911]\n",
      " [-0.16650632]\n",
      " [ 0.67033232]\n",
      " [ 0.06555437]\n",
      " [ 0.02413643]]\n",
      "El error promedio es : 0.26255\n",
      "\n",
      "\n",
      "================================================================\n",
      "(200, 12)\n",
      "================================================================\n",
      "Los parametros obtenidos usando norma l2 con lamba =0.01000 \n",
      "Utilizando expansión del polinomio de grado=4\n",
      "[[ 0.44783679]\n",
      " [-0.76870995]\n",
      " [ 0.63046668]\n",
      " [ 0.44783679]\n",
      " [-0.62655186]\n",
      " [-0.78283268]\n",
      " [ 0.44783679]\n",
      " [ 0.06567656]\n",
      " [ 0.26490305]\n",
      " [ 0.44783679]\n",
      " [ 0.00261823]\n",
      " [-0.03281303]]\n",
      "El error promedio es : 0.26284\n",
      "\n",
      "\n",
      "================================================================\n",
      "(200, 15)\n",
      "================================================================\n",
      "Los parametros obtenidos usando norma l2 con lamba =0.01000 \n",
      "Utilizando expansión del polinomio de grado=5\n",
      "[[ 0.37753799]\n",
      " [-0.75759384]\n",
      " [-0.48526595]\n",
      " [ 0.37753817]\n",
      " [-0.64325353]\n",
      " [ 1.6637231 ]\n",
      " [ 0.37753808]\n",
      " [ 0.05335352]\n",
      " [-1.75008331]\n",
      " [ 0.37753808]\n",
      " [ 0.00719755]\n",
      " [ 0.67088554]\n",
      " [ 0.37753808]\n",
      " [ 0.00263281]\n",
      " [-0.08788962]]\n",
      "El error promedio es : 0.26562\n",
      "\n",
      "\n",
      "================================================================\n",
      "(200, 3)\n",
      "================================================================\n",
      "Los parametros obtenidos usando norma l2 con lamba =0.00010 \n",
      "Utilizando expansión del polinomio de grado=1\n",
      "[[ 1.08332452]\n",
      " [-0.54618464]\n",
      " [-0.30062257]]\n",
      "El error promedio es : 0.89873\n",
      "\n",
      "\n",
      "================================================================\n",
      "(200, 6)\n",
      "================================================================\n",
      "Los parametros obtenidos usando norma l2 con lamba =0.00010 \n",
      "Utilizando expansión del polinomio de grado=2\n",
      "[[ 1.05035298]\n",
      " [-0.61608151]\n",
      " [-0.23680403]\n",
      " [ 1.05035299]\n",
      " [-0.61653467]\n",
      " [-0.02980565]]\n",
      "El error promedio es : 0.27318\n",
      "\n",
      "\n",
      "================================================================\n",
      "(200, 9)\n",
      "================================================================\n",
      "Los parametros obtenidos usando norma l2 con lamba =0.00010 \n",
      "Utilizando expansión del polinomio de grado=3\n",
      "[[ 0.67296281]\n",
      " [-0.76823383]\n",
      " [-0.02508119]\n",
      " [ 0.67296282]\n",
      " [-0.61695276]\n",
      " [-0.15900517]\n",
      " [ 0.67296282]\n",
      " [ 0.06563698]\n",
      " [ 0.02288137]]\n",
      "El error promedio es : 0.26245\n",
      "\n",
      "\n",
      "================================================================\n",
      "(200, 12)\n",
      "================================================================\n",
      "Los parametros obtenidos usando norma l2 con lamba =0.00010 \n",
      "Utilizando expansión del polinomio de grado=4\n",
      "[[ 0.3741304 ]\n",
      " [-0.76904245]\n",
      " [ 1.43211311]\n",
      " [ 0.37413056]\n",
      " [-0.63295947]\n",
      " [-1.51226706]\n",
      " [ 0.37413048]\n",
      " [ 0.06567235]\n",
      " [ 0.53687831]\n",
      " [ 0.37413048]\n",
      " [ 0.00436469]\n",
      " [-0.06845211]]\n",
      "El error promedio es : 0.26378\n",
      "\n",
      "\n",
      "================================================================\n",
      "(200, 15)\n",
      "================================================================\n",
      "Los parametros obtenidos usando norma l2 con lamba =0.00010 \n",
      "Utilizando expansión del polinomio de grado=5\n",
      "[[  1.57812446e+00]\n",
      " [ -7.69107486e-01]\n",
      " [ -2.11438670e+01]\n",
      " [  1.57794253e+00]\n",
      " [ -6.21439305e-01]\n",
      " [  2.78437471e+01]\n",
      " [  1.57803344e+00]\n",
      " [  7.16884025e-02]\n",
      " [ -1.72087389e+01]\n",
      " [  1.57803347e+00]\n",
      " [  2.99910449e-04]\n",
      " [  4.96863203e+00]\n",
      " [  1.57803338e+00]\n",
      " [ -2.15703949e-03]\n",
      " [ -5.42097562e-01]]\n",
      "El error promedio es : 0.26440\n",
      "\n",
      "\n",
      "================================================================\n"
     ]
    },
    {
     "data": {
      "image/png": "[encoded data removed]",
      "text/plain": [
       "<matplotlib.figure.Figure at 0x7fbbab37d8d0>"
      ]
     },
     "metadata": {},
     "output_type": "display_data"
    }
   ],
   "source": [
    "%matplotlib inline\n",
    "import numpy as np\n",
    "import matplotlib.pyplot as plt\n",
    "\n",
    "fig2 = plt.figure()\n",
    "ax = plt.subplot(111)\n",
    "\n",
    "lambdas = [0.01,0.0001]\n",
    "for lamb in lambdas:\n",
    "    Iteracion=[]\n",
    "    MSE = []\n",
    "    for m_degree in range(1,6):\n",
    "        #print m_degree\n",
    "        X_train = x_train.as_matrix()    \n",
    "        theta_map, X_train= reggresion_L2(X_train,degree=m_degree,lambda_const=lamb)\n",
    "        print X_train.shape\n",
    "        print (\"================================================================\")\n",
    "        print (\"Los parametros obtenidos usando norma l2 con lamba =%.5f \" %lamb)\n",
    "        print (\"Utilizando expansión del polinomio de grado=%i\" %m_degree)\n",
    "        print (theta_map)\n",
    "        X_test= x_test.as_matrix()\n",
    "        phi_X_test= np.insert(X_test,0,1.0,axis=1)\n",
    "        phi_X_test = polynomial_expansion(phi_X_test, m_degree)\n",
    "        y_test_hat_l2 = (np.sum(phi_X_test*theta_map.T,axis=1))\n",
    "        y_test_hat_l2 = y_test_hat_l2.reshape(200,1)\n",
    "        sse_test = np.square(y_test- y_test_hat_l2).sum()\n",
    "        mse_test_l2 = sse_test / X_test.shape[0]\n",
    "        print (\"El error promedio es : %.5f\" %mse_test_l2)\n",
    "        print (\"\\n\")\n",
    "        print (\"================================================================\")\n",
    "        Iteracion.append(m_degree)\n",
    "        MSE.append(mse_test_l2[0]) \n",
    "    #print Iteracion\n",
    "    #print MSE\n",
    "    plt.plot(Iteracion, MSE,label='Norma l2 con lamb = %.5f' %lamb)\n",
    "ax.legend()\n",
    "plt.show()\n"
   ]
  },
  {
   "cell_type": "code",
   "execution_count": 394,
   "metadata": {
    "collapsed": false
   },
   "outputs": [
    {
     "name": "stdout",
     "output_type": "stream",
     "text": [
      "Los párametros encontrados usando norma l2 son los siguientes\n",
      "[[  1.57803342e+00  -7.69107486e-01  -2.11438669e+01   1.57803344e+00\n",
      "   -6.21439305e-01   2.78437469e+01   1.57803344e+00   7.16884024e-02\n",
      "   -1.72087389e+01   1.57803345e+00   2.99910484e-04   4.96863201e+00\n",
      "    1.57803350e+00  -2.15703947e-03  -5.42097560e-01]]\n"
     ]
    }
   ],
   "source": [
    "from sklearn.linear_model import Ridge\n",
    "import numpy as np \n",
    "\n",
    "X_train = x_train.as_matrix()\n",
    "X_test = x_test.as_matrix()\n",
    "\n",
    "phi_X_train = np.insert(X_train,0,1.0,axis=1)\n",
    "phi_X_train = polynomial_expansion(phi_X_train, 5)\n",
    "\n",
    "\n",
    "phi_X_test= np.insert(X_test,0,1.0,axis=1)\n",
    "phi_X_test = polynomial_expansion(phi_X_test, 5)\n",
    "\n",
    "clf=Ridge(alpha=0.0001,fit_intercept=False)\n",
    "clf.fit(phi_X_train,y_train) \n",
    "\n",
    "print (\"Los párametros encontrados usando norma l2 son los siguientes\") \n",
    "print clf.coef_"
   ]
  },
  {
   "cell_type": "code",
   "execution_count": 395,
   "metadata": {
    "collapsed": false
   },
   "outputs": [
    {
     "name": "stdout",
     "output_type": "stream",
     "text": [
      "\n",
      "\n",
      "===El error promedio para los datos de validación es el siguiente===\n",
      "0.264404911805\n"
     ]
    }
   ],
   "source": [
    "#y_train_hat_l2_sk = clf.predict(phi_X_train)\n",
    "y_test_hat_l2_sk = clf.predict(phi_X_test)\n",
    "\n",
    "\n",
    "#sse_train_l2_sk = (np.square(y_train - y_train_hat_l2_sk).sum())/phi_X_train.shape[0]\n",
    "sse_test_l2_sk = (np.square(y_test- y_test_hat_l2_sk).sum())/phi_X_test.shape[0]\n",
    "\n",
    "#print (\"===El error promedio para los datos de entrenamiento es el siguiente===\")\n",
    "#print sse_train_l2_sk[0]\n",
    "\n",
    "print (\"\\n\")\n",
    "\n",
    "print (\"===El error promedio para los datos de validación es el siguiente===\")\n",
    "print sse_test_l2_sk[0]"
   ]
  },
  {
   "cell_type": "code",
   "execution_count": null,
   "metadata": {
    "collapsed": true
   },
   "outputs": [],
   "source": []
  },
  {
   "cell_type": "code",
   "execution_count": 414,
   "metadata": {
    "collapsed": false
   },
   "outputs": [
    {
     "data": {
      "image/png": "[encoded data removed]",
      "text/plain": [
       "<matplotlib.figure.Figure at 0x7fbbaa9e5090>"
      ]
     },
     "metadata": {},
     "output_type": "display_data"
    },
    {
     "data": {
      "image/png": "[encoded data removed]",
      "text/plain": [
       "<matplotlib.figure.Figure at 0x7fbbaaff3bd0>"
      ]
     },
     "metadata": {},
     "output_type": "display_data"
    }
   ],
   "source": [
    "%matplotlib inline\n",
    "import numpy as np\n",
    "import matplotlib.pyplot as plt\n",
    "\n",
    "\n",
    "lambdas = [0.01,0.0001]\n",
    "for lamb in lambdas:\n",
    "    fig = plt.figure(num=None, figsize=(4,4), dpi=80, facecolor='w', edgecolor='k')\n",
    "    ax = plt.subplot(111)\n",
    "    ax.set_yscale('linear')\n",
    "    Iteracion=[]\n",
    "    MSE = []\n",
    "    Iteracion_test=[]\n",
    "    MSE_test = []    \n",
    "    for m_degree in range(1,10):\n",
    "        #print m_degree\n",
    "        X_train = x_train.as_matrix()    \n",
    "        theta_map, X_train= reggresion_L2(X_train,degree=m_degree,lambda_const=lamb)\n",
    "       \n",
    "        y_train_hat_l2 = (np.sum(X_train*theta_map.T,axis=1))\n",
    "        y_train_hat_l2 = y_train_hat_l2.reshape(200,1)\n",
    "        sse_train = np.square(y_train - y_train_hat_l2).sum()\n",
    "        mse_train_l2 = sse_train / X_train.shape[0]\n",
    "        Iteracion.append(m_degree)\n",
    "        MSE.append(mse_train_l2[0]) \n",
    "        \n",
    "        X_test= x_test.as_matrix()\n",
    "        phi_X_test= np.insert(X_test,0,1.0,axis=1)\n",
    "        phi_X_test = polynomial_expansion(phi_X_test, m_degree)\n",
    "        y_test_hat_l2 = (np.sum(phi_X_test*theta_map.T,axis=1))\n",
    "        y_test_hat_l2 = y_test_hat_l2.reshape(200,1)\n",
    "        sse_test = np.square(y_test- y_test_hat_l2).sum()\n",
    "        mse_test_l2 = sse_test / X_test.shape[0]\n",
    "      \n",
    "        Iteracion_test.append(m_degree)\n",
    "        MSE_test.append(mse_test_l2[0]) \n",
    "    #print Iteracion\n",
    "    #print MSE\n",
    "    plt.plot(Iteracion, MSE,label=' #Train#-Norma l2 con lamb = %.5f' %lamb)\n",
    "    plt.plot(Iteracion_test, MSE_test,label='#Test#-Norma ll con lamb = %.5f' %lamb)\n",
    "    ax.legend()\n",
    "    plt.show()\n"
   ]
  },
  {
   "cell_type": "markdown",
   "metadata": {},
   "source": [
    "## Observacciones:\n",
    "\n",
    "* Agragar el titulo a la gráfica anterior.\n",
    "* Agreager el comportamiento a los distintos modelos implementados."
   ]
  }
 ],
 "metadata": {
  "kernelspec": {
   "display_name": "Python 2",
   "language": "python",
   "name": "python2"
  },
  "language_info": {
   "codemirror_mode": {
    "name": "ipython",
    "version": 2
   },
   "file_extension": ".py",
   "mimetype": "text/x-python",
   "name": "python",
   "nbconvert_exporter": "python",
   "pygments_lexer": "ipython2",
   "version": "2.7.12"
  }
 },
 "nbformat": 4,
 "nbformat_minor": 2
}
