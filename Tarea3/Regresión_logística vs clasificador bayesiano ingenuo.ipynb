{
 "cells": [
  {
   "cell_type": "markdown",
   "metadata": {},
   "source": [
    "# Comparación de  los métodos de regresión logística y de bayesiano ingenuo."
   ]
  },
  {
   "cell_type": "code",
   "execution_count": 1,
   "metadata": {
    "collapsed": true
   },
   "outputs": [],
   "source": [
    "# Librerias utilizadas\n",
    "%matplotlib inline\n",
    "import pandas as pd\n",
    "import seaborn as sns\n",
    "import numpy as np\n",
    "from IPython.display import display"
   ]
  },
  {
   "cell_type": "markdown",
   "metadata": {},
   "source": [
    "## Clasificación de Spam: (Utilizando la regresión logística)"
   ]
  },
  {
   "cell_type": "markdown",
   "metadata": {},
   "source": [
    "## Carga de los datos de Spam:"
   ]
  },
  {
   "cell_type": "code",
   "execution_count": 2,
   "metadata": {
    "collapsed": false
   },
   "outputs": [
    {
     "data": {
      "text/plain": [
       "(5172, 2001)"
      ]
     },
     "execution_count": 2,
     "metadata": {},
     "output_type": "execute_result"
    }
   ],
   "source": [
    "df_spam =  pd.read_csv(\"nb_data/spam.csv\",delim_whitespace=True,header=None)\n",
    "df_spam.shape"
   ]
  },
  {
   "cell_type": "code",
   "execution_count": 3,
   "metadata": {
    "collapsed": false
   },
   "outputs": [],
   "source": [
    "X = df_spam.as_matrix()\n",
    "\n",
    "perm = np.random.permutation(X.shape[0])\n",
    "X= X[perm,:]\n",
    "\n",
    "X_train =  X[:int(X.shape[0] * 0.8),:]\n",
    "X_test = X[int(X.shape[0] * 0.8):,:]\n",
    "\n",
    "y_train= X_train[:,2000:2001]\n",
    "y_train = y_train.reshape(4137,)\n",
    "X_train= X_train[:,0:2000]\n",
    "\n",
    "y_test= X_test[:,2000:2001]\n",
    "X_test= X_test[:,0:2000]\n",
    "\n"
   ]
  },
  {
   "cell_type": "code",
   "execution_count": 4,
   "metadata": {
    "collapsed": true
   },
   "outputs": [],
   "source": [
    "def logistica(z):\n",
    "    return 1 / (1 + np.exp(-z))\n",
    "\n",
    "# calcula el gradiente \n",
    "def gradiente(X, y, p):\n",
    "    return np.dot(X.T, p - y) / y.size\n",
    "\n",
    "# realiza descenso del gradiente para regresión logística\n",
    "def descenso_gradiente(X, y, umbral_convergencia = 0.001, alpha = 0.1):\n",
    "    # inicializa los parámetros de forma aleatoria\n",
    "    theta_anterior = np.zeros(X.shape[1])\n",
    "    theta_nuevo = np.random.rand(X.shape[1])\n",
    "\n",
    "    # calcula cambio entre parámetros nuevos y anteriores (distancia euclideana)\n",
    "    distancia_theta = np.linalg.norm(theta_nuevo - theta_anterior)\n",
    "    \n",
    "    it = 0\n",
    "    while distancia_theta > umbral_convergencia:\n",
    "        # parámetros nuevos se vuelven los anteriores\n",
    "        theta_anterior = theta_nuevo\n",
    "\n",
    "        # calcula la probabilidad de que datos sean de la clase 1 con los parámetros anteriores\n",
    "        p = logistica(np.dot(X, theta_anterior)) # p = logistica(X theta)\n",
    "\n",
    "        # actualiza parámetros en la dirección del gradiente\n",
    "        theta_nuevo = theta_anterior - alpha * gradiente(X, y, p)\n",
    "\n",
    "        # calcula cambio entre parámetros nuevos y anteriores (distancia euclideana)\n",
    "        distancia_theta = np.linalg.norm(theta_nuevo - theta_anterior)\n",
    "\n",
    "        it = it + 1\n",
    "        #print \"Iteración\", it, \"theta_nuevo =\", theta_nuevo,\\\n",
    "        #      \"Cambio =\", distancia_theta\n",
    "\n",
    "    return theta_nuevo"
   ]
  },
  {
   "cell_type": "code",
   "execution_count": null,
   "metadata": {
    "collapsed": false
   },
   "outputs": [],
   "source": [
    "theta_emv = descenso_gradiente(X_train, y_train) \n",
    "print \"theta_emv = \", theta_emv.T"
   ]
  },
  {
   "cell_type": "code",
   "execution_count": null,
   "metadata": {
    "collapsed": true
   },
   "outputs": [],
   "source": []
  }
 ],
 "metadata": {
  "kernelspec": {
   "display_name": "Python 2",
   "language": "python",
   "name": "python2"
  },
  "language_info": {
   "codemirror_mode": {
    "name": "ipython",
    "version": 2
   },
   "file_extension": ".py",
   "mimetype": "text/x-python",
   "name": "python",
   "nbconvert_exporter": "python",
   "pygments_lexer": "ipython2",
   "version": "2.7.12"
  }
 },
 "nbformat": 4,
 "nbformat_minor": 2
}
