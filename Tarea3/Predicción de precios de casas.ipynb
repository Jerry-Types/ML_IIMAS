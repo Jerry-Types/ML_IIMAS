{
 "cells": [
  {
   "cell_type": "markdown",
   "metadata": {},
   "source": [
    "# Precios de Casas:\n",
    "\n",
    "A  partir  de  la  base  de  datos  de  precios  de  casas  de  Boston ( Boston  Housing  Data\n",
    "),  realiza  la regresión de los precios de las casas con las siguientes variantes:\n",
    "\n",
    "* Usando m ́ınimos cuadrados\n",
    "* Aplicando regularización por norma $l_{1}$ y $l_2$\n",
    "* Expandiendo los atributos con funciones base polinomiales\n",
    "* Seleccionando los atributos más importantes\n",
    "\n",
    "Grafica el error de generalización del modelo con diferentes grados del polinomio, coeficientes de\n",
    "regularización  y  n ́umero  de  atributos.  Todos  los  modelos  deber ́an  ser  evaluados  con  validación\n",
    "cruzada de 10 particiones"
   ]
  },
  {
   "cell_type": "code",
   "execution_count": 1,
   "metadata": {
    "collapsed": false
   },
   "outputs": [
    {
     "name": "stdout",
     "output_type": "stream",
     "text": [
      "--2017-03-20 19:43:33--  http://archive.ics.uci.edu/ml/machine-learning-databases/housing/housing.data\n",
      "Resolving archive.ics.uci.edu (archive.ics.uci.edu)... 128.195.10.249\n",
      "Connecting to archive.ics.uci.edu (archive.ics.uci.edu)|128.195.10.249|:80... connected.\n",
      "HTTP request sent, awaiting response... 200 OK\n",
      "Length: 49082 (48K) [text/plain]\n",
      "Saving to: ‘housing.data.1’\n",
      "\n",
      "housing.data.1      100%[===================>]  47.93K   187KB/s    in 0.3s    \n",
      "\n",
      "2017-03-20 19:43:34 (187 KB/s) - ‘housing.data.1’ saved [49082/49082]\n",
      "\n"
     ]
    }
   ],
   "source": [
    "# Se obtiene los datos de la liga que esta se encuentra de a continuación:\n",
    "!wget http://archive.ics.uci.edu/ml/machine-learning-databases/housing/housing.data"
   ]
  },
  {
   "cell_type": "code",
   "execution_count": 8,
   "metadata": {
    "collapsed": true
   },
   "outputs": [],
   "source": [
    "#Funcion MyLinearRegression la cual se baso en el código proporcionado por  @Dr. Gibran Fuentes-Pineda\n",
    "def MyLinearRegression(X_train,y_train):\n",
    "    # Para encontrar pesos por mínimos cuadrados, theta_ml = (XT X)-1 XT y\n",
    "    # (XT X)\n",
    "    XTX = np.dot(X_train.T, X_train)\n",
    "    # (XT X)-1\n",
    "    XTX_inv = np.linalg.inv(XTX)\n",
    "    # XT y\n",
    "    XTy = np.dot(X_train.T, y_train)\n",
    "    #theta_ml = (XT X)-1 XT y\n",
    "    theta_ml = np.dot(XTX_inv, XTy)\n",
    "    return theta_ml"
   ]
  },
  {
   "cell_type": "code",
   "execution_count": 9,
   "metadata": {
    "collapsed": false
   },
   "outputs": [
    {
     "name": "stdout",
     "output_type": "stream",
     "text": [
      "(404, 14)\n",
      "(102, 14)\n"
     ]
    }
   ],
   "source": [
    "import numpy as np\n",
    "\n",
    "#Se cargan los datos.\n",
    "data = np.loadtxt(\"housing.data\")\n",
    "\n",
    "# divide aleatoriamente la base de datos en entrenamiento (80%) y validación (20%)\n",
    "indices = numpy.random.permutation(data.shape[0])\n",
    "training_idx, test_idx = indices[:int(data.shape[0]*0.8)], indices[int(data.shape[0]*0.8):]\n",
    "X_train, X_test = data[training_idx,:], data[test_idx,:]\n",
    "\n",
    "#mostrando las dimensiones que tienen el conjunto de entrenamiento y el de test\n",
    "print (X_train.shape)\n",
    "print (X_test.shape)"
   ]
  },
  {
   "cell_type": "code",
   "execution_count": 30,
   "metadata": {
    "collapsed": false
   },
   "outputs": [],
   "source": [
    "# crea matriz de diseño (agrega 1 a las entradas para la ordenada al origen)\n",
    "X_train_ones_p = np.insert(X_train,0,1.0,axis=1)\n",
    "X_test_ones_p = np.insert(X_test,0,1.0,axis=1)\n",
    "\n",
    "# Se obtiene las variables que entraran al modelo\n",
    "X_train_ones=X_train_ones_p[:,0:14]\n",
    "X_test_ones=X_test_ones_p[:,0:14]\n",
    "\n",
    "# Se obtienen las variables que se van a predecir.\n",
    "y_train=X_train_ones_p[:,14:15]\n",
    "y_test=X_test_ones_p[:,14:15]"
   ]
  },
  {
   "cell_type": "code",
   "execution_count": 31,
   "metadata": {
    "collapsed": false
   },
   "outputs": [
    {
     "name": "stdout",
     "output_type": "stream",
     "text": [
      "('Coefficients: \\n', array([[  4.03774036e+01],\n",
      "       [ -1.02804588e-01],\n",
      "       [  5.69318523e-02],\n",
      "       [  5.98518997e-02],\n",
      "       [  2.92527491e+00],\n",
      "       [ -2.14960437e+01],\n",
      "       [  3.44351511e+00],\n",
      "       [  2.33202415e-02],\n",
      "       [ -1.43919398e+00],\n",
      "       [  3.31474637e-01],\n",
      "       [ -1.22792427e-02],\n",
      "       [ -1.00683412e+00],\n",
      "       [  8.38920765e-03],\n",
      "       [ -5.86707564e-01]]))\n"
     ]
    }
   ],
   "source": [
    "#Madar a llamar a la función que implementamos.\n",
    "print (\"Coefficients: \\n\",MyLinearRegression(X_train_ones,y_train))"
   ]
  },
  {
   "cell_type": "markdown",
   "metadata": {
    "collapsed": false
   },
   "source": [
    "# Usando sklearn:"
   ]
  },
  {
   "cell_type": "code",
   "execution_count": 32,
   "metadata": {
    "collapsed": false
   },
   "outputs": [
    {
     "name": "stdout",
     "output_type": "stream",
     "text": [
      "('Coefficients: \\n', array([[  4.03774036e+01,  -1.02804588e-01,   5.69318523e-02,\n",
      "          5.98518997e-02,   2.92527491e+00,  -2.14960437e+01,\n",
      "          3.44351511e+00,   2.33202415e-02,  -1.43919398e+00,\n",
      "          3.31474637e-01,  -1.22792427e-02,  -1.00683412e+00,\n",
      "          8.38920765e-03,  -5.86707564e-01]]))\n"
     ]
    }
   ],
   "source": [
    "import matplotlib.pyplot as plt\n",
    "import numpy as np\n",
    "from sklearn import datasets, linear_model\n",
    "\n",
    "# Create linear regression object\n",
    "regr = linear_model.LinearRegression(fit_intercept=False)\n",
    "\n",
    "# Train the model using the training sets\n",
    "regr.fit(X_train_ones, y_train)\n",
    "print('Coefficients: \\n', regr.coef_)"
   ]
  },
  {
   "cell_type": "code",
   "execution_count": 34,
   "metadata": {
    "collapsed": false
   },
   "outputs": [
    {
     "data": {
      "text/plain": [
       "[<matplotlib.lines.Line2D at 0x7fa92e773890>]"
      ]
     },
     "execution_count": 34,
     "metadata": {},
     "output_type": "execute_result"
    },
    {
     "data": {
      "image/png": "[encoded data removed]",
      "text/plain": [
       "<matplotlib.figure.Figure at 0x7fa92e5d4450>"
      ]
     },
     "metadata": {},
     "output_type": "display_data"
    }
   ],
   "source": [
    "%matplotlib inline\n",
    "import matplotlib.pyplot as plt\n",
    "import numpy as np\n",
    "\n",
    "n = 50\n",
    "x = np.random.randn(n)\n",
    "y = x * np.random.randn(n)\n",
    "\n",
    "\n",
    "fig, ax = plt.subplots()\n",
    "fit = np.polyfit(x, y, deg=1)\n",
    "ax.plot(x, fit[0] * x + fit[1], color='red')\n",
    "ax.scatter(x, y)\n",
    "\n",
    "fig.show()"
   ]
  },
  {
   "cell_type": "code",
   "execution_count": null,
   "metadata": {
    "collapsed": true
   },
   "outputs": [],
   "source": []
  }
 ],
 "metadata": {
  "kernelspec": {
   "display_name": "Python 2",
   "language": "python",
   "name": "python2"
  },
  "language_info": {
   "codemirror_mode": {
    "name": "ipython",
    "version": 2
   },
   "file_extension": ".py",
   "mimetype": "text/x-python",
   "name": "python",
   "nbconvert_exporter": "python",
   "pygments_lexer": "ipython2",
   "version": "2.7.12"
  }
 },
 "nbformat": 4,
 "nbformat_minor": 2
}
