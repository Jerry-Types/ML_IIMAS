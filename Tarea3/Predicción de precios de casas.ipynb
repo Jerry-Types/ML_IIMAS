{
 "cells": [
  {
   "cell_type": "markdown",
   "metadata": {},
   "source": [
    "# Precios de Casas:\n",
    "\n",
    "A  partir  de  la  base  de  datos  de  precios  de  casas  de  Boston ( Boston  Housing  Data\n",
    "),  realiza  la regresión de los precios de las casas con las siguientes variantes:\n",
    "\n",
    "* Usando m ́ınimos cuadrados\n",
    "* Aplicando regularización por norma $l_{1}$ y $l_2$\n",
    "* Expandiendo los atributos con funciones base polinomiales\n",
    "* Seleccionando los atributos más importantes\n",
    "\n",
    "Grafica el error de generalización del modelo con diferentes grados del polinomio, coeficientes de\n",
    "regularización  y  n ́umero  de  atributos.  Todos  los  modelos  deber ́an  ser  evaluados  con  validación\n",
    "cruzada de 10 particiones"
   ]
  },
  {
   "cell_type": "code",
   "execution_count": 77,
   "metadata": {
    "collapsed": false
   },
   "outputs": [
    {
     "name": "stdout",
     "output_type": "stream",
     "text": [
      "--2017-03-20 19:25:02--  http://archive.ics.uci.edu/ml/machine-learning-databases/housing/housing.data\n",
      "Resolving archive.ics.uci.edu (archive.ics.uci.edu)... 128.195.10.249\n",
      "Connecting to archive.ics.uci.edu (archive.ics.uci.edu)|128.195.10.249|:80... connected.\n",
      "HTTP request sent, awaiting response... 200 OK\n",
      "Length: 49082 (48K) [text/plain]\n",
      "Saving to: ‘housing.data.2’\n",
      "\n",
      "housing.data.2      100%[===================>]  47.93K  --.-KB/s    in 0.1s    \n",
      "\n",
      "2017-03-20 19:25:02 (383 KB/s) - ‘housing.data.2’ saved [49082/49082]\n",
      "\n"
     ]
    }
   ],
   "source": [
    "!wget http://archive.ics.uci.edu/ml/machine-learning-databases/housing/housing.data"
   ]
  },
  {
   "cell_type": "code",
   "execution_count": 78,
   "metadata": {
    "collapsed": false
   },
   "outputs": [
    {
     "name": "stdout",
     "output_type": "stream",
     "text": [
      "(404, 14)\n",
      "(102, 14)\n"
     ]
    }
   ],
   "source": [
    "import numpy\n",
    "\n",
    "indices = numpy.random.permutation(data.shape[0])\n",
    "training_idx, test_idx = indices[:int(data.shape[0]*0.8)], indices[int(data.shape[0]*0.8):]\n",
    "X_train, X_test = data[training_idx,:], data[test_idx,:]\n",
    "\n",
    "print (X_train.shape)\n",
    "print (X_test.shape)"
   ]
  },
  {
   "cell_type": "code",
   "execution_count": 79,
   "metadata": {
    "collapsed": false
   },
   "outputs": [
    {
     "name": "stdout",
     "output_type": "stream",
     "text": [
      "[  1.00000000e+00   1.35870000e-01   0.00000000e+00   1.05900000e+01\n",
      "   1.00000000e+00   4.89000000e-01   6.06400000e+00   5.91000000e+01\n",
      "   4.23920000e+00   4.00000000e+00   2.77000000e+02   1.86000000e+01\n",
      "   3.81320000e+02   1.46600000e+01   2.44000000e+01]\n"
     ]
    }
   ],
   "source": [
    "# crea matriz de diseño (agrega 1 a las entradas para la ordenada al origen)\n",
    "X_train_ones_p = np.insert(X_train,0,1.0,axis=1)\n",
    "print (X_train_ones_p[0])\n",
    "\n",
    "\n",
    "\n"
   ]
  },
  {
   "cell_type": "code",
   "execution_count": 80,
   "metadata": {
    "collapsed": false
   },
   "outputs": [],
   "source": [
    "X_train_ones=X_train_ones_p[:,0:14]\n",
    "#print (X_train_ones[0])\n",
    "y_train=X_train_ones_p[:,14:15]\n",
    "#print (y_train[0])\n"
   ]
  },
  {
   "cell_type": "code",
   "execution_count": 81,
   "metadata": {
    "collapsed": false
   },
   "outputs": [
    {
     "name": "stdout",
     "output_type": "stream",
     "text": [
      "[[  3.94072091e+01]\n",
      " [ -7.86219831e-02]\n",
      " [  4.39310885e-02]\n",
      " [  1.52249455e-02]\n",
      " [  2.48729600e+00]\n",
      " [ -1.93747420e+01]\n",
      " [  3.47129823e+00]\n",
      " [  9.42990684e-03]\n",
      " [ -1.43865764e+00]\n",
      " [  2.68441302e-01]\n",
      " [ -8.34033851e-03]\n",
      " [ -1.03912028e+00]\n",
      " [  1.00261114e-02]\n",
      " [ -5.67290412e-01]]\n"
     ]
    }
   ],
   "source": [
    "# Para encontrar pesos por mínimos cuadrados, theta_ml = (XT X)-1 XT y\n",
    "# (XT X)\n",
    "XTX = np.dot(X_train_ones.T, X_train_ones)\n",
    "# (XT X)-1\n",
    "XTX_inv = np.linalg.inv(XTX)\n",
    "# XT y\n",
    "XTy = np.dot(X_train_ones.T, y_train)\n",
    "#theta_ml = (XT X)-1 XT y\n",
    "theta_ml = np.dot(XTX_inv, XTy)\n",
    "print theta_ml\n"
   ]
  },
  {
   "cell_type": "code",
   "execution_count": 84,
   "metadata": {
    "collapsed": false
   },
   "outputs": [
    {
     "name": "stdout",
     "output_type": "stream",
     "text": [
      "('Coefficients: \\n', array([[  3.94072091e+01,  -7.86219831e-02,   4.39310885e-02,\n",
      "          1.52249455e-02,   2.48729600e+00,  -1.93747420e+01,\n",
      "          3.47129823e+00,   9.42990684e-03,  -1.43865764e+00,\n",
      "          2.68441302e-01,  -8.34033851e-03,  -1.03912028e+00,\n",
      "          1.00261114e-02,  -5.67290412e-01]]))\n",
      "Variance score: 0.73\n"
     ]
    }
   ],
   "source": [
    "import matplotlib.pyplot as plt\n",
    "import numpy as np\n",
    "from sklearn import datasets, linear_model\n",
    "\n",
    "# Create linear regression object\n",
    "regr = linear_model.LinearRegression(fit_intercept=False)\n",
    "\n",
    "# Train the model using the training sets\n",
    "regr.fit(X_train_ones, y_train)\n",
    "print('Coefficients: \\n', regr.coef_)\n",
    "# Explained variance score: 1 is perfect prediction\n",
    "print('Variance score: %.2f' % regr.score(X_train_ones, y_train))\n"
   ]
  },
  {
   "cell_type": "code",
   "execution_count": 69,
   "metadata": {
    "collapsed": false
   },
   "outputs": [
    {
     "name": "stdout",
     "output_type": "stream",
     "text": [
      "('Coefficients: \\n', array([ 938.23786125]))\n",
      "Mean squared error: 2548.07\n",
      "Variance score: 0.47\n"
     ]
    },
    {
     "data": {
      "image/png": "[encoded data removed]",
      "text/plain": [
       "<matplotlib.figure.Figure at 0x7fe3df46ca10>"
      ]
     },
     "metadata": {},
     "output_type": "display_data"
    }
   ],
   "source": [
    "47\n",
    "\n",
    "\n",
    "print(__doc__)\n",
    "\n",
    "\n",
    "# Code source: Jaques Grobler\n",
    "# License: BSD 3 clause\n",
    "\n",
    "\n",
    "import matplotlib.pyplot as plt\n",
    "import numpy as np\n",
    "from sklearn import datasets, linear_model\n",
    "\n",
    "# Load the diabetes dataset\n",
    "diabetes = datasets.load_diabetes()\n",
    "\n",
    "\n",
    "# Use only one feature\n",
    "diabetes_X = diabetes.data[:, np.newaxis, 2]\n",
    "\n",
    "# Split the data into training/testing sets\n",
    "diabetes_X_train = diabetes_X[:-20]\n",
    "diabetes_X_test = diabetes_X[-20:]\n",
    "\n",
    "# Split the targets into training/testing sets\n",
    "diabetes_y_train = diabetes.target[:-20]\n",
    "diabetes_y_test = diabetes.target[-20:]\n",
    "\n",
    "# Create linear regression object\n",
    "regr = linear_model.LinearRegression()\n",
    "\n",
    "# Train the model using the training sets\n",
    "regr.fit(diabetes_X_train, diabetes_y_train)\n",
    "\n",
    "# The coefficients\n",
    "print('Coefficients: \\n', regr.coef_)\n",
    "# The mean squared error\n",
    "print(\"Mean squared error: %.2f\"\n",
    "      % np.mean((regr.predict(diabetes_X_test) - diabetes_y_test) ** 2))\n",
    "# Explained variance score: 1 is perfect prediction\n",
    "print('Variance score: %.2f' % regr.score(diabetes_X_test, diabetes_y_test))\n",
    "\n",
    "# Plot outputs\n",
    "plt.scatter(diabetes_X_test, diabetes_y_test,  color='black')\n",
    "plt.plot(diabetes_X_test, regr.predict(diabetes_X_test), color='blue',\n",
    "         linewidth=3)\n",
    "\n",
    "plt.xticks(())\n",
    "plt.yticks(())\n",
    "\n",
    "plt.show()\n",
    "\n",
    "Total running time of the script: (0 minutes 0.095 seconds)\n",
    "Download Python source code: plot_ols.py\n",
    "Download IPython notebook: plot_ols.ipynb\n",
    "© 2010 - 2016, scikit-learn developers (BSD License). Show this page source\n",
    "Previous\n",
    "Next\n"
   ]
  },
  {
   "cell_type": "code",
   "execution_count": null,
   "metadata": {
    "collapsed": true
   },
   "outputs": [],
   "source": []
  }
 ],
 "metadata": {
  "kernelspec": {
   "display_name": "Python 2",
   "language": "python",
   "name": "python2"
  },
  "language_info": {
   "codemirror_mode": {
    "name": "ipython",
    "version": 2
   },
   "file_extension": ".py",
   "mimetype": "text/x-python",
   "name": "python",
   "nbconvert_exporter": "python",
   "pygments_lexer": "ipython2",
   "version": "2.7.12"
  }
 },
 "nbformat": 4,
 "nbformat_minor": 2
}
